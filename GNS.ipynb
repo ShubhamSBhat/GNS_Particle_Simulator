{
  "nbformat": 4,
  "nbformat_minor": 0,
  "metadata": {
    "colab": {
      "provenance": [],
      "collapsed_sections": [],
      "authorship_tag": "ABX9TyOIymkikVsM5wVrMHgPOjWI",
      "include_colab_link": true
    },
    "kernelspec": {
      "name": "python3",
      "display_name": "Python 3"
    },
    "language_info": {
      "name": "python"
    },
    "accelerator": "GPU",
    "gpuClass": "standard"
  },
  "cells": [
    {
      "cell_type": "markdown",
      "metadata": {
        "id": "view-in-github",
        "colab_type": "text"
      },
      "source": [
        "<a href=\"https://colab.research.google.com/github/ShubhamSBhat/GNS_Particle_Simulator/blob/main/GNS.ipynb\" target=\"_parent\"><img src=\"https://colab.research.google.com/assets/colab-badge.svg\" alt=\"Open In Colab\"/></a>"
      ]
    },
    {
      "cell_type": "code",
      "execution_count": 1,
      "metadata": {
        "colab": {
          "base_uri": "https://localhost:8080/"
        },
        "id": "F-JdtGW6d0_1",
        "outputId": "6f450324-717e-4339-8df8-caf281b6bc53"
      },
      "outputs": [
        {
          "output_type": "stream",
          "name": "stdout",
          "text": [
            "Mounted at /content/drive\n"
          ]
        }
      ],
      "source": [
        "from google.colab import drive\n",
        "drive.mount('/content/drive')\n"
      ]
    },
    {
      "cell_type": "code",
      "source": [
        "!git clone \"https://github.com/geoelements/gns.git\""
      ],
      "metadata": {
        "colab": {
          "base_uri": "https://localhost:8080/"
        },
        "id": "izhEM-bGfsKn",
        "outputId": "42a1d4e1-f7d6-4092-e97b-95c5d9bec7f0"
      },
      "execution_count": null,
      "outputs": [
        {
          "output_type": "stream",
          "name": "stdout",
          "text": [
            "fatal: destination path 'gns' already exists and is not an empty directory.\n"
          ]
        }
      ]
    },
    {
      "cell_type": "code",
      "source": [
        "WORK_DIR=\"/content/drive/MyDrive/\""
      ],
      "metadata": {
        "id": "C86GyDLUg_Av"
      },
      "execution_count": null,
      "outputs": []
    },
    {
      "cell_type": "code",
      "source": [
        "pwd"
      ],
      "metadata": {
        "colab": {
          "base_uri": "https://localhost:8080/",
          "height": 36
        },
        "id": "Ag4Vclc2iNpz",
        "outputId": "0ff67bd0-0125-4186-d45f-c9dc82e5bd43"
      },
      "execution_count": null,
      "outputs": [
        {
          "output_type": "execute_result",
          "data": {
            "text/plain": [
              "'/content'"
            ],
            "application/vnd.google.colaboratory.intrinsic+json": {
              "type": "string"
            }
          },
          "metadata": {},
          "execution_count": 33
        }
      ]
    },
    {
      "cell_type": "code",
      "source": [
        "cd /content/deepmind-research"
      ],
      "metadata": {
        "colab": {
          "base_uri": "https://localhost:8080/"
        },
        "id": "-rgMjz9_abAl",
        "outputId": "b2db1268-eb49-4f1e-da75-64d0d26b7fcc"
      },
      "execution_count": null,
      "outputs": [
        {
          "output_type": "stream",
          "name": "stdout",
          "text": [
            "/content/deepmind-research\n"
          ]
        }
      ]
    },
    {
      "cell_type": "code",
      "source": [
        "pwd"
      ],
      "metadata": {
        "colab": {
          "base_uri": "https://localhost:8080/",
          "height": 36
        },
        "id": "GuJJUq7abEo2",
        "outputId": "76b330ce-8e6e-43de-b7fc-b7a2f636bee5"
      },
      "execution_count": null,
      "outputs": [
        {
          "output_type": "execute_result",
          "data": {
            "text/plain": [
              "'/content'"
            ],
            "application/vnd.google.colaboratory.intrinsic+json": {
              "type": "string"
            }
          },
          "metadata": {},
          "execution_count": 6
        }
      ]
    },
    {
      "cell_type": "code",
      "source": [
        "cd learning_to_simulate/"
      ],
      "metadata": {
        "colab": {
          "base_uri": "https://localhost:8080/"
        },
        "id": "9WNm8qUUbQOa",
        "outputId": "7af367a7-74e0-4e2e-bec9-7ebb1684c67a"
      },
      "execution_count": null,
      "outputs": [
        {
          "output_type": "stream",
          "name": "stdout",
          "text": [
            "/content/deepmind-research/learning_to_simulate\n"
          ]
        }
      ]
    },
    {
      "cell_type": "code",
      "source": [
        "!pip install torch-cluster -f https://data.pyg.org/whl/torch-1.10.0+cu111.html\n",
        "!pip install torch-scatter -f https://data.pyg.org/whl/torch-1.10.0+cu111.html\n",
        "!pip install torch-sparse -f https://data.pyg.org/whl/torch-1.10.0+cu111.html\n",
        "#!pip install torch-geometric"
      ],
      "metadata": {
        "colab": {
          "base_uri": "https://localhost:8080/"
        },
        "id": "g4C_TNnfieRQ",
        "outputId": "57dbc202-3e5a-40bf-fc0a-52d6d6e54264"
      },
      "execution_count": 23,
      "outputs": [
        {
          "output_type": "stream",
          "name": "stdout",
          "text": [
            "Looking in indexes: https://pypi.org/simple, https://us-python.pkg.dev/colab-wheels/public/simple/\n",
            "Looking in links: https://data.pyg.org/whl/torch-1.10.0+cu111.html\n",
            "Collecting torch-cluster\n",
            "  Downloading https://data.pyg.org/whl/torch-1.10.0%2Bcu113/torch_cluster-1.6.0-cp37-cp37m-linux_x86_64.whl (2.5 MB)\n",
            "\u001b[K     |████████████████████████████████| 2.5 MB 287 kB/s \n",
            "\u001b[?25hInstalling collected packages: torch-cluster\n",
            "Successfully installed torch-cluster-1.6.0\n",
            "Looking in indexes: https://pypi.org/simple, https://us-python.pkg.dev/colab-wheels/public/simple/\n",
            "Looking in links: https://data.pyg.org/whl/torch-1.10.0+cu111.html\n",
            "Collecting torch-scatter\n",
            "  Downloading torch_scatter-2.1.0.tar.gz (106 kB)\n",
            "\u001b[K     |████████████████████████████████| 106 kB 27.8 MB/s \n",
            "\u001b[?25hBuilding wheels for collected packages: torch-scatter\n",
            "  Building wheel for torch-scatter (setup.py) ... \u001b[?25l\u001b[?25hdone\n",
            "  Created wheel for torch-scatter: filename=torch_scatter-2.1.0-cp37-cp37m-linux_x86_64.whl size=3062823 sha256=6433dbf1c3d468d9104725897ab9c7461469b0f1326a6020d093aceb6ddc88c3\n",
            "  Stored in directory: /root/.cache/pip/wheels/2d/d1/15/8a2f0086896d156654a843fff4bdbeaf621cdd10310a0daad2\n",
            "Successfully built torch-scatter\n",
            "Installing collected packages: torch-scatter\n",
            "Successfully installed torch-scatter-2.1.0\n",
            "Looking in indexes: https://pypi.org/simple, https://us-python.pkg.dev/colab-wheels/public/simple/\n",
            "Looking in links: https://data.pyg.org/whl/torch-1.10.0+cu111.html\n",
            "Collecting torch-sparse\n",
            "  Downloading torch_sparse-0.6.15.tar.gz (2.1 MB)\n",
            "\u001b[K     |████████████████████████████████| 2.1 MB 34.8 MB/s \n",
            "\u001b[?25hRequirement already satisfied: scipy in /usr/local/lib/python3.7/dist-packages (from torch-sparse) (1.7.3)\n",
            "Requirement already satisfied: numpy<1.23.0,>=1.16.5 in /usr/local/lib/python3.7/dist-packages (from scipy->torch-sparse) (1.18.5)\n",
            "Building wheels for collected packages: torch-sparse\n",
            "  Building wheel for torch-sparse (setup.py) ... \u001b[?25l\u001b[?25hdone\n",
            "  Created wheel for torch-sparse: filename=torch_sparse-0.6.15-cp37-cp37m-linux_x86_64.whl size=1577341 sha256=1044cb2825cb6d5ebfbd96874c39bd547ae899863d451361e62007095c0515ba\n",
            "  Stored in directory: /root/.cache/pip/wheels/15/68/4d/1414be5c2c622bad35364e13213180797717b6d4b8923936dc\n",
            "Successfully built torch-sparse\n",
            "Installing collected packages: torch-sparse\n",
            "Successfully installed torch-sparse-0.6.15\n"
          ]
        }
      ]
    },
    {
      "cell_type": "code",
      "source": [
        "cd learning_to_simulate"
      ],
      "metadata": {
        "colab": {
          "base_uri": "https://localhost:8080/"
        },
        "id": "GNSs-9N0SExQ",
        "outputId": "6ea197c0-6618-4635-f11d-2424197bce50"
      },
      "execution_count": 13,
      "outputs": [
        {
          "output_type": "stream",
          "name": "stdout",
          "text": [
            "/content/deepmind-research/learning_to_simulate\n"
          ]
        }
      ]
    },
    {
      "cell_type": "code",
      "source": [
        "pip install -r requirements.txt"
      ],
      "metadata": {
        "colab": {
          "base_uri": "https://localhost:8080/",
          "height": 1000
        },
        "id": "nLuaSIRjqLKO",
        "outputId": "2b8898e7-72ff-4baf-e57a-99d6b312c1ab"
      },
      "execution_count": 14,
      "outputs": [
        {
          "output_type": "stream",
          "name": "stdout",
          "text": [
            "Looking in indexes: https://pypi.org/simple, https://us-python.pkg.dev/colab-wheels/public/simple/\n",
            "Requirement already satisfied: absl-py in /usr/local/lib/python3.7/dist-packages (from -r requirements.txt (line 1)) (1.3.0)\n",
            "Collecting graph-nets>=1.1\n",
            "  Downloading graph_nets-1.1.0.tar.gz (76 kB)\n",
            "\u001b[K     |████████████████████████████████| 76 kB 2.9 MB/s \n",
            "\u001b[?25hCollecting tensorflow<2,>=1.15\n",
            "  Downloading tensorflow-1.15.5-cp37-cp37m-manylinux2010_x86_64.whl (110.5 MB)\n",
            "\u001b[K     |████████████████████████████████| 110.5 MB 1.1 kB/s \n",
            "\u001b[?25hRequirement already satisfied: numpy in /usr/local/lib/python3.7/dist-packages (from -r requirements.txt (line 4)) (1.21.6)\n",
            "Collecting dm-sonnet<2\n",
            "  Downloading dm_sonnet-1.36-py3-none-any.whl (665 kB)\n",
            "\u001b[K     |████████████████████████████████| 665 kB 51.8 MB/s \n",
            "\u001b[?25hCollecting tensorflow_probability<0.9\n",
            "  Downloading tensorflow_probability-0.8.0-py2.py3-none-any.whl (2.5 MB)\n",
            "\u001b[K     |████████████████████████████████| 2.5 MB 51.6 MB/s \n",
            "\u001b[?25hCollecting sklearn\n",
            "  Downloading sklearn-0.0.post1.tar.gz (3.6 kB)\n",
            "Requirement already satisfied: dm-tree in /usr/local/lib/python3.7/dist-packages (from -r requirements.txt (line 8)) (0.1.7)\n",
            "Requirement already satisfied: matplotlib in /usr/local/lib/python3.7/dist-packages (from -r requirements.txt (line 9)) (3.2.2)\n",
            "Requirement already satisfied: future in /usr/local/lib/python3.7/dist-packages (from graph-nets>=1.1->-r requirements.txt (line 2)) (0.16.0)\n",
            "Requirement already satisfied: networkx in /usr/local/lib/python3.7/dist-packages (from graph-nets>=1.1->-r requirements.txt (line 2)) (2.6.3)\n",
            "Requirement already satisfied: setuptools in /usr/local/lib/python3.7/dist-packages (from graph-nets>=1.1->-r requirements.txt (line 2)) (57.4.0)\n",
            "Requirement already satisfied: six in /usr/local/lib/python3.7/dist-packages (from graph-nets>=1.1->-r requirements.txt (line 2)) (1.15.0)\n",
            "Requirement already satisfied: wheel>=0.26 in /usr/local/lib/python3.7/dist-packages (from tensorflow<2,>=1.15->-r requirements.txt (line 3)) (0.38.4)\n",
            "Requirement already satisfied: wrapt>=1.11.1 in /usr/local/lib/python3.7/dist-packages (from tensorflow<2,>=1.15->-r requirements.txt (line 3)) (1.14.1)\n",
            "Collecting tensorboard<1.16.0,>=1.15.0\n",
            "  Downloading tensorboard-1.15.0-py3-none-any.whl (3.8 MB)\n",
            "\u001b[K     |████████████████████████████████| 3.8 MB 41.4 MB/s \n",
            "\u001b[?25hRequirement already satisfied: grpcio>=1.8.6 in /usr/local/lib/python3.7/dist-packages (from tensorflow<2,>=1.15->-r requirements.txt (line 3)) (1.50.0)\n",
            "Requirement already satisfied: opt-einsum>=2.3.2 in /usr/local/lib/python3.7/dist-packages (from tensorflow<2,>=1.15->-r requirements.txt (line 3)) (3.3.0)\n",
            "Collecting numpy\n",
            "  Downloading numpy-1.18.5-cp37-cp37m-manylinux1_x86_64.whl (20.1 MB)\n",
            "\u001b[K     |████████████████████████████████| 20.1 MB 1.3 MB/s \n",
            "\u001b[?25hRequirement already satisfied: protobuf>=3.6.1 in /usr/local/lib/python3.7/dist-packages (from tensorflow<2,>=1.15->-r requirements.txt (line 3)) (3.19.6)\n",
            "Requirement already satisfied: astor>=0.6.0 in /usr/local/lib/python3.7/dist-packages (from tensorflow<2,>=1.15->-r requirements.txt (line 3)) (0.8.1)\n",
            "Collecting gast==0.2.2\n",
            "  Downloading gast-0.2.2.tar.gz (10 kB)\n",
            "Requirement already satisfied: keras-preprocessing>=1.0.5 in /usr/local/lib/python3.7/dist-packages (from tensorflow<2,>=1.15->-r requirements.txt (line 3)) (1.1.2)\n",
            "Collecting tensorflow-estimator==1.15.1\n",
            "  Downloading tensorflow_estimator-1.15.1-py2.py3-none-any.whl (503 kB)\n",
            "\u001b[K     |████████████████████████████████| 503 kB 49.7 MB/s \n",
            "\u001b[?25hCollecting keras-applications>=1.0.8\n",
            "  Downloading Keras_Applications-1.0.8-py3-none-any.whl (50 kB)\n",
            "\u001b[K     |████████████████████████████████| 50 kB 7.3 MB/s \n",
            "\u001b[?25hRequirement already satisfied: google-pasta>=0.1.6 in /usr/local/lib/python3.7/dist-packages (from tensorflow<2,>=1.15->-r requirements.txt (line 3)) (0.2.0)\n",
            "Requirement already satisfied: termcolor>=1.1.0 in /usr/local/lib/python3.7/dist-packages (from tensorflow<2,>=1.15->-r requirements.txt (line 3)) (2.1.0)\n",
            "Collecting h5py<=2.10.0\n",
            "  Downloading h5py-2.10.0-cp37-cp37m-manylinux1_x86_64.whl (2.9 MB)\n",
            "\u001b[K     |████████████████████████████████| 2.9 MB 48.1 MB/s \n",
            "\u001b[?25hCollecting semantic-version\n",
            "  Downloading semantic_version-2.10.0-py2.py3-none-any.whl (15 kB)\n",
            "Requirement already satisfied: contextlib2 in /usr/local/lib/python3.7/dist-packages (from dm-sonnet<2->-r requirements.txt (line 5)) (0.5.5)\n",
            "Requirement already satisfied: decorator in /usr/local/lib/python3.7/dist-packages (from tensorflow_probability<0.9->-r requirements.txt (line 6)) (4.4.2)\n",
            "Collecting cloudpickle==1.1.1\n",
            "  Downloading cloudpickle-1.1.1-py2.py3-none-any.whl (17 kB)\n",
            "Requirement already satisfied: markdown>=2.6.8 in /usr/local/lib/python3.7/dist-packages (from tensorboard<1.16.0,>=1.15.0->tensorflow<2,>=1.15->-r requirements.txt (line 3)) (3.4.1)\n",
            "Requirement already satisfied: werkzeug>=0.11.15 in /usr/local/lib/python3.7/dist-packages (from tensorboard<1.16.0,>=1.15.0->tensorflow<2,>=1.15->-r requirements.txt (line 3)) (1.0.1)\n",
            "Requirement already satisfied: importlib-metadata>=4.4 in /usr/local/lib/python3.7/dist-packages (from markdown>=2.6.8->tensorboard<1.16.0,>=1.15.0->tensorflow<2,>=1.15->-r requirements.txt (line 3)) (4.13.0)\n",
            "Requirement already satisfied: zipp>=0.5 in /usr/local/lib/python3.7/dist-packages (from importlib-metadata>=4.4->markdown>=2.6.8->tensorboard<1.16.0,>=1.15.0->tensorflow<2,>=1.15->-r requirements.txt (line 3)) (3.10.0)\n",
            "Requirement already satisfied: typing-extensions>=3.6.4 in /usr/local/lib/python3.7/dist-packages (from importlib-metadata>=4.4->markdown>=2.6.8->tensorboard<1.16.0,>=1.15.0->tensorflow<2,>=1.15->-r requirements.txt (line 3)) (4.1.1)\n",
            "Requirement already satisfied: pyparsing!=2.0.4,!=2.1.2,!=2.1.6,>=2.0.1 in /usr/local/lib/python3.7/dist-packages (from matplotlib->-r requirements.txt (line 9)) (3.0.9)\n",
            "Requirement already satisfied: cycler>=0.10 in /usr/local/lib/python3.7/dist-packages (from matplotlib->-r requirements.txt (line 9)) (0.11.0)\n",
            "Requirement already satisfied: kiwisolver>=1.0.1 in /usr/local/lib/python3.7/dist-packages (from matplotlib->-r requirements.txt (line 9)) (1.4.4)\n",
            "Requirement already satisfied: python-dateutil>=2.1 in /usr/local/lib/python3.7/dist-packages (from matplotlib->-r requirements.txt (line 9)) (2.8.2)\n",
            "Building wheels for collected packages: graph-nets, gast, sklearn\n",
            "  Building wheel for graph-nets (setup.py) ... \u001b[?25l\u001b[?25hdone\n",
            "  Created wheel for graph-nets: filename=graph_nets-1.1.0-py3-none-any.whl size=91856 sha256=4296d49b7823633309fb44b6ea5d27e04bf2f0342bca6f6ef3af91f2ce1a2d23\n",
            "  Stored in directory: /root/.cache/pip/wheels/44/3d/65/f2e8f0a8d0b28bea5f168fc717261a67303d2183a3e450c812\n",
            "  Building wheel for gast (setup.py) ... \u001b[?25l\u001b[?25hdone\n",
            "  Created wheel for gast: filename=gast-0.2.2-py3-none-any.whl size=7554 sha256=e6370f84adc527b9d7342bc6d6089b36e447eb4ddffb550b2a19063ffb0eb113\n",
            "  Stored in directory: /root/.cache/pip/wheels/21/7f/02/420f32a803f7d0967b48dd823da3f558c5166991bfd204eef3\n",
            "  Building wheel for sklearn (setup.py) ... \u001b[?25l\u001b[?25hdone\n",
            "  Created wheel for sklearn: filename=sklearn-0.0.post1-py3-none-any.whl size=2344 sha256=d2b82554066ec5831baf90c046bdc723522932e4997064c41cda30197473c8eb\n",
            "  Stored in directory: /root/.cache/pip/wheels/42/56/cc/4a8bf86613aafd5b7f1b310477667c1fca5c51c3ae4124a003\n",
            "Successfully built graph-nets gast sklearn\n",
            "Installing collected packages: numpy, gast, cloudpickle, tensorflow-probability, semantic-version, h5py, tensorflow-estimator, tensorboard, keras-applications, dm-sonnet, tensorflow, sklearn, graph-nets\n",
            "  Attempting uninstall: numpy\n",
            "    Found existing installation: numpy 1.21.6\n",
            "    Uninstalling numpy-1.21.6:\n",
            "      Successfully uninstalled numpy-1.21.6\n",
            "  Attempting uninstall: gast\n",
            "    Found existing installation: gast 0.4.0\n",
            "    Uninstalling gast-0.4.0:\n",
            "      Successfully uninstalled gast-0.4.0\n",
            "  Attempting uninstall: cloudpickle\n",
            "    Found existing installation: cloudpickle 1.5.0\n",
            "    Uninstalling cloudpickle-1.5.0:\n",
            "      Successfully uninstalled cloudpickle-1.5.0\n",
            "  Attempting uninstall: tensorflow-probability\n",
            "    Found existing installation: tensorflow-probability 0.17.0\n",
            "    Uninstalling tensorflow-probability-0.17.0:\n",
            "      Successfully uninstalled tensorflow-probability-0.17.0\n",
            "  Attempting uninstall: h5py\n",
            "    Found existing installation: h5py 3.1.0\n",
            "    Uninstalling h5py-3.1.0:\n",
            "      Successfully uninstalled h5py-3.1.0\n",
            "  Attempting uninstall: tensorflow-estimator\n",
            "    Found existing installation: tensorflow-estimator 2.9.0\n",
            "    Uninstalling tensorflow-estimator-2.9.0:\n",
            "      Successfully uninstalled tensorflow-estimator-2.9.0\n",
            "  Attempting uninstall: tensorboard\n",
            "    Found existing installation: tensorboard 2.9.1\n",
            "    Uninstalling tensorboard-2.9.1:\n",
            "      Successfully uninstalled tensorboard-2.9.1\n",
            "  Attempting uninstall: tensorflow\n",
            "    Found existing installation: tensorflow 2.9.2\n",
            "    Uninstalling tensorflow-2.9.2:\n",
            "      Successfully uninstalled tensorflow-2.9.2\n",
            "\u001b[31mERROR: pip's dependency resolver does not currently take into account all the packages that are installed. This behaviour is the source of the following dependency conflicts.\n",
            "xarray-einstats 0.2.2 requires numpy>=1.21, but you have numpy 1.18.5 which is incompatible.\n",
            "tables 3.7.0 requires numpy>=1.19.0, but you have numpy 1.18.5 which is incompatible.\n",
            "plotnine 0.8.0 requires numpy>=1.19.0, but you have numpy 1.18.5 which is incompatible.\n",
            "kapre 0.3.7 requires tensorflow>=2.0.0, but you have tensorflow 1.15.5 which is incompatible.\n",
            "jaxlib 0.3.25+cuda11.cudnn805 requires numpy>=1.20, but you have numpy 1.18.5 which is incompatible.\n",
            "jax 0.3.25 requires numpy>=1.20, but you have numpy 1.18.5 which is incompatible.\n",
            "gym 0.25.2 requires cloudpickle>=1.2.0, but you have cloudpickle 1.1.1 which is incompatible.\n",
            "distributed 2022.2.0 requires cloudpickle>=1.5.0, but you have cloudpickle 1.1.1 which is incompatible.\n",
            "cmdstanpy 1.0.8 requires numpy>=1.21, but you have numpy 1.18.5 which is incompatible.\u001b[0m\n",
            "Successfully installed cloudpickle-1.1.1 dm-sonnet-1.36 gast-0.2.2 graph-nets-1.1.0 h5py-2.10.0 keras-applications-1.0.8 numpy-1.18.5 semantic-version-2.10.0 sklearn-0.0.post1 tensorboard-1.15.0 tensorflow-1.15.5 tensorflow-estimator-1.15.1 tensorflow-probability-0.8.0\n"
          ]
        },
        {
          "output_type": "display_data",
          "data": {
            "application/vnd.colab-display-data+json": {
              "pip_warning": {
                "packages": [
                  "numpy"
                ]
              }
            }
          },
          "metadata": {}
        }
      ]
    },
    {
      "cell_type": "code",
      "source": [
        "cd .."
      ],
      "metadata": {
        "id": "Wy_Cy9RoSJ4u"
      },
      "execution_count": null,
      "outputs": []
    },
    {
      "cell_type": "code",
      "source": [
        "DATASET_NAME=\"Sand\"\n",
        "!mkdir -p /content/MyDrive/models/Sand\n",
        "!mkdir -p /content/MyDrive/rollouts/Sand"
      ],
      "metadata": {
        "id": "kAj_j5p5sCni"
      },
      "execution_count": null,
      "outputs": []
    },
    {
      "cell_type": "code",
      "source": [
        "pwd"
      ],
      "metadata": {
        "colab": {
          "base_uri": "https://localhost:8080/",
          "height": 36
        },
        "id": "v2yYEqfUsTJG",
        "outputId": "537934f4-b3fe-48e8-9992-10a83f7c2c7b"
      },
      "execution_count": null,
      "outputs": [
        {
          "output_type": "execute_result",
          "data": {
            "text/plain": [
              "'/content'"
            ],
            "application/vnd.google.colaboratory.intrinsic+json": {
              "type": "string"
            }
          },
          "metadata": {},
          "execution_count": 11
        }
      ]
    },
    {
      "cell_type": "code",
      "source": [
        "\n",
        "!python3 -m gns.train --data_path=\"{WORK_DIR}/datasets/{DATASET_NAME}/\" --model_path=\"{WORK_DIR}/models/{DATASET_NAME}/\" --output_path=\"{WORK_DIR}/rollouts/{DATASET_NAME}/\" -ntraining_steps=10 -mode='train'"
      ],
      "metadata": {
        "colab": {
          "base_uri": "https://localhost:8080/"
        },
        "id": "bFWbR9wnfyws",
        "outputId": "f284bbd7-b64c-4287-a21e-828112aa4f31"
      },
      "execution_count": null,
      "outputs": [
        {
          "output_type": "stream",
          "name": "stdout",
          "text": [
            "/usr/bin/python3: No module named gns.train\n"
          ]
        }
      ]
    },
    {
      "cell_type": "markdown",
      "source": [
        "LEARNING TO SIMULATE"
      ],
      "metadata": {
        "id": "ctHuJi0S1mUx"
      }
    },
    {
      "cell_type": "code",
      "source": [
        "!git clone \"https://github.com/deepmind/deepmind-research.git\""
      ],
      "metadata": {
        "id": "-X8jTt7Fhcel",
        "colab": {
          "base_uri": "https://localhost:8080/"
        },
        "outputId": "5aee5c69-7428-420a-b7ca-6fa4cbe421ec"
      },
      "execution_count": 2,
      "outputs": [
        {
          "output_type": "stream",
          "name": "stdout",
          "text": [
            "Cloning into 'deepmind-research'...\n",
            "remote: Enumerating objects: 2663, done.\u001b[K\n",
            "remote: Total 2663 (delta 0), reused 0 (delta 0), pack-reused 2663\u001b[K\n",
            "Receiving objects: 100% (2663/2663), 91.82 MiB | 30.22 MiB/s, done.\n",
            "Resolving deltas: 100% (1390/1390), done.\n"
          ]
        }
      ]
    },
    {
      "cell_type": "code",
      "source": [
        "pwd"
      ],
      "metadata": {
        "colab": {
          "base_uri": "https://localhost:8080/",
          "height": 36
        },
        "id": "73gHPsnp1YDc",
        "outputId": "cd8a316e-467d-407b-f1c9-46dca11e1d29"
      },
      "execution_count": 3,
      "outputs": [
        {
          "output_type": "execute_result",
          "data": {
            "text/plain": [
              "'/content'"
            ],
            "application/vnd.google.colaboratory.intrinsic+json": {
              "type": "string"
            }
          },
          "metadata": {},
          "execution_count": 3
        }
      ]
    },
    {
      "cell_type": "code",
      "source": [
        "cd deepmind-research"
      ],
      "metadata": {
        "colab": {
          "base_uri": "https://localhost:8080/"
        },
        "id": "BZmalUcy1ikl",
        "outputId": "bdb2a390-f5f4-4bc3-8e91-465e61fa461d"
      },
      "execution_count": 4,
      "outputs": [
        {
          "output_type": "stream",
          "name": "stdout",
          "text": [
            "/content/deepmind-research\n"
          ]
        }
      ]
    },
    {
      "cell_type": "code",
      "source": [
        "cd learning_to_simulate"
      ],
      "metadata": {
        "colab": {
          "base_uri": "https://localhost:8080/"
        },
        "id": "t1ULXNbQ1lbm",
        "outputId": "f45b6bba-2eb2-4e4a-8b96-d697a5fa237d"
      },
      "execution_count": 5,
      "outputs": [
        {
          "output_type": "stream",
          "name": "stdout",
          "text": [
            "/content/deepmind-research/learning_to_simulate\n"
          ]
        }
      ]
    },
    {
      "cell_type": "code",
      "source": [
        "!pip install -r requirements.txt\n",
        "\n"
      ],
      "metadata": {
        "colab": {
          "base_uri": "https://localhost:8080/",
          "height": 1000
        },
        "id": "nO3eoahz1vub",
        "outputId": "cec8d560-ca0e-4be8-c75e-fe0086ba334e"
      },
      "execution_count": 9,
      "outputs": [
        {
          "output_type": "stream",
          "name": "stdout",
          "text": [
            "Looking in indexes: https://pypi.org/simple, https://us-python.pkg.dev/colab-wheels/public/simple/\n",
            "Requirement already satisfied: absl-py in /usr/local/lib/python3.7/dist-packages (from -r requirements.txt (line 1)) (1.3.0)\n",
            "Collecting graph-nets>=1.1\n",
            "  Downloading graph_nets-1.1.0.tar.gz (76 kB)\n",
            "\u001b[K     |████████████████████████████████| 76 kB 6.1 MB/s \n",
            "\u001b[?25hCollecting tensorflow<2,>=1.15\n",
            "  Downloading tensorflow-1.15.5-cp37-cp37m-manylinux2010_x86_64.whl (110.5 MB)\n",
            "\u001b[K     |████████████████████████████████| 110.5 MB 1.7 kB/s \n",
            "\u001b[?25hRequirement already satisfied: numpy in /usr/local/lib/python3.7/dist-packages (from -r requirements.txt (line 4)) (1.21.6)\n",
            "Collecting dm-sonnet<2\n",
            "  Downloading dm_sonnet-1.36-py3-none-any.whl (665 kB)\n",
            "\u001b[K     |████████████████████████████████| 665 kB 38.2 MB/s \n",
            "\u001b[?25hCollecting tensorflow_probability<0.9\n",
            "  Downloading tensorflow_probability-0.8.0-py2.py3-none-any.whl (2.5 MB)\n",
            "\u001b[K     |████████████████████████████████| 2.5 MB 63.7 MB/s \n",
            "\u001b[?25hCollecting sklearn\n",
            "  Downloading sklearn-0.0.post1.tar.gz (3.6 kB)\n",
            "Requirement already satisfied: dm-tree in /usr/local/lib/python3.7/dist-packages (from -r requirements.txt (line 8)) (0.1.7)\n",
            "Requirement already satisfied: matplotlib in /usr/local/lib/python3.7/dist-packages (from -r requirements.txt (line 9)) (3.2.2)\n",
            "Requirement already satisfied: future in /usr/local/lib/python3.7/dist-packages (from graph-nets>=1.1->-r requirements.txt (line 2)) (0.16.0)\n",
            "Requirement already satisfied: networkx in /usr/local/lib/python3.7/dist-packages (from graph-nets>=1.1->-r requirements.txt (line 2)) (2.6.3)\n",
            "Requirement already satisfied: setuptools in /usr/local/lib/python3.7/dist-packages (from graph-nets>=1.1->-r requirements.txt (line 2)) (57.4.0)\n",
            "Requirement already satisfied: six in /usr/local/lib/python3.7/dist-packages (from graph-nets>=1.1->-r requirements.txt (line 2)) (1.15.0)\n",
            "Collecting keras-applications>=1.0.8\n",
            "  Downloading Keras_Applications-1.0.8-py3-none-any.whl (50 kB)\n",
            "\u001b[K     |████████████████████████████████| 50 kB 7.6 MB/s \n",
            "\u001b[?25hRequirement already satisfied: opt-einsum>=2.3.2 in /usr/local/lib/python3.7/dist-packages (from tensorflow<2,>=1.15->-r requirements.txt (line 3)) (3.3.0)\n",
            "Collecting tensorflow-estimator==1.15.1\n",
            "  Downloading tensorflow_estimator-1.15.1-py2.py3-none-any.whl (503 kB)\n",
            "\u001b[K     |████████████████████████████████| 503 kB 69.7 MB/s \n",
            "\u001b[?25hRequirement already satisfied: google-pasta>=0.1.6 in /usr/local/lib/python3.7/dist-packages (from tensorflow<2,>=1.15->-r requirements.txt (line 3)) (0.2.0)\n",
            "Requirement already satisfied: wrapt>=1.11.1 in /usr/local/lib/python3.7/dist-packages (from tensorflow<2,>=1.15->-r requirements.txt (line 3)) (1.14.1)\n",
            "Collecting h5py<=2.10.0\n",
            "  Downloading h5py-2.10.0-cp37-cp37m-manylinux1_x86_64.whl (2.9 MB)\n",
            "\u001b[K     |████████████████████████████████| 2.9 MB 64.2 MB/s \n",
            "\u001b[?25hRequirement already satisfied: grpcio>=1.8.6 in /usr/local/lib/python3.7/dist-packages (from tensorflow<2,>=1.15->-r requirements.txt (line 3)) (1.50.0)\n",
            "Collecting tensorboard<1.16.0,>=1.15.0\n",
            "  Downloading tensorboard-1.15.0-py3-none-any.whl (3.8 MB)\n",
            "\u001b[K     |████████████████████████████████| 3.8 MB 64.0 MB/s \n",
            "\u001b[?25hRequirement already satisfied: termcolor>=1.1.0 in /usr/local/lib/python3.7/dist-packages (from tensorflow<2,>=1.15->-r requirements.txt (line 3)) (2.1.0)\n",
            "Requirement already satisfied: wheel>=0.26 in /usr/local/lib/python3.7/dist-packages (from tensorflow<2,>=1.15->-r requirements.txt (line 3)) (0.38.4)\n",
            "Collecting gast==0.2.2\n",
            "  Downloading gast-0.2.2.tar.gz (10 kB)\n",
            "Collecting numpy\n",
            "  Downloading numpy-1.18.5-cp37-cp37m-manylinux1_x86_64.whl (20.1 MB)\n",
            "\u001b[K     |████████████████████████████████| 20.1 MB 1.2 MB/s \n",
            "\u001b[?25hRequirement already satisfied: protobuf>=3.6.1 in /usr/local/lib/python3.7/dist-packages (from tensorflow<2,>=1.15->-r requirements.txt (line 3)) (3.19.6)\n",
            "Requirement already satisfied: astor>=0.6.0 in /usr/local/lib/python3.7/dist-packages (from tensorflow<2,>=1.15->-r requirements.txt (line 3)) (0.8.1)\n",
            "Requirement already satisfied: keras-preprocessing>=1.0.5 in /usr/local/lib/python3.7/dist-packages (from tensorflow<2,>=1.15->-r requirements.txt (line 3)) (1.1.2)\n",
            "Requirement already satisfied: contextlib2 in /usr/local/lib/python3.7/dist-packages (from dm-sonnet<2->-r requirements.txt (line 5)) (0.5.5)\n",
            "Collecting semantic-version\n",
            "  Downloading semantic_version-2.10.0-py2.py3-none-any.whl (15 kB)\n",
            "Collecting cloudpickle==1.1.1\n",
            "  Downloading cloudpickle-1.1.1-py2.py3-none-any.whl (17 kB)\n",
            "Requirement already satisfied: decorator in /usr/local/lib/python3.7/dist-packages (from tensorflow_probability<0.9->-r requirements.txt (line 6)) (4.4.2)\n",
            "Requirement already satisfied: werkzeug>=0.11.15 in /usr/local/lib/python3.7/dist-packages (from tensorboard<1.16.0,>=1.15.0->tensorflow<2,>=1.15->-r requirements.txt (line 3)) (1.0.1)\n",
            "Requirement already satisfied: markdown>=2.6.8 in /usr/local/lib/python3.7/dist-packages (from tensorboard<1.16.0,>=1.15.0->tensorflow<2,>=1.15->-r requirements.txt (line 3)) (3.4.1)\n",
            "Requirement already satisfied: importlib-metadata>=4.4 in /usr/local/lib/python3.7/dist-packages (from markdown>=2.6.8->tensorboard<1.16.0,>=1.15.0->tensorflow<2,>=1.15->-r requirements.txt (line 3)) (4.13.0)\n",
            "Requirement already satisfied: typing-extensions>=3.6.4 in /usr/local/lib/python3.7/dist-packages (from importlib-metadata>=4.4->markdown>=2.6.8->tensorboard<1.16.0,>=1.15.0->tensorflow<2,>=1.15->-r requirements.txt (line 3)) (4.1.1)\n",
            "Requirement already satisfied: zipp>=0.5 in /usr/local/lib/python3.7/dist-packages (from importlib-metadata>=4.4->markdown>=2.6.8->tensorboard<1.16.0,>=1.15.0->tensorflow<2,>=1.15->-r requirements.txt (line 3)) (3.10.0)\n",
            "Requirement already satisfied: kiwisolver>=1.0.1 in /usr/local/lib/python3.7/dist-packages (from matplotlib->-r requirements.txt (line 9)) (1.4.4)\n",
            "Requirement already satisfied: cycler>=0.10 in /usr/local/lib/python3.7/dist-packages (from matplotlib->-r requirements.txt (line 9)) (0.11.0)\n",
            "Requirement already satisfied: pyparsing!=2.0.4,!=2.1.2,!=2.1.6,>=2.0.1 in /usr/local/lib/python3.7/dist-packages (from matplotlib->-r requirements.txt (line 9)) (3.0.9)\n",
            "Requirement already satisfied: python-dateutil>=2.1 in /usr/local/lib/python3.7/dist-packages (from matplotlib->-r requirements.txt (line 9)) (2.8.2)\n",
            "Building wheels for collected packages: graph-nets, gast, sklearn\n",
            "  Building wheel for graph-nets (setup.py) ... \u001b[?25l\u001b[?25hdone\n",
            "  Created wheel for graph-nets: filename=graph_nets-1.1.0-py3-none-any.whl size=91856 sha256=079f5d3c6519ea357802ba3b2399831c7f62581aa9c25dfe356fddec1f495954\n",
            "  Stored in directory: /root/.cache/pip/wheels/44/3d/65/f2e8f0a8d0b28bea5f168fc717261a67303d2183a3e450c812\n",
            "  Building wheel for gast (setup.py) ... \u001b[?25l\u001b[?25hdone\n",
            "  Created wheel for gast: filename=gast-0.2.2-py3-none-any.whl size=7554 sha256=7ff08cc9b22aa48ddad23b6782b7edfad082229d5d445a941d2bee007f9be9ca\n",
            "  Stored in directory: /root/.cache/pip/wheels/21/7f/02/420f32a803f7d0967b48dd823da3f558c5166991bfd204eef3\n",
            "  Building wheel for sklearn (setup.py) ... \u001b[?25l\u001b[?25hdone\n",
            "  Created wheel for sklearn: filename=sklearn-0.0.post1-py3-none-any.whl size=2344 sha256=ff3a872e9ad6433dfe9faf3deaf11235d8a4074d1bd8ce4d72399bcfe2f1c536\n",
            "  Stored in directory: /root/.cache/pip/wheels/42/56/cc/4a8bf86613aafd5b7f1b310477667c1fca5c51c3ae4124a003\n",
            "Successfully built graph-nets gast sklearn\n",
            "Installing collected packages: numpy, gast, cloudpickle, tensorflow-probability, semantic-version, h5py, tensorflow-estimator, tensorboard, keras-applications, dm-sonnet, tensorflow, sklearn, graph-nets\n",
            "  Attempting uninstall: numpy\n",
            "    Found existing installation: numpy 1.21.6\n",
            "    Uninstalling numpy-1.21.6:\n",
            "      Successfully uninstalled numpy-1.21.6\n",
            "  Attempting uninstall: gast\n",
            "    Found existing installation: gast 0.4.0\n",
            "    Uninstalling gast-0.4.0:\n",
            "      Successfully uninstalled gast-0.4.0\n",
            "  Attempting uninstall: cloudpickle\n",
            "    Found existing installation: cloudpickle 1.5.0\n",
            "    Uninstalling cloudpickle-1.5.0:\n",
            "      Successfully uninstalled cloudpickle-1.5.0\n",
            "  Attempting uninstall: tensorflow-probability\n",
            "    Found existing installation: tensorflow-probability 0.17.0\n",
            "    Uninstalling tensorflow-probability-0.17.0:\n",
            "      Successfully uninstalled tensorflow-probability-0.17.0\n",
            "  Attempting uninstall: h5py\n",
            "    Found existing installation: h5py 3.1.0\n",
            "    Uninstalling h5py-3.1.0:\n",
            "      Successfully uninstalled h5py-3.1.0\n",
            "  Attempting uninstall: tensorflow-estimator\n",
            "    Found existing installation: tensorflow-estimator 2.9.0\n",
            "    Uninstalling tensorflow-estimator-2.9.0:\n",
            "      Successfully uninstalled tensorflow-estimator-2.9.0\n",
            "  Attempting uninstall: tensorboard\n",
            "    Found existing installation: tensorboard 2.9.1\n",
            "    Uninstalling tensorboard-2.9.1:\n",
            "      Successfully uninstalled tensorboard-2.9.1\n",
            "  Attempting uninstall: tensorflow\n",
            "    Found existing installation: tensorflow 2.9.2\n",
            "    Uninstalling tensorflow-2.9.2:\n",
            "      Successfully uninstalled tensorflow-2.9.2\n",
            "\u001b[31mERROR: pip's dependency resolver does not currently take into account all the packages that are installed. This behaviour is the source of the following dependency conflicts.\n",
            "xarray-einstats 0.2.2 requires numpy>=1.21, but you have numpy 1.18.5 which is incompatible.\n",
            "tables 3.7.0 requires numpy>=1.19.0, but you have numpy 1.18.5 which is incompatible.\n",
            "plotnine 0.8.0 requires numpy>=1.19.0, but you have numpy 1.18.5 which is incompatible.\n",
            "kapre 0.3.7 requires tensorflow>=2.0.0, but you have tensorflow 1.15.5 which is incompatible.\n",
            "jaxlib 0.3.25+cuda11.cudnn805 requires numpy>=1.20, but you have numpy 1.18.5 which is incompatible.\n",
            "jax 0.3.25 requires numpy>=1.20, but you have numpy 1.18.5 which is incompatible.\n",
            "gym 0.25.2 requires cloudpickle>=1.2.0, but you have cloudpickle 1.1.1 which is incompatible.\n",
            "distributed 2022.2.0 requires cloudpickle>=1.5.0, but you have cloudpickle 1.1.1 which is incompatible.\n",
            "cupy-cuda11x 11.0.0 requires numpy<1.26,>=1.20, but you have numpy 1.18.5 which is incompatible.\n",
            "cmdstanpy 1.0.8 requires numpy>=1.21, but you have numpy 1.18.5 which is incompatible.\u001b[0m\n",
            "Successfully installed cloudpickle-1.1.1 dm-sonnet-1.36 gast-0.2.2 graph-nets-1.1.0 h5py-2.10.0 keras-applications-1.0.8 numpy-1.18.5 semantic-version-2.10.0 sklearn-0.0.post1 tensorboard-1.15.0 tensorflow-1.15.5 tensorflow-estimator-1.15.1 tensorflow-probability-0.8.0\n"
          ]
        },
        {
          "output_type": "display_data",
          "data": {
            "application/vnd.colab-display-data+json": {
              "pip_warning": {
                "packages": [
                  "numpy"
                ]
              }
            }
          },
          "metadata": {}
        }
      ]
    },
    {
      "cell_type": "code",
      "source": [
        "!mkdir -p /content/datasets"
      ],
      "metadata": {
        "id": "2StZIaHy2H6R"
      },
      "execution_count": 6,
      "outputs": []
    },
    {
      "cell_type": "code",
      "source": [
        "cd learning_to_simulate"
      ],
      "metadata": {
        "colab": {
          "base_uri": "https://localhost:8080/"
        },
        "id": "-Itc1OwamHQA",
        "outputId": "7b4c9735-324f-4188-a483-6e028e40b06b"
      },
      "execution_count": 12,
      "outputs": [
        {
          "output_type": "stream",
          "name": "stdout",
          "text": [
            "[Errno 2] No such file or directory: 'learning_to_simulate'\n",
            "/content/deepmind-research/learning_to_simulate\n"
          ]
        }
      ]
    },
    {
      "cell_type": "code",
      "source": [
        "DATASET_NAME=\"Goop\""
      ],
      "metadata": {
        "id": "NtdD1uB13XrK"
      },
      "execution_count": 42,
      "outputs": []
    },
    {
      "cell_type": "code",
      "source": [
        "DATASET_NAME=\"1\"\n",
        "OUTPUT_DIR=\"3/Goop\"\n",
        "\n",
        "BASE_URL=\"https://storage.googleapis.com/learning-to-simulate-complex-physics/Datasets/Goop/\"\n",
        "\n",
        "!mkdir -p \"$OUTPUT_DIR\"\n",
        "for file in [\"metadata.json\", \"train.tfrecord\", \"valid.tfrecord\", \"test.tfrecord\"]:\n",
        "  !wget -O \"$OUTPUT_DIR/$file\" \"$BASE_URL$file\""
      ],
      "metadata": {
        "colab": {
          "base_uri": "https://localhost:8080/"
        },
        "id": "TmrKZanK5b2S",
        "outputId": "64b40b2b-413b-4707-e6b0-1d0c7d990a78"
      },
      "execution_count": 43,
      "outputs": [
        {
          "output_type": "stream",
          "name": "stdout",
          "text": [
            "--2022-11-27 10:41:00--  https://storage.googleapis.com/learning-to-simulate-complex-physics/Datasets/Goop/metadata.json\n",
            "Resolving storage.googleapis.com (storage.googleapis.com)... 74.125.134.128, 173.194.210.128, 173.194.211.128, ...\n",
            "Connecting to storage.googleapis.com (storage.googleapis.com)|74.125.134.128|:443... connected.\n",
            "HTTP request sent, awaiting response... 200 OK\n",
            "Length: 362 [application/octet-stream]\n",
            "Saving to: ‘3/Goop/metadata.json’\n",
            "\n",
            "\r3/Goop/metadata.jso   0%[                    ]       0  --.-KB/s               \r3/Goop/metadata.jso 100%[===================>]     362  --.-KB/s    in 0s      \n",
            "\n",
            "2022-11-27 10:41:00 (52.0 MB/s) - ‘3/Goop/metadata.json’ saved [362/362]\n",
            "\n",
            "--2022-11-27 10:41:00--  https://storage.googleapis.com/learning-to-simulate-complex-physics/Datasets/Goop/train.tfrecord\n",
            "Resolving storage.googleapis.com (storage.googleapis.com)... 74.125.134.128, 173.194.210.128, 173.194.211.128, ...\n",
            "Connecting to storage.googleapis.com (storage.googleapis.com)|74.125.134.128|:443... connected.\n",
            "HTTP request sent, awaiting response... 200 OK\n",
            "Length: 3358535518 (3.1G) [application/octet-stream]\n",
            "Saving to: ‘3/Goop/train.tfrecord’\n",
            "\n",
            "3/Goop/train.tfreco 100%[===================>]   3.13G   134MB/s    in 31s     \n",
            "\n",
            "2022-11-27 10:41:32 (103 MB/s) - ‘3/Goop/train.tfrecord’ saved [3358535518/3358535518]\n",
            "\n",
            "--2022-11-27 10:41:32--  https://storage.googleapis.com/learning-to-simulate-complex-physics/Datasets/Goop/valid.tfrecord\n",
            "Resolving storage.googleapis.com (storage.googleapis.com)... 172.217.193.128, 172.217.203.128, 172.253.123.128, ...\n",
            "Connecting to storage.googleapis.com (storage.googleapis.com)|172.217.193.128|:443... connected.\n",
            "HTTP request sent, awaiting response... 200 OK\n",
            "Length: 93682221 (89M) [application/octet-stream]\n",
            "Saving to: ‘3/Goop/valid.tfrecord’\n",
            "\n",
            "3/Goop/valid.tfreco 100%[===================>]  89.34M   155MB/s    in 0.6s    \n",
            "\n",
            "2022-11-27 10:41:32 (155 MB/s) - ‘3/Goop/valid.tfrecord’ saved [93682221/93682221]\n",
            "\n",
            "--2022-11-27 10:41:33--  https://storage.googleapis.com/learning-to-simulate-complex-physics/Datasets/Goop/test.tfrecord\n",
            "Resolving storage.googleapis.com (storage.googleapis.com)... 172.217.193.128, 172.217.203.128, 172.253.123.128, ...\n",
            "Connecting to storage.googleapis.com (storage.googleapis.com)|172.217.193.128|:443... connected.\n",
            "HTTP request sent, awaiting response... 200 OK\n",
            "Length: 101783328 (97M) [application/octet-stream]\n",
            "Saving to: ‘3/Goop/test.tfrecord’\n",
            "\n",
            "3/Goop/test.tfrecor 100%[===================>]  97.07M   156MB/s    in 0.6s    \n",
            "\n",
            "2022-11-27 10:41:33 (156 MB/s) - ‘3/Goop/test.tfrecord’ saved [101783328/101783328]\n",
            "\n"
          ]
        }
      ]
    },
    {
      "cell_type": "code",
      "source": [
        "pwd"
      ],
      "metadata": {
        "colab": {
          "base_uri": "https://localhost:8080/",
          "height": 36
        },
        "id": "WOKo3VFh22XR",
        "outputId": "a56849c9-2a35-47df-810a-361dd3f799c4"
      },
      "execution_count": 15,
      "outputs": [
        {
          "output_type": "execute_result",
          "data": {
            "text/plain": [
              "'/content/deepmind-research/learning_to_simulate'"
            ],
            "application/vnd.google.colaboratory.intrinsic+json": {
              "type": "string"
            }
          },
          "metadata": {},
          "execution_count": 15
        }
      ]
    },
    {
      "cell_type": "code",
      "source": [
        "ls\n"
      ],
      "metadata": {
        "colab": {
          "base_uri": "https://localhost:8080/"
        },
        "id": "HYqWu6KX3Pmc",
        "outputId": "850564bf-9ca3-44c8-f5d5-04838b8127e4"
      },
      "execution_count": 11,
      "outputs": [
        {
          "output_type": "stream",
          "name": "stdout",
          "text": [
            "\u001b[0m\u001b[01;34m3\u001b[0m/                     \u001b[01;34mimages\u001b[0m/               reading_utils.py   \u001b[01;32mrun.sh\u001b[0m*\n",
            "connectivity_utils.py  learned_simulator.py  README.md          train.py\n",
            "\u001b[01;32mdownload_dataset.sh\u001b[0m*   model_demo.py         render_rollout.py\n",
            "graph_network.py       noise_utils.py        requirements.txt\n"
          ]
        }
      ]
    },
    {
      "cell_type": "code",
      "source": [
        "cd .."
      ],
      "metadata": {
        "colab": {
          "base_uri": "https://localhost:8080/"
        },
        "id": "aJd8HOtf8eDe",
        "outputId": "75c01297-fd0a-49a0-9e6d-b991bfc54dd4"
      },
      "execution_count": 9,
      "outputs": [
        {
          "output_type": "stream",
          "name": "stdout",
          "text": [
            "/content/deepmind-research\n"
          ]
        }
      ]
    },
    {
      "cell_type": "code",
      "source": [
        "!mkdir -p /content/models"
      ],
      "metadata": {
        "id": "uUlQMux_8rA7"
      },
      "execution_count": 10,
      "outputs": []
    },
    {
      "cell_type": "code",
      "source": [
        "pwd"
      ],
      "metadata": {
        "colab": {
          "base_uri": "https://localhost:8080/",
          "height": 36
        },
        "id": "hohPnYHR82O0",
        "outputId": "f6e5cad2-8127-4a47-d04c-f9774208108b"
      },
      "execution_count": 17,
      "outputs": [
        {
          "output_type": "execute_result",
          "data": {
            "text/plain": [
              "'/content/deepmind-research'"
            ],
            "application/vnd.google.colaboratory.intrinsic+json": {
              "type": "string"
            }
          },
          "metadata": {},
          "execution_count": 17
        }
      ]
    },
    {
      "cell_type": "code",
      "source": [
        "cd deepmind-research"
      ],
      "metadata": {
        "colab": {
          "base_uri": "https://localhost:8080/"
        },
        "id": "TGHD0a8J6bdE",
        "outputId": "59bb2c5f-c013-4bba-87da-85e9c47d3843"
      },
      "execution_count": null,
      "outputs": [
        {
          "output_type": "stream",
          "name": "stdout",
          "text": [
            "/content/deepmind-research\n"
          ]
        }
      ]
    },
    {
      "cell_type": "code",
      "source": [
        "pwd"
      ],
      "metadata": {
        "colab": {
          "base_uri": "https://localhost:8080/",
          "height": 36
        },
        "id": "_ODC3YjUDQ3J",
        "outputId": "b6208c0d-0a92-44c0-c69b-f8432962952c"
      },
      "execution_count": null,
      "outputs": [
        {
          "output_type": "execute_result",
          "data": {
            "text/plain": [
              "'/content/deepmind-research'"
            ],
            "application/vnd.google.colaboratory.intrinsic+json": {
              "type": "string"
            }
          },
          "metadata": {},
          "execution_count": 9
        }
      ]
    },
    {
      "cell_type": "code",
      "source": [
        "pwd"
      ],
      "metadata": {
        "colab": {
          "base_uri": "https://localhost:8080/",
          "height": 36
        },
        "id": "iQPu5CWw7R3E",
        "outputId": "2c734cd5-e4b9-41db-8cfa-9c5feb4e6943"
      },
      "execution_count": null,
      "outputs": [
        {
          "output_type": "execute_result",
          "data": {
            "text/plain": [
              "'/content/deepmind-research'"
            ],
            "application/vnd.google.colaboratory.intrinsic+json": {
              "type": "string"
            }
          },
          "metadata": {},
          "execution_count": 12
        }
      ]
    },
    {
      "cell_type": "code",
      "source": [
        "cd deepmind-research"
      ],
      "metadata": {
        "colab": {
          "base_uri": "https://localhost:8080/"
        },
        "id": "hl21t0f77fUL",
        "outputId": "3cbf1107-7c05-4796-db1d-c82dd8ea75a6"
      },
      "execution_count": null,
      "outputs": [
        {
          "output_type": "stream",
          "name": "stdout",
          "text": [
            "/content/deepmind-research\n"
          ]
        }
      ]
    },
    {
      "cell_type": "code",
      "source": [
        "cd .."
      ],
      "metadata": {
        "colab": {
          "base_uri": "https://localhost:8080/"
        },
        "id": "T0mu65tM8GAr",
        "outputId": "19af256f-2306-4254-df04-96fab950efc4"
      },
      "execution_count": 16,
      "outputs": [
        {
          "output_type": "stream",
          "name": "stdout",
          "text": [
            "/content/deepmind-research\n"
          ]
        }
      ]
    },
    {
      "cell_type": "code",
      "source": [
        "import os"
      ],
      "metadata": {
        "id": "NakKqr7aA7FV"
      },
      "execution_count": 15,
      "outputs": []
    },
    {
      "cell_type": "code",
      "source": [
        "!python -m learning_to_simulate.train \\\n",
        "    --data_path= /content/deepmind-research/learning_to_simulate/3/Goop/metadata.json \\\n",
        "    --model_path= /content/models/Goop"
      ],
      "metadata": {
        "colab": {
          "base_uri": "https://localhost:8080/"
        },
        "id": "Gf-mGQwR6iWC",
        "outputId": "9d42da65-a6dc-4ad9-9904-1451abf0d5fb"
      },
      "execution_count": 44,
      "outputs": [
        {
          "output_type": "stream",
          "name": "stdout",
          "text": [
            "WARNING:tensorflow:From /usr/local/lib/python3.7/dist-packages/tensorflow_core/python/compat/v2_compat.py:68: disable_resource_variables (from tensorflow.python.ops.variable_scope) is deprecated and will be removed in a future version.\n",
            "Instructions for updating:\n",
            "non-resource variables are not supported in the long term\n",
            "INFO:tensorflow:Using default config.\n",
            "I1127 10:43:29.128116 139904407041920 estimator.py:1800] Using default config.\n",
            "WARNING:tensorflow:Using temporary folder as model directory: /tmp/tmp0mqcsaok\n",
            "W1127 10:43:29.129081 139904407041920 estimator.py:1821] Using temporary folder as model directory: /tmp/tmp0mqcsaok\n",
            "INFO:tensorflow:Using config: {'_model_dir': '/tmp/tmp0mqcsaok', '_tf_random_seed': None, '_save_summary_steps': 100, '_save_checkpoints_steps': None, '_save_checkpoints_secs': 600, '_session_config': allow_soft_placement: true\n",
            "graph_options {\n",
            "  rewrite_options {\n",
            "    meta_optimizer_iterations: ONE\n",
            "  }\n",
            "}\n",
            ", '_keep_checkpoint_max': 5, '_keep_checkpoint_every_n_hours': 10000, '_log_step_count_steps': 100, '_train_distribute': None, '_device_fn': None, '_protocol': None, '_eval_distribute': None, '_experimental_distribute': None, '_experimental_max_worker_delay_secs': None, '_session_creation_timeout_secs': 7200, '_service': None, '_cluster_spec': <tensorflow.python.training.server_lib.ClusterSpec object at 0x7f3dc7fbe790>, '_task_type': 'worker', '_task_id': 0, '_global_id_in_cluster': 0, '_master': '', '_evaluation_master': '', '_is_chief': True, '_num_ps_replicas': 0, '_num_worker_replicas': 1}\n",
            "I1127 10:43:29.129873 139904407041920 estimator.py:212] Using config: {'_model_dir': '/tmp/tmp0mqcsaok', '_tf_random_seed': None, '_save_summary_steps': 100, '_save_checkpoints_steps': None, '_save_checkpoints_secs': 600, '_session_config': allow_soft_placement: true\n",
            "graph_options {\n",
            "  rewrite_options {\n",
            "    meta_optimizer_iterations: ONE\n",
            "  }\n",
            "}\n",
            ", '_keep_checkpoint_max': 5, '_keep_checkpoint_every_n_hours': 10000, '_log_step_count_steps': 100, '_train_distribute': None, '_device_fn': None, '_protocol': None, '_eval_distribute': None, '_experimental_distribute': None, '_experimental_max_worker_delay_secs': None, '_session_creation_timeout_secs': 7200, '_service': None, '_cluster_spec': <tensorflow.python.training.server_lib.ClusterSpec object at 0x7f3dc7fbe790>, '_task_type': 'worker', '_task_id': 0, '_global_id_in_cluster': 0, '_master': '', '_evaluation_master': '', '_is_chief': True, '_num_ps_replicas': 0, '_num_worker_replicas': 1}\n",
            "WARNING:tensorflow:From /usr/local/lib/python3.7/dist-packages/tensorflow_core/python/training/training_util.py:236: Variable.initialized_value (from tensorflow.python.ops.variables) is deprecated and will be removed in a future version.\n",
            "Instructions for updating:\n",
            "Use Variable.read_value. Variables in 2.X are initialized automatically both in eager and graph (inside tf.defun) contexts.\n",
            "W1127 10:43:29.136806 139904407041920 deprecation.py:323] From /usr/local/lib/python3.7/dist-packages/tensorflow_core/python/training/training_util.py:236: Variable.initialized_value (from tensorflow.python.ops.variables) is deprecated and will be removed in a future version.\n",
            "Instructions for updating:\n",
            "Use Variable.read_value. Variables in 2.X are initialized automatically both in eager and graph (inside tf.defun) contexts.\n",
            "WARNING:tensorflow:Entity <function _yield_value at 0x7f3dd700ba70> appears to be a generator function. It will not be converted by AutoGraph.\n",
            "W1127 10:43:31.832938 139904407041920 ag_logging.py:146] Entity <function _yield_value at 0x7f3dd700ba70> appears to be a generator function. It will not be converted by AutoGraph.\n",
            "INFO:tensorflow:Calling model_fn.\n",
            "I1127 10:43:32.539456 139904407041920 estimator.py:1148] Calling model_fn.\n",
            "WARNING:tensorflow:From /usr/local/lib/python3.7/dist-packages/tensorflow_core/python/ops/resource_variable_ops.py:1630: calling BaseResourceVariable.__init__ (from tensorflow.python.ops.resource_variable_ops) with constraint is deprecated and will be removed in a future version.\n",
            "Instructions for updating:\n",
            "If using Keras pass *_constraint arguments to layers.\n",
            "W1127 10:43:32.617475 139904407041920 deprecation.py:506] From /usr/local/lib/python3.7/dist-packages/tensorflow_core/python/ops/resource_variable_ops.py:1630: calling BaseResourceVariable.__init__ (from tensorflow.python.ops.resource_variable_ops) with constraint is deprecated and will be removed in a future version.\n",
            "Instructions for updating:\n",
            "If using Keras pass *_constraint arguments to layers.\n",
            "WARNING:tensorflow:From /usr/local/lib/python3.7/dist-packages/sonnet/python/modules/basic.py:127: calling TruncatedNormal.__init__ (from tensorflow.python.ops.init_ops) with dtype is deprecated and will be removed in a future version.\n",
            "Instructions for updating:\n",
            "Call initializer instance with the dtype argument instead of passing it to the constructor\n",
            "W1127 10:43:32.685643 139904407041920 deprecation.py:506] From /usr/local/lib/python3.7/dist-packages/sonnet/python/modules/basic.py:127: calling TruncatedNormal.__init__ (from tensorflow.python.ops.init_ops) with dtype is deprecated and will be removed in a future version.\n",
            "Instructions for updating:\n",
            "Call initializer instance with the dtype argument instead of passing it to the constructor\n",
            "WARNING:tensorflow:From /usr/local/lib/python3.7/dist-packages/sonnet/python/modules/basic.py:132: calling Zeros.__init__ (from tensorflow.python.ops.init_ops) with dtype is deprecated and will be removed in a future version.\n",
            "Instructions for updating:\n",
            "Call initializer instance with the dtype argument instead of passing it to the constructor\n",
            "W1127 10:43:32.686075 139904407041920 deprecation.py:506] From /usr/local/lib/python3.7/dist-packages/sonnet/python/modules/basic.py:132: calling Zeros.__init__ (from tensorflow.python.ops.init_ops) with dtype is deprecated and will be removed in a future version.\n",
            "Instructions for updating:\n",
            "Call initializer instance with the dtype argument instead of passing it to the constructor\n",
            "WARNING:tensorflow:From /content/deepmind-research/learning_to_simulate/train.py:348: where (from tensorflow.python.ops.array_ops) is deprecated and will be removed in a future version.\n",
            "Instructions for updating:\n",
            "Use tf.where in 2.0, which has the same broadcast rule as np.where\n",
            "W1127 10:43:34.364392 139904407041920 deprecation.py:323] From /content/deepmind-research/learning_to_simulate/train.py:348: where (from tensorflow.python.ops.array_ops) is deprecated and will be removed in a future version.\n",
            "Instructions for updating:\n",
            "Use tf.where in 2.0, which has the same broadcast rule as np.where\n",
            "/usr/local/lib/python3.7/dist-packages/tensorflow_core/python/framework/indexed_slices.py:424: UserWarning: Converting sparse IndexedSlices to a dense Tensor of unknown shape. This may consume a large amount of memory.\n",
            "  \"Converting sparse IndexedSlices to a dense Tensor of unknown shape. \"\n",
            "/usr/local/lib/python3.7/dist-packages/tensorflow_core/python/framework/indexed_slices.py:424: UserWarning: Converting sparse IndexedSlices to a dense Tensor of unknown shape. This may consume a large amount of memory.\n",
            "  \"Converting sparse IndexedSlices to a dense Tensor of unknown shape. \"\n",
            "/usr/local/lib/python3.7/dist-packages/tensorflow_core/python/framework/indexed_slices.py:424: UserWarning: Converting sparse IndexedSlices to a dense Tensor of unknown shape. This may consume a large amount of memory.\n",
            "  \"Converting sparse IndexedSlices to a dense Tensor of unknown shape. \"\n",
            "/usr/local/lib/python3.7/dist-packages/tensorflow_core/python/framework/indexed_slices.py:424: UserWarning: Converting sparse IndexedSlices to a dense Tensor of unknown shape. This may consume a large amount of memory.\n",
            "  \"Converting sparse IndexedSlices to a dense Tensor of unknown shape. \"\n",
            "/usr/local/lib/python3.7/dist-packages/tensorflow_core/python/framework/indexed_slices.py:424: UserWarning: Converting sparse IndexedSlices to a dense Tensor of unknown shape. This may consume a large amount of memory.\n",
            "  \"Converting sparse IndexedSlices to a dense Tensor of unknown shape. \"\n",
            "/usr/local/lib/python3.7/dist-packages/tensorflow_core/python/framework/indexed_slices.py:424: UserWarning: Converting sparse IndexedSlices to a dense Tensor of unknown shape. This may consume a large amount of memory.\n",
            "  \"Converting sparse IndexedSlices to a dense Tensor of unknown shape. \"\n",
            "/usr/local/lib/python3.7/dist-packages/tensorflow_core/python/framework/indexed_slices.py:424: UserWarning: Converting sparse IndexedSlices to a dense Tensor of unknown shape. This may consume a large amount of memory.\n",
            "  \"Converting sparse IndexedSlices to a dense Tensor of unknown shape. \"\n",
            "/usr/local/lib/python3.7/dist-packages/tensorflow_core/python/framework/indexed_slices.py:424: UserWarning: Converting sparse IndexedSlices to a dense Tensor of unknown shape. This may consume a large amount of memory.\n",
            "  \"Converting sparse IndexedSlices to a dense Tensor of unknown shape. \"\n",
            "/usr/local/lib/python3.7/dist-packages/tensorflow_core/python/framework/indexed_slices.py:424: UserWarning: Converting sparse IndexedSlices to a dense Tensor of unknown shape. This may consume a large amount of memory.\n",
            "  \"Converting sparse IndexedSlices to a dense Tensor of unknown shape. \"\n",
            "/usr/local/lib/python3.7/dist-packages/tensorflow_core/python/framework/indexed_slices.py:424: UserWarning: Converting sparse IndexedSlices to a dense Tensor of unknown shape. This may consume a large amount of memory.\n",
            "  \"Converting sparse IndexedSlices to a dense Tensor of unknown shape. \"\n",
            "INFO:tensorflow:Done calling model_fn.\n",
            "I1127 10:43:40.767020 139904407041920 estimator.py:1150] Done calling model_fn.\n",
            "INFO:tensorflow:Create CheckpointSaverHook.\n",
            "I1127 10:43:40.768474 139904407041920 basic_session_run_hooks.py:541] Create CheckpointSaverHook.\n",
            "INFO:tensorflow:Graph was finalized.\n",
            "I1127 10:43:43.186342 139904407041920 monitored_session.py:240] Graph was finalized.\n",
            "2022-11-27 10:43:43.186872: I tensorflow/core/platform/cpu_feature_guard.cc:142] Your CPU supports instructions that this TensorFlow binary was not compiled to use: AVX2 FMA\n",
            "2022-11-27 10:43:43.190963: I tensorflow/core/platform/profile_utils/cpu_utils.cc:94] CPU Frequency: 2199995000 Hz\n",
            "2022-11-27 10:43:43.191270: I tensorflow/compiler/xla/service/service.cc:168] XLA service 0xe634bc0 initialized for platform Host (this does not guarantee that XLA will be used). Devices:\n",
            "2022-11-27 10:43:43.191313: I tensorflow/compiler/xla/service/service.cc:176]   StreamExecutor device (0): Host, Default Version\n",
            "INFO:tensorflow:Running local_init_op.\n",
            "I1127 10:43:45.108367 139904407041920 session_manager.py:500] Running local_init_op.\n",
            "INFO:tensorflow:Done running local_init_op.\n",
            "I1127 10:43:45.344456 139904407041920 session_manager.py:502] Done running local_init_op.\n",
            "INFO:tensorflow:Saving checkpoints for 0 into /tmp/tmp0mqcsaok/model.ckpt.\n",
            "I1127 10:43:50.797840 139904407041920 basic_session_run_hooks.py:606] Saving checkpoints for 0 into /tmp/tmp0mqcsaok/model.ckpt.\n",
            "INFO:tensorflow:loss = 3.6327374, step = 1\n",
            "I1127 10:43:57.607013 139904407041920 basic_session_run_hooks.py:262] loss = 3.6327374, step = 1\n",
            "INFO:tensorflow:global_step/sec: 1.28437\n",
            "I1127 10:45:15.465853 139904407041920 basic_session_run_hooks.py:692] global_step/sec: 1.28437\n",
            "INFO:tensorflow:loss = 0.43463197, step = 101 (77.861 sec)\n",
            "I1127 10:45:15.467892 139904407041920 basic_session_run_hooks.py:260] loss = 0.43463197, step = 101 (77.861 sec)\n",
            "INFO:tensorflow:global_step/sec: 1.38352\n",
            "I1127 10:46:27.745468 139904407041920 basic_session_run_hooks.py:692] global_step/sec: 1.38352\n",
            "INFO:tensorflow:loss = 1.1316087, step = 201 (72.279 sec)\n",
            "I1127 10:46:27.746767 139904407041920 basic_session_run_hooks.py:260] loss = 1.1316087, step = 201 (72.279 sec)\n",
            "INFO:tensorflow:global_step/sec: 1.2193\n",
            "I1127 10:47:49.759656 139904407041920 basic_session_run_hooks.py:692] global_step/sec: 1.2193\n",
            "INFO:tensorflow:loss = 0.82381, step = 301 (82.015 sec)\n",
            "I1127 10:47:49.761398 139904407041920 basic_session_run_hooks.py:260] loss = 0.82381, step = 301 (82.015 sec)\n",
            "INFO:tensorflow:global_step/sec: 1.00693\n",
            "I1127 10:49:29.071593 139904407041920 basic_session_run_hooks.py:692] global_step/sec: 1.00693\n",
            "INFO:tensorflow:loss = 0.094482005, step = 401 (99.312 sec)\n",
            "I1127 10:49:29.073177 139904407041920 basic_session_run_hooks.py:260] loss = 0.094482005, step = 401 (99.312 sec)\n",
            "INFO:tensorflow:global_step/sec: 0.868328\n",
            "I1127 10:51:24.235206 139904407041920 basic_session_run_hooks.py:692] global_step/sec: 0.868328\n",
            "INFO:tensorflow:loss = 0.060326695, step = 501 (115.163 sec)\n",
            "I1127 10:51:24.236471 139904407041920 basic_session_run_hooks.py:260] loss = 0.060326695, step = 501 (115.163 sec)\n",
            "INFO:tensorflow:global_step/sec: 0.748934\n",
            "I1127 10:53:37.758383 139904407041920 basic_session_run_hooks.py:692] global_step/sec: 0.748934\n",
            "INFO:tensorflow:loss = 0.82100445, step = 601 (133.523 sec)\n",
            "I1127 10:53:37.759711 139904407041920 basic_session_run_hooks.py:260] loss = 0.82100445, step = 601 (133.523 sec)\n",
            "INFO:tensorflow:Saving checkpoints for 614 into /tmp/tmp0mqcsaok/model.ckpt.\n",
            "I1127 10:53:52.884313 139904407041920 basic_session_run_hooks.py:606] Saving checkpoints for 614 into /tmp/tmp0mqcsaok/model.ckpt.\n",
            "INFO:tensorflow:global_step/sec: 0.837988\n",
            "I1127 10:55:37.091794 139904407041920 basic_session_run_hooks.py:692] global_step/sec: 0.837988\n",
            "INFO:tensorflow:loss = 0.41609582, step = 701 (119.333 sec)\n",
            "I1127 10:55:37.092896 139904407041920 basic_session_run_hooks.py:260] loss = 0.41609582, step = 701 (119.333 sec)\n",
            "INFO:tensorflow:global_step/sec: 0.807482\n",
            "I1127 10:57:40.933544 139904407041920 basic_session_run_hooks.py:692] global_step/sec: 0.807482\n",
            "INFO:tensorflow:loss = 0.091291286, step = 801 (123.842 sec)\n",
            "I1127 10:57:40.934711 139904407041920 basic_session_run_hooks.py:260] loss = 0.091291286, step = 801 (123.842 sec)\n",
            "INFO:tensorflow:global_step/sec: 0.68983\n",
            "I1127 11:00:05.896710 139904407041920 basic_session_run_hooks.py:692] global_step/sec: 0.68983\n",
            "INFO:tensorflow:loss = 0.21834859, step = 901 (144.963 sec)\n",
            "I1127 11:00:05.897842 139904407041920 basic_session_run_hooks.py:260] loss = 0.21834859, step = 901 (144.963 sec)\n",
            "INFO:tensorflow:global_step/sec: 0.629191\n",
            "I1127 11:02:44.830862 139904407041920 basic_session_run_hooks.py:692] global_step/sec: 0.629191\n",
            "INFO:tensorflow:loss = 0.09665318, step = 1001 (158.934 sec)\n",
            "I1127 11:02:44.832087 139904407041920 basic_session_run_hooks.py:260] loss = 0.09665318, step = 1001 (158.934 sec)\n",
            "INFO:tensorflow:Saving checkpoints for 1051 into /tmp/tmp0mqcsaok/model.ckpt.\n",
            "I1127 11:03:54.560431 139904407041920 basic_session_run_hooks.py:606] Saving checkpoints for 1051 into /tmp/tmp0mqcsaok/model.ckpt.\n",
            "INFO:tensorflow:global_step/sec: 0.732952\n",
            "I1127 11:05:01.265550 139904407041920 basic_session_run_hooks.py:692] global_step/sec: 0.732952\n",
            "INFO:tensorflow:loss = 0.6130056, step = 1101 (136.435 sec)\n",
            "I1127 11:05:01.266676 139904407041920 basic_session_run_hooks.py:260] loss = 0.6130056, step = 1101 (136.435 sec)\n",
            "INFO:tensorflow:global_step/sec: 0.776789\n",
            "I1127 11:07:10.000661 139904407041920 basic_session_run_hooks.py:692] global_step/sec: 0.776789\n",
            "INFO:tensorflow:loss = 0.09795196, step = 1201 (128.735 sec)\n",
            "I1127 11:07:10.001868 139904407041920 basic_session_run_hooks.py:260] loss = 0.09795196, step = 1201 (128.735 sec)\n",
            "INFO:tensorflow:global_step/sec: 0.775035\n",
            "I1127 11:09:19.027133 139904407041920 basic_session_run_hooks.py:692] global_step/sec: 0.775035\n",
            "INFO:tensorflow:loss = 0.11575708, step = 1301 (129.027 sec)\n",
            "I1127 11:09:19.028388 139904407041920 basic_session_run_hooks.py:260] loss = 0.11575708, step = 1301 (129.027 sec)\n",
            "INFO:tensorflow:global_step/sec: 0.749548\n",
            "I1127 11:11:32.440856 139904407041920 basic_session_run_hooks.py:692] global_step/sec: 0.749548\n",
            "INFO:tensorflow:loss = 0.22334251, step = 1401 (133.414 sec)\n",
            "I1127 11:11:32.441976 139904407041920 basic_session_run_hooks.py:260] loss = 0.22334251, step = 1401 (133.414 sec)\n",
            "INFO:tensorflow:global_step/sec: 0.719438\n",
            "I1127 11:13:51.438340 139904407041920 basic_session_run_hooks.py:692] global_step/sec: 0.719438\n",
            "INFO:tensorflow:loss = 0.5773193, step = 1501 (138.998 sec)\n",
            "I1127 11:13:51.439747 139904407041920 basic_session_run_hooks.py:260] loss = 0.5773193, step = 1501 (138.998 sec)\n",
            "INFO:tensorflow:Saving checkpoints for 1504 into /tmp/tmp0mqcsaok/model.ckpt.\n",
            "I1127 11:13:55.818383 139904407041920 basic_session_run_hooks.py:606] Saving checkpoints for 1504 into /tmp/tmp0mqcsaok/model.ckpt.\n",
            "INFO:tensorflow:global_step/sec: 0.650669\n",
            "I1127 11:16:25.126246 139904407041920 basic_session_run_hooks.py:692] global_step/sec: 0.650669\n",
            "INFO:tensorflow:loss = 0.32140973, step = 1601 (153.688 sec)\n",
            "I1127 11:16:25.127413 139904407041920 basic_session_run_hooks.py:260] loss = 0.32140973, step = 1601 (153.688 sec)\n",
            "INFO:tensorflow:global_step/sec: 0.629674\n",
            "I1127 11:19:03.938716 139904407041920 basic_session_run_hooks.py:692] global_step/sec: 0.629674\n",
            "INFO:tensorflow:loss = 0.14750485, step = 1701 (158.812 sec)\n",
            "I1127 11:19:03.939900 139904407041920 basic_session_run_hooks.py:260] loss = 0.14750485, step = 1701 (158.812 sec)\n",
            "INFO:tensorflow:global_step/sec: 0.579189\n",
            "I1127 11:21:56.593924 139904407041920 basic_session_run_hooks.py:692] global_step/sec: 0.579189\n",
            "INFO:tensorflow:loss = 0.22896923, step = 1801 (172.655 sec)\n",
            "I1127 11:21:56.595155 139904407041920 basic_session_run_hooks.py:260] loss = 0.22896923, step = 1801 (172.655 sec)\n",
            "INFO:tensorflow:Saving checkpoints for 1870 into /tmp/tmp0mqcsaok/model.ckpt.\n",
            "I1127 11:23:57.340560 139904407041920 basic_session_run_hooks.py:606] Saving checkpoints for 1870 into /tmp/tmp0mqcsaok/model.ckpt.\n",
            "INFO:tensorflow:global_step/sec: 0.57178\n",
            "I1127 11:24:51.486280 139904407041920 basic_session_run_hooks.py:692] global_step/sec: 0.57178\n",
            "INFO:tensorflow:loss = 3.3070216, step = 1901 (174.892 sec)\n",
            "I1127 11:24:51.487393 139904407041920 basic_session_run_hooks.py:260] loss = 3.3070216, step = 1901 (174.892 sec)\n",
            "INFO:tensorflow:global_step/sec: 0.555417\n",
            "I1127 11:27:51.531255 139904407041920 basic_session_run_hooks.py:692] global_step/sec: 0.555417\n",
            "INFO:tensorflow:loss = 0.11798231, step = 2001 (180.045 sec)\n",
            "I1127 11:27:51.532423 139904407041920 basic_session_run_hooks.py:260] loss = 0.11798231, step = 2001 (180.045 sec)\n",
            "INFO:tensorflow:global_step/sec: 0.491806\n",
            "I1127 11:31:14.863427 139904407041920 basic_session_run_hooks.py:692] global_step/sec: 0.491806\n",
            "INFO:tensorflow:loss = 0.17099763, step = 2101 (203.332 sec)\n",
            "I1127 11:31:14.864691 139904407041920 basic_session_run_hooks.py:260] loss = 0.17099763, step = 2101 (203.332 sec)\n",
            "INFO:tensorflow:Saving checkpoints for 2181 into /tmp/tmp0mqcsaok/model.ckpt.\n",
            "I1127 11:33:58.741186 139904407041920 basic_session_run_hooks.py:606] Saving checkpoints for 2181 into /tmp/tmp0mqcsaok/model.ckpt.\n",
            "WARNING:tensorflow:From /usr/local/lib/python3.7/dist-packages/tensorflow_core/python/training/saver.py:963: remove_checkpoint (from tensorflow.python.training.checkpoint_management) is deprecated and will be removed in a future version.\n",
            "Instructions for updating:\n",
            "Use standard file APIs to delete files with this prefix.\n",
            "W1127 11:33:58.776790 139904407041920 deprecation.py:323] From /usr/local/lib/python3.7/dist-packages/tensorflow_core/python/training/saver.py:963: remove_checkpoint (from tensorflow.python.training.checkpoint_management) is deprecated and will be removed in a future version.\n",
            "Instructions for updating:\n",
            "Use standard file APIs to delete files with this prefix.\n",
            "INFO:tensorflow:global_step/sec: 0.485212\n",
            "I1127 11:34:40.958966 139904407041920 basic_session_run_hooks.py:692] global_step/sec: 0.485212\n",
            "INFO:tensorflow:loss = 0.5715506, step = 2201 (206.095 sec)\n",
            "I1127 11:34:40.960147 139904407041920 basic_session_run_hooks.py:260] loss = 0.5715506, step = 2201 (206.095 sec)\n",
            "INFO:tensorflow:global_step/sec: 0.485114\n",
            "I1127 11:38:07.095925 139904407041920 basic_session_run_hooks.py:692] global_step/sec: 0.485114\n",
            "INFO:tensorflow:loss = 0.4371879, step = 2301 (206.137 sec)\n",
            "I1127 11:38:07.097474 139904407041920 basic_session_run_hooks.py:260] loss = 0.4371879, step = 2301 (206.137 sec)\n",
            "INFO:tensorflow:global_step/sec: 0.468179\n",
            "I1127 11:41:40.689764 139904407041920 basic_session_run_hooks.py:692] global_step/sec: 0.468179\n",
            "INFO:tensorflow:loss = 0.095859714, step = 2401 (213.594 sec)\n",
            "I1127 11:41:40.691134 139904407041920 basic_session_run_hooks.py:260] loss = 0.095859714, step = 2401 (213.594 sec)\n",
            "INFO:tensorflow:Saving checkpoints for 2463 into /tmp/tmp0mqcsaok/model.ckpt.\n",
            "I1127 11:43:59.142150 139904407041920 basic_session_run_hooks.py:606] Saving checkpoints for 2463 into /tmp/tmp0mqcsaok/model.ckpt.\n",
            "INFO:tensorflow:global_step/sec: 0.450227\n",
            "I1127 11:45:22.799207 139904407041920 basic_session_run_hooks.py:692] global_step/sec: 0.450227\n",
            "INFO:tensorflow:loss = 0.25221196, step = 2501 (222.109 sec)\n",
            "I1127 11:45:22.800363 139904407041920 basic_session_run_hooks.py:260] loss = 0.25221196, step = 2501 (222.109 sec)\n",
            "INFO:tensorflow:global_step/sec: 0.460193\n",
            "I1127 11:49:00.099332 139904407041920 basic_session_run_hooks.py:692] global_step/sec: 0.460193\n",
            "INFO:tensorflow:loss = 1.1807076, step = 2601 (217.300 sec)\n",
            "I1127 11:49:00.100668 139904407041920 basic_session_run_hooks.py:260] loss = 1.1807076, step = 2601 (217.300 sec)\n",
            "INFO:tensorflow:global_step/sec: 0.497915\n",
            "I1127 11:52:20.936840 139904407041920 basic_session_run_hooks.py:692] global_step/sec: 0.497915\n",
            "INFO:tensorflow:loss = 0.6339951, step = 2701 (200.837 sec)\n",
            "I1127 11:52:20.938148 139904407041920 basic_session_run_hooks.py:260] loss = 0.6339951, step = 2701 (200.837 sec)\n",
            "INFO:tensorflow:Saving checkpoints for 2747 into /tmp/tmp0mqcsaok/model.ckpt.\n",
            "I1127 11:53:59.956417 139904407041920 basic_session_run_hooks.py:606] Saving checkpoints for 2747 into /tmp/tmp0mqcsaok/model.ckpt.\n",
            "INFO:tensorflow:global_step/sec: 0.426075\n",
            "I1127 11:56:15.637279 139904407041920 basic_session_run_hooks.py:692] global_step/sec: 0.426075\n",
            "INFO:tensorflow:loss = 0.66188866, step = 2801 (234.700 sec)\n",
            "I1127 11:56:15.638463 139904407041920 basic_session_run_hooks.py:260] loss = 0.66188866, step = 2801 (234.700 sec)\n",
            "INFO:tensorflow:global_step/sec: 0.364983\n",
            "I1127 12:00:49.622434 139904407041920 basic_session_run_hooks.py:692] global_step/sec: 0.364983\n",
            "INFO:tensorflow:loss = 0.15448026, step = 2901 (273.986 sec)\n",
            "I1127 12:00:49.624064 139904407041920 basic_session_run_hooks.py:260] loss = 0.15448026, step = 2901 (273.986 sec)\n",
            "INFO:tensorflow:Saving checkpoints for 2962 into /tmp/tmp0mqcsaok/model.ckpt.\n",
            "I1127 12:03:59.986189 139904407041920 basic_session_run_hooks.py:606] Saving checkpoints for 2962 into /tmp/tmp0mqcsaok/model.ckpt.\n",
            "INFO:tensorflow:global_step/sec: 0.332209\n",
            "I1127 12:05:50.637444 139904407041920 basic_session_run_hooks.py:692] global_step/sec: 0.332209\n",
            "INFO:tensorflow:loss = 0.080028415, step = 3001 (301.015 sec)\n",
            "I1127 12:05:50.638569 139904407041920 basic_session_run_hooks.py:260] loss = 0.080028415, step = 3001 (301.015 sec)\n",
            "INFO:tensorflow:global_step/sec: 0.344504\n",
            "I1127 12:10:40.909882 139904407041920 basic_session_run_hooks.py:692] global_step/sec: 0.344504\n",
            "INFO:tensorflow:loss = 0.10571596, step = 3101 (290.273 sec)\n",
            "I1127 12:10:40.911235 139904407041920 basic_session_run_hooks.py:260] loss = 0.10571596, step = 3101 (290.273 sec)\n",
            "INFO:tensorflow:Saving checkpoints for 3173 into /tmp/tmp0mqcsaok/model.ckpt.\n",
            "I1127 12:14:02.025005 139904407041920 basic_session_run_hooks.py:606] Saving checkpoints for 3173 into /tmp/tmp0mqcsaok/model.ckpt.\n",
            "INFO:tensorflow:global_step/sec: 0.354303\n",
            "I1127 12:15:23.154055 139904407041920 basic_session_run_hooks.py:692] global_step/sec: 0.354303\n",
            "INFO:tensorflow:loss = 0.075630404, step = 3201 (282.244 sec)\n",
            "I1127 12:15:23.155050 139904407041920 basic_session_run_hooks.py:260] loss = 0.075630404, step = 3201 (282.244 sec)\n",
            "INFO:tensorflow:global_step/sec: 0.350084\n",
            "I1127 12:20:08.799908 139904407041920 basic_session_run_hooks.py:692] global_step/sec: 0.350084\n",
            "INFO:tensorflow:loss = 0.37392935, step = 3301 (285.646 sec)\n",
            "I1127 12:20:08.801203 139904407041920 basic_session_run_hooks.py:260] loss = 0.37392935, step = 3301 (285.646 sec)\n",
            "INFO:tensorflow:Saving checkpoints for 3396 into /tmp/tmp0mqcsaok/model.ckpt.\n",
            "I1127 12:24:05.596531 139904407041920 basic_session_run_hooks.py:606] Saving checkpoints for 3396 into /tmp/tmp0mqcsaok/model.ckpt.\n",
            "INFO:tensorflow:global_step/sec: 0.398327\n",
            "I1127 12:24:19.850065 139904407041920 basic_session_run_hooks.py:692] global_step/sec: 0.398327\n",
            "INFO:tensorflow:loss = 0.13043094, step = 3401 (251.050 sec)\n",
            "I1127 12:24:19.851111 139904407041920 basic_session_run_hooks.py:260] loss = 0.13043094, step = 3401 (251.050 sec)\n",
            "INFO:tensorflow:global_step/sec: 0.525318\n",
            "I1127 12:27:30.210980 139904407041920 basic_session_run_hooks.py:692] global_step/sec: 0.525318\n",
            "INFO:tensorflow:loss = 0.17861061, step = 3501 (190.361 sec)\n",
            "I1127 12:27:30.212224 139904407041920 basic_session_run_hooks.py:260] loss = 0.17861061, step = 3501 (190.361 sec)\n",
            "INFO:tensorflow:global_step/sec: 0.551169\n",
            "I1127 12:30:31.643414 139904407041920 basic_session_run_hooks.py:692] global_step/sec: 0.551169\n",
            "INFO:tensorflow:loss = 0.4775786, step = 3601 (181.432 sec)\n",
            "I1127 12:30:31.644638 139904407041920 basic_session_run_hooks.py:260] loss = 0.4775786, step = 3601 (181.432 sec)\n",
            "INFO:tensorflow:global_step/sec: 0.525858\n",
            "I1127 12:33:41.808761 139904407041920 basic_session_run_hooks.py:692] global_step/sec: 0.525858\n",
            "INFO:tensorflow:loss = 0.7107808, step = 3701 (190.165 sec)\n",
            "I1127 12:33:41.809951 139904407041920 basic_session_run_hooks.py:260] loss = 0.7107808, step = 3701 (190.165 sec)\n",
            "INFO:tensorflow:Saving checkpoints for 3712 into /tmp/tmp0mqcsaok/model.ckpt.\n",
            "I1127 12:34:08.114686 139904407041920 basic_session_run_hooks.py:606] Saving checkpoints for 3712 into /tmp/tmp0mqcsaok/model.ckpt.\n",
            "INFO:tensorflow:global_step/sec: 0.397614\n",
            "I1127 12:37:53.308710 139904407041920 basic_session_run_hooks.py:692] global_step/sec: 0.397614\n",
            "INFO:tensorflow:loss = 1.1011956, step = 3801 (251.500 sec)\n",
            "I1127 12:37:53.309877 139904407041920 basic_session_run_hooks.py:260] loss = 1.1011956, step = 3801 (251.500 sec)\n",
            "INFO:tensorflow:global_step/sec: 0.382227\n",
            "I1127 12:42:14.933412 139904407041920 basic_session_run_hooks.py:692] global_step/sec: 0.382227\n",
            "INFO:tensorflow:loss = 0.07024706, step = 3901 (261.625 sec)\n",
            "I1127 12:42:14.934769 139904407041920 basic_session_run_hooks.py:260] loss = 0.07024706, step = 3901 (261.625 sec)\n",
            "INFO:tensorflow:Saving checkpoints for 3941 into /tmp/tmp0mqcsaok/model.ckpt.\n",
            "I1127 12:44:08.701223 139904407041920 basic_session_run_hooks.py:606] Saving checkpoints for 3941 into /tmp/tmp0mqcsaok/model.ckpt.\n",
            "INFO:tensorflow:global_step/sec: 0.348394\n",
            "I1127 12:47:01.964605 139904407041920 basic_session_run_hooks.py:692] global_step/sec: 0.348394\n",
            "INFO:tensorflow:loss = 0.1486376, step = 4001 (287.031 sec)\n",
            "I1127 12:47:01.965854 139904407041920 basic_session_run_hooks.py:260] loss = 0.1486376, step = 4001 (287.031 sec)\n",
            "INFO:tensorflow:global_step/sec: 0.33524\n",
            "I1127 12:52:00.258202 139904407041920 basic_session_run_hooks.py:692] global_step/sec: 0.33524\n",
            "INFO:tensorflow:loss = 0.20853804, step = 4101 (298.294 sec)\n",
            "I1127 12:52:00.259447 139904407041920 basic_session_run_hooks.py:260] loss = 0.20853804, step = 4101 (298.294 sec)\n",
            "INFO:tensorflow:Saving checkpoints for 4146 into /tmp/tmp0mqcsaok/model.ckpt.\n",
            "I1127 12:54:08.833349 139904407041920 basic_session_run_hooks.py:606] Saving checkpoints for 4146 into /tmp/tmp0mqcsaok/model.ckpt.\n",
            "INFO:tensorflow:global_step/sec: 0.342087\n",
            "I1127 12:56:52.581615 139904407041920 basic_session_run_hooks.py:692] global_step/sec: 0.342087\n",
            "INFO:tensorflow:loss = 0.20713615, step = 4201 (292.324 sec)\n",
            "I1127 12:56:52.583824 139904407041920 basic_session_run_hooks.py:260] loss = 0.20713615, step = 4201 (292.324 sec)\n",
            "^C\n"
          ]
        }
      ]
    },
    {
      "cell_type": "code",
      "source": [
        "cd .."
      ],
      "metadata": {
        "colab": {
          "base_uri": "https://localhost:8080/"
        },
        "id": "Ce8VBki5BFzr",
        "outputId": "5abe3370-684b-4b15-e941-9abb06b0e204"
      },
      "execution_count": null,
      "outputs": [
        {
          "output_type": "stream",
          "name": "stdout",
          "text": [
            "/content/deepmind-research\n"
          ]
        }
      ]
    },
    {
      "cell_type": "code",
      "source": [
        "/content/3/SandRamps"
      ],
      "metadata": {
        "id": "IyrsA1jK67PB",
        "colab": {
          "base_uri": "https://localhost:8080/",
          "height": 165
        },
        "outputId": "0c19145f-0ac6-4643-fdfe-c371bc086920"
      },
      "execution_count": 2,
      "outputs": [
        {
          "output_type": "error",
          "ename": "NameError",
          "evalue": "ignored",
          "traceback": [
            "\u001b[0;31m---------------------------------------------------------------------------\u001b[0m",
            "\u001b[0;31mNameError\u001b[0m                                 Traceback (most recent call last)",
            "\u001b[0;32m<ipython-input-2-b515251cf5aa>\u001b[0m in \u001b[0;36m<module>\u001b[0;34m\u001b[0m\n\u001b[0;32m----> 1\u001b[0;31m \u001b[0mcontent\u001b[0m\u001b[0;34m/\u001b[0m\u001b[0;36m3\u001b[0m\u001b[0;34m/\u001b[0m\u001b[0mSandRamps\u001b[0m\u001b[0;34m(\u001b[0m\u001b[0;34m)\u001b[0m\u001b[0;34m\u001b[0m\u001b[0;34m\u001b[0m\u001b[0m\n\u001b[0m",
            "\u001b[0;31mNameError\u001b[0m: name 'content' is not defined"
          ]
        }
      ]
    },
    {
      "cell_type": "code",
      "source": [
        "!mkdir -p /content/rollouts"
      ],
      "metadata": {
        "id": "UsG1DOxPGK2U"
      },
      "execution_count": 18,
      "outputs": []
    },
    {
      "cell_type": "code",
      "source": [
        "pwd"
      ],
      "metadata": {
        "colab": {
          "base_uri": "https://localhost:8080/",
          "height": 36
        },
        "id": "3HEEQ_AVZR3k",
        "outputId": "63360460-6806-4edf-b723-cc4026125521"
      },
      "execution_count": 19,
      "outputs": [
        {
          "output_type": "execute_result",
          "data": {
            "text/plain": [
              "'/content/deepmind-research'"
            ],
            "application/vnd.google.colaboratory.intrinsic+json": {
              "type": "string"
            }
          },
          "metadata": {},
          "execution_count": 19
        }
      ]
    },
    {
      "cell_type": "code",
      "source": [
        "cd deepmind-research"
      ],
      "metadata": {
        "colab": {
          "base_uri": "https://localhost:8080/"
        },
        "id": "uSJR2YI3nG4E",
        "outputId": "15cece1a-9218-4822-a12d-e34916a27d64"
      },
      "execution_count": 5,
      "outputs": [
        {
          "output_type": "stream",
          "name": "stdout",
          "text": [
            "[Errno 2] No such file or directory: 'deepmind-research'\n",
            "/content\n"
          ]
        }
      ]
    },
    {
      "cell_type": "code",
      "source": [
        "!python -m learning_to_simulate.train --data_path=/content/deepmind-research/learning_to_simulate/3/Sand --model_path=/tmp/tmpfgtuam1t --mode=eval\n"
      ],
      "metadata": {
        "colab": {
          "base_uri": "https://localhost:8080/"
        },
        "id": "Vl71OAeVc-ts",
        "outputId": "49dc2508-d6f5-48f3-a3a5-67e572bc4a10"
      },
      "execution_count": 32,
      "outputs": [
        {
          "output_type": "stream",
          "name": "stdout",
          "text": [
            "WARNING:tensorflow:From /usr/local/lib/python3.7/dist-packages/tensorflow_core/python/compat/v2_compat.py:68: disable_resource_variables (from tensorflow.python.ops.variable_scope) is deprecated and will be removed in a future version.\n",
            "Instructions for updating:\n",
            "non-resource variables are not supported in the long term\n",
            "INFO:tensorflow:Using default config.\n",
            "I1127 09:42:39.075711 139886711330688 estimator.py:1800] Using default config.\n",
            "INFO:tensorflow:Using config: {'_model_dir': '/tmp/tmpfgtuam1t', '_tf_random_seed': None, '_save_summary_steps': 100, '_save_checkpoints_steps': None, '_save_checkpoints_secs': 600, '_session_config': allow_soft_placement: true\n",
            "graph_options {\n",
            "  rewrite_options {\n",
            "    meta_optimizer_iterations: ONE\n",
            "  }\n",
            "}\n",
            ", '_keep_checkpoint_max': 5, '_keep_checkpoint_every_n_hours': 10000, '_log_step_count_steps': 100, '_train_distribute': None, '_device_fn': None, '_protocol': None, '_eval_distribute': None, '_experimental_distribute': None, '_experimental_max_worker_delay_secs': None, '_session_creation_timeout_secs': 7200, '_service': None, '_cluster_spec': <tensorflow.python.training.server_lib.ClusterSpec object at 0x7f39a93ce610>, '_task_type': 'worker', '_task_id': 0, '_global_id_in_cluster': 0, '_master': '', '_evaluation_master': '', '_is_chief': True, '_num_ps_replicas': 0, '_num_worker_replicas': 1}\n",
            "I1127 09:42:39.076579 139886711330688 estimator.py:212] Using config: {'_model_dir': '/tmp/tmpfgtuam1t', '_tf_random_seed': None, '_save_summary_steps': 100, '_save_checkpoints_steps': None, '_save_checkpoints_secs': 600, '_session_config': allow_soft_placement: true\n",
            "graph_options {\n",
            "  rewrite_options {\n",
            "    meta_optimizer_iterations: ONE\n",
            "  }\n",
            "}\n",
            ", '_keep_checkpoint_max': 5, '_keep_checkpoint_every_n_hours': 10000, '_log_step_count_steps': 100, '_train_distribute': None, '_device_fn': None, '_protocol': None, '_eval_distribute': None, '_experimental_distribute': None, '_experimental_max_worker_delay_secs': None, '_session_creation_timeout_secs': 7200, '_service': None, '_cluster_spec': <tensorflow.python.training.server_lib.ClusterSpec object at 0x7f39a93ce610>, '_task_type': 'worker', '_task_id': 0, '_global_id_in_cluster': 0, '_master': '', '_evaluation_master': '', '_is_chief': True, '_num_ps_replicas': 0, '_num_worker_replicas': 1}\n",
            "WARNING:tensorflow:Entity <function _yield_value at 0x7f39b8416b00> appears to be a generator function. It will not be converted by AutoGraph.\n",
            "W1127 09:42:41.689924 139886711330688 ag_logging.py:146] Entity <function _yield_value at 0x7f39b8416b00> appears to be a generator function. It will not be converted by AutoGraph.\n",
            "INFO:tensorflow:Calling model_fn.\n",
            "I1127 09:42:42.404731 139886711330688 estimator.py:1148] Calling model_fn.\n",
            "WARNING:tensorflow:From /usr/local/lib/python3.7/dist-packages/tensorflow_core/python/ops/resource_variable_ops.py:1630: calling BaseResourceVariable.__init__ (from tensorflow.python.ops.resource_variable_ops) with constraint is deprecated and will be removed in a future version.\n",
            "Instructions for updating:\n",
            "If using Keras pass *_constraint arguments to layers.\n",
            "W1127 09:42:42.480909 139886711330688 deprecation.py:506] From /usr/local/lib/python3.7/dist-packages/tensorflow_core/python/ops/resource_variable_ops.py:1630: calling BaseResourceVariable.__init__ (from tensorflow.python.ops.resource_variable_ops) with constraint is deprecated and will be removed in a future version.\n",
            "Instructions for updating:\n",
            "If using Keras pass *_constraint arguments to layers.\n",
            "WARNING:tensorflow:From /usr/local/lib/python3.7/dist-packages/sonnet/python/modules/basic.py:127: calling TruncatedNormal.__init__ (from tensorflow.python.ops.init_ops) with dtype is deprecated and will be removed in a future version.\n",
            "Instructions for updating:\n",
            "Call initializer instance with the dtype argument instead of passing it to the constructor\n",
            "W1127 09:42:42.540724 139886711330688 deprecation.py:506] From /usr/local/lib/python3.7/dist-packages/sonnet/python/modules/basic.py:127: calling TruncatedNormal.__init__ (from tensorflow.python.ops.init_ops) with dtype is deprecated and will be removed in a future version.\n",
            "Instructions for updating:\n",
            "Call initializer instance with the dtype argument instead of passing it to the constructor\n",
            "WARNING:tensorflow:From /usr/local/lib/python3.7/dist-packages/sonnet/python/modules/basic.py:132: calling Zeros.__init__ (from tensorflow.python.ops.init_ops) with dtype is deprecated and will be removed in a future version.\n",
            "Instructions for updating:\n",
            "Call initializer instance with the dtype argument instead of passing it to the constructor\n",
            "W1127 09:42:42.541138 139886711330688 deprecation.py:506] From /usr/local/lib/python3.7/dist-packages/sonnet/python/modules/basic.py:132: calling Zeros.__init__ (from tensorflow.python.ops.init_ops) with dtype is deprecated and will be removed in a future version.\n",
            "Instructions for updating:\n",
            "Call initializer instance with the dtype argument instead of passing it to the constructor\n",
            "WARNING:tensorflow:From /content/deepmind-research/learning_to_simulate/train.py:348: where (from tensorflow.python.ops.array_ops) is deprecated and will be removed in a future version.\n",
            "Instructions for updating:\n",
            "Use tf.where in 2.0, which has the same broadcast rule as np.where\n",
            "W1127 09:42:44.085543 139886711330688 deprecation.py:323] From /content/deepmind-research/learning_to_simulate/train.py:348: where (from tensorflow.python.ops.array_ops) is deprecated and will be removed in a future version.\n",
            "Instructions for updating:\n",
            "Use tf.where in 2.0, which has the same broadcast rule as np.where\n",
            "/usr/local/lib/python3.7/dist-packages/tensorflow_core/python/framework/indexed_slices.py:424: UserWarning: Converting sparse IndexedSlices to a dense Tensor of unknown shape. This may consume a large amount of memory.\n",
            "  \"Converting sparse IndexedSlices to a dense Tensor of unknown shape. \"\n",
            "/usr/local/lib/python3.7/dist-packages/tensorflow_core/python/framework/indexed_slices.py:424: UserWarning: Converting sparse IndexedSlices to a dense Tensor of unknown shape. This may consume a large amount of memory.\n",
            "  \"Converting sparse IndexedSlices to a dense Tensor of unknown shape. \"\n",
            "/usr/local/lib/python3.7/dist-packages/tensorflow_core/python/framework/indexed_slices.py:424: UserWarning: Converting sparse IndexedSlices to a dense Tensor of unknown shape. This may consume a large amount of memory.\n",
            "  \"Converting sparse IndexedSlices to a dense Tensor of unknown shape. \"\n",
            "/usr/local/lib/python3.7/dist-packages/tensorflow_core/python/framework/indexed_slices.py:424: UserWarning: Converting sparse IndexedSlices to a dense Tensor of unknown shape. This may consume a large amount of memory.\n",
            "  \"Converting sparse IndexedSlices to a dense Tensor of unknown shape. \"\n",
            "/usr/local/lib/python3.7/dist-packages/tensorflow_core/python/framework/indexed_slices.py:424: UserWarning: Converting sparse IndexedSlices to a dense Tensor of unknown shape. This may consume a large amount of memory.\n",
            "  \"Converting sparse IndexedSlices to a dense Tensor of unknown shape. \"\n",
            "/usr/local/lib/python3.7/dist-packages/tensorflow_core/python/framework/indexed_slices.py:424: UserWarning: Converting sparse IndexedSlices to a dense Tensor of unknown shape. This may consume a large amount of memory.\n",
            "  \"Converting sparse IndexedSlices to a dense Tensor of unknown shape. \"\n",
            "/usr/local/lib/python3.7/dist-packages/tensorflow_core/python/framework/indexed_slices.py:424: UserWarning: Converting sparse IndexedSlices to a dense Tensor of unknown shape. This may consume a large amount of memory.\n",
            "  \"Converting sparse IndexedSlices to a dense Tensor of unknown shape. \"\n",
            "/usr/local/lib/python3.7/dist-packages/tensorflow_core/python/framework/indexed_slices.py:424: UserWarning: Converting sparse IndexedSlices to a dense Tensor of unknown shape. This may consume a large amount of memory.\n",
            "  \"Converting sparse IndexedSlices to a dense Tensor of unknown shape. \"\n",
            "/usr/local/lib/python3.7/dist-packages/tensorflow_core/python/framework/indexed_slices.py:424: UserWarning: Converting sparse IndexedSlices to a dense Tensor of unknown shape. This may consume a large amount of memory.\n",
            "  \"Converting sparse IndexedSlices to a dense Tensor of unknown shape. \"\n",
            "/usr/local/lib/python3.7/dist-packages/tensorflow_core/python/framework/indexed_slices.py:424: UserWarning: Converting sparse IndexedSlices to a dense Tensor of unknown shape. This may consume a large amount of memory.\n",
            "  \"Converting sparse IndexedSlices to a dense Tensor of unknown shape. \"\n",
            "INFO:tensorflow:Done calling model_fn.\n",
            "I1127 09:42:50.686954 139886711330688 estimator.py:1150] Done calling model_fn.\n",
            "INFO:tensorflow:Starting evaluation at 2022-11-27T09:42:50Z\n",
            "I1127 09:42:50.707673 139886711330688 evaluation.py:255] Starting evaluation at 2022-11-27T09:42:50Z\n",
            "INFO:tensorflow:Graph was finalized.\n",
            "I1127 09:42:51.956438 139886711330688 monitored_session.py:240] Graph was finalized.\n",
            "2022-11-27 09:42:51.956991: I tensorflow/core/platform/cpu_feature_guard.cc:142] Your CPU supports instructions that this TensorFlow binary was not compiled to use: AVX2 FMA\n",
            "2022-11-27 09:42:51.961269: I tensorflow/core/platform/profile_utils/cpu_utils.cc:94] CPU Frequency: 2199995000 Hz\n",
            "2022-11-27 09:42:51.961504: I tensorflow/compiler/xla/service/service.cc:168] XLA service 0x21844c0 initialized for platform Host (this does not guarantee that XLA will be used). Devices:\n",
            "2022-11-27 09:42:51.961568: I tensorflow/compiler/xla/service/service.cc:176]   StreamExecutor device (0): Host, Default Version\n",
            "INFO:tensorflow:Restoring parameters from /tmp/tmpfgtuam1t/model.ckpt-5195\n",
            "I1127 09:42:51.962948 139886711330688 saver.py:1284] Restoring parameters from /tmp/tmpfgtuam1t/model.ckpt-5195\n",
            "Traceback (most recent call last):\n",
            "  File \"/usr/lib/python3.7/runpy.py\", line 193, in _run_module_as_main\n",
            "    \"__main__\", mod_spec)\n",
            "  File \"/usr/lib/python3.7/runpy.py\", line 85, in _run_code\n",
            "    exec(code, run_globals)\n",
            "  File \"/content/deepmind-research/learning_to_simulate/train.py\", line 477, in <module>\n",
            "    app.run(main)\n",
            "  File \"/usr/local/lib/python3.7/dist-packages/absl/app.py\", line 308, in run\n",
            "    _run_main(main, args)\n",
            "  File \"/usr/local/lib/python3.7/dist-packages/absl/app.py\", line 254, in _run_main\n",
            "    sys.exit(main(argv))\n",
            "  File \"/content/deepmind-research/learning_to_simulate/train.py\", line 449, in main\n",
            "    mode='one_step', split=FLAGS.eval_split))\n",
            "  File \"/usr/local/lib/python3.7/dist-packages/tensorflow_estimator/python/estimator/estimator.py\", line 480, in evaluate\n",
            "    name=name)\n",
            "  File \"/usr/local/lib/python3.7/dist-packages/tensorflow_estimator/python/estimator/estimator.py\", line 522, in _actual_eval\n",
            "    return _evaluate()\n",
            "  File \"/usr/local/lib/python3.7/dist-packages/tensorflow_estimator/python/estimator/estimator.py\", line 511, in _evaluate\n",
            "    output_dir=self.eval_dir(name))\n",
            "  File \"/usr/local/lib/python3.7/dist-packages/tensorflow_estimator/python/estimator/estimator.py\", line 1619, in _evaluate_run\n",
            "    config=self._session_config)\n",
            "  File \"/usr/local/lib/python3.7/dist-packages/tensorflow_core/python/training/evaluation.py\", line 269, in _evaluate_once\n",
            "    session_creator=session_creator, hooks=hooks) as session:\n",
            "  File \"/usr/local/lib/python3.7/dist-packages/tensorflow_core/python/training/monitored_session.py\", line 1014, in __init__\n",
            "    stop_grace_period_secs=stop_grace_period_secs)\n",
            "  File \"/usr/local/lib/python3.7/dist-packages/tensorflow_core/python/training/monitored_session.py\", line 725, in __init__\n",
            "    self._sess = _RecoverableSession(self._coordinated_creator)\n",
            "  File \"/usr/local/lib/python3.7/dist-packages/tensorflow_core/python/training/monitored_session.py\", line 1207, in __init__\n",
            "    _WrappedSession.__init__(self, self._create_session())\n",
            "  File \"/usr/local/lib/python3.7/dist-packages/tensorflow_core/python/training/monitored_session.py\", line 1212, in _create_session\n",
            "    return self._sess_creator.create_session()\n",
            "  File \"/usr/local/lib/python3.7/dist-packages/tensorflow_core/python/training/monitored_session.py\", line 878, in create_session\n",
            "    self.tf_sess = self._session_creator.create_session()\n",
            "  File \"/usr/local/lib/python3.7/dist-packages/tensorflow_core/python/training/monitored_session.py\", line 647, in create_session\n",
            "    init_fn=self._scaffold.init_fn)\n",
            "  File \"/usr/local/lib/python3.7/dist-packages/tensorflow_core/python/training/session_manager.py\", line 290, in prepare_session\n",
            "    config=config)\n",
            "  File \"/usr/local/lib/python3.7/dist-packages/tensorflow_core/python/training/session_manager.py\", line 204, in _restore_checkpoint\n",
            "    saver.restore(sess, checkpoint_filename_with_path)\n",
            "  File \"/usr/local/lib/python3.7/dist-packages/tensorflow_core/python/training/saver.py\", line 1290, in restore\n",
            "    {self.saver_def.filename_tensor_name: save_path})\n",
            "  File \"/usr/local/lib/python3.7/dist-packages/tensorflow_core/python/client/session.py\", line 956, in run\n",
            "    run_metadata_ptr)\n",
            "  File \"/usr/local/lib/python3.7/dist-packages/tensorflow_core/python/client/session.py\", line 1180, in _run\n",
            "    feed_dict_tensor, options, run_metadata)\n",
            "  File \"/usr/local/lib/python3.7/dist-packages/tensorflow_core/python/client/session.py\", line 1359, in _do_run\n",
            "    run_metadata)\n",
            "  File \"/usr/local/lib/python3.7/dist-packages/tensorflow_core/python/client/session.py\", line 1365, in _do_call\n",
            "    return fn(*args)\n",
            "  File \"/usr/local/lib/python3.7/dist-packages/tensorflow_core/python/client/session.py\", line 1348, in _run_fn\n",
            "    self._extend_graph()\n",
            "  File \"/usr/local/lib/python3.7/dist-packages/tensorflow_core/python/client/session.py\", line 1388, in _extend_graph\n",
            "    tf_session.ExtendSession(self._session)\n",
            "KeyboardInterrupt\n",
            "^C\n"
          ]
        }
      ]
    },
    {
      "cell_type": "code",
      "source": [
        "\n",
        "!python -m learning_to_simulate.train \\\n",
        "    --mode=\"eval_rollout\" \\\n",
        "    --data_path=/content/deepmind-research/learning_to_simulate/3/Goop \\\n",
        "    --model_path=/tmp/tmp0mqcsaok \\\n",
        "    --output_path=/content/rollouts/Goop"
      ],
      "metadata": {
        "colab": {
          "base_uri": "https://localhost:8080/"
        },
        "id": "HU6Z-jnB8xvX",
        "outputId": "e1bedee3-4edc-4669-fa03-196961acab76"
      },
      "execution_count": 45,
      "outputs": [
        {
          "output_type": "stream",
          "name": "stdout",
          "text": [
            "WARNING:tensorflow:From /usr/local/lib/python3.7/dist-packages/tensorflow_core/python/compat/v2_compat.py:68: disable_resource_variables (from tensorflow.python.ops.variable_scope) is deprecated and will be removed in a future version.\n",
            "Instructions for updating:\n",
            "non-resource variables are not supported in the long term\n",
            "INFO:tensorflow:Using default config.\n",
            "I1127 12:57:53.553304 139970963699584 estimator.py:1800] Using default config.\n",
            "INFO:tensorflow:Using config: {'_model_dir': '/tmp/tmp0mqcsaok', '_tf_random_seed': None, '_save_summary_steps': 100, '_save_checkpoints_steps': None, '_save_checkpoints_secs': 600, '_session_config': allow_soft_placement: true\n",
            "graph_options {\n",
            "  rewrite_options {\n",
            "    meta_optimizer_iterations: ONE\n",
            "  }\n",
            "}\n",
            ", '_keep_checkpoint_max': 5, '_keep_checkpoint_every_n_hours': 10000, '_log_step_count_steps': 100, '_train_distribute': None, '_device_fn': None, '_protocol': None, '_eval_distribute': None, '_experimental_distribute': None, '_experimental_max_worker_delay_secs': None, '_session_creation_timeout_secs': 7200, '_service': None, '_cluster_spec': <tensorflow.python.training.server_lib.ClusterSpec object at 0x7f4d47121650>, '_task_type': 'worker', '_task_id': 0, '_global_id_in_cluster': 0, '_master': '', '_evaluation_master': '', '_is_chief': True, '_num_ps_replicas': 0, '_num_worker_replicas': 1}\n",
            "I1127 12:57:53.554131 139970963699584 estimator.py:212] Using config: {'_model_dir': '/tmp/tmp0mqcsaok', '_tf_random_seed': None, '_save_summary_steps': 100, '_save_checkpoints_steps': None, '_save_checkpoints_secs': 600, '_session_config': allow_soft_placement: true\n",
            "graph_options {\n",
            "  rewrite_options {\n",
            "    meta_optimizer_iterations: ONE\n",
            "  }\n",
            "}\n",
            ", '_keep_checkpoint_max': 5, '_keep_checkpoint_every_n_hours': 10000, '_log_step_count_steps': 100, '_train_distribute': None, '_device_fn': None, '_protocol': None, '_eval_distribute': None, '_experimental_distribute': None, '_experimental_max_worker_delay_secs': None, '_session_creation_timeout_secs': 7200, '_service': None, '_cluster_spec': <tensorflow.python.training.server_lib.ClusterSpec object at 0x7f4d47121650>, '_task_type': 'worker', '_task_id': 0, '_global_id_in_cluster': 0, '_master': '', '_evaluation_master': '', '_is_chief': True, '_num_ps_replicas': 0, '_num_worker_replicas': 1}\n",
            "INFO:tensorflow:Calling model_fn.\n",
            "I1127 12:57:54.092664 139970963699584 estimator.py:1148] Calling model_fn.\n",
            "WARNING:tensorflow:From /usr/local/lib/python3.7/dist-packages/tensorflow_core/python/ops/resource_variable_ops.py:1630: calling BaseResourceVariable.__init__ (from tensorflow.python.ops.resource_variable_ops) with constraint is deprecated and will be removed in a future version.\n",
            "Instructions for updating:\n",
            "If using Keras pass *_constraint arguments to layers.\n",
            "W1127 12:57:54.167202 139970963699584 deprecation.py:506] From /usr/local/lib/python3.7/dist-packages/tensorflow_core/python/ops/resource_variable_ops.py:1630: calling BaseResourceVariable.__init__ (from tensorflow.python.ops.resource_variable_ops) with constraint is deprecated and will be removed in a future version.\n",
            "Instructions for updating:\n",
            "If using Keras pass *_constraint arguments to layers.\n",
            "WARNING:tensorflow:From /usr/local/lib/python3.7/dist-packages/sonnet/python/modules/basic.py:127: calling TruncatedNormal.__init__ (from tensorflow.python.ops.init_ops) with dtype is deprecated and will be removed in a future version.\n",
            "Instructions for updating:\n",
            "Call initializer instance with the dtype argument instead of passing it to the constructor\n",
            "W1127 12:57:54.239169 139970963699584 deprecation.py:506] From /usr/local/lib/python3.7/dist-packages/sonnet/python/modules/basic.py:127: calling TruncatedNormal.__init__ (from tensorflow.python.ops.init_ops) with dtype is deprecated and will be removed in a future version.\n",
            "Instructions for updating:\n",
            "Call initializer instance with the dtype argument instead of passing it to the constructor\n",
            "WARNING:tensorflow:From /usr/local/lib/python3.7/dist-packages/sonnet/python/modules/basic.py:132: calling Zeros.__init__ (from tensorflow.python.ops.init_ops) with dtype is deprecated and will be removed in a future version.\n",
            "Instructions for updating:\n",
            "Call initializer instance with the dtype argument instead of passing it to the constructor\n",
            "W1127 12:57:54.239611 139970963699584 deprecation.py:506] From /usr/local/lib/python3.7/dist-packages/sonnet/python/modules/basic.py:132: calling Zeros.__init__ (from tensorflow.python.ops.init_ops) with dtype is deprecated and will be removed in a future version.\n",
            "Instructions for updating:\n",
            "Call initializer instance with the dtype argument instead of passing it to the constructor\n",
            "WARNING:tensorflow:From /content/deepmind-research/learning_to_simulate/train.py:242: where (from tensorflow.python.ops.array_ops) is deprecated and will be removed in a future version.\n",
            "Instructions for updating:\n",
            "Use tf.where in 2.0, which has the same broadcast rule as np.where\n",
            "W1127 12:57:56.009885 139970963699584 deprecation.py:323] From /content/deepmind-research/learning_to_simulate/train.py:242: where (from tensorflow.python.ops.array_ops) is deprecated and will be removed in a future version.\n",
            "Instructions for updating:\n",
            "Use tf.where in 2.0, which has the same broadcast rule as np.where\n",
            "INFO:tensorflow:Done calling model_fn.\n",
            "I1127 12:57:56.058499 139970963699584 estimator.py:1150] Done calling model_fn.\n",
            "INFO:tensorflow:Graph was finalized.\n",
            "I1127 12:57:56.706982 139970963699584 monitored_session.py:240] Graph was finalized.\n",
            "2022-11-27 12:57:56.707545: I tensorflow/core/platform/cpu_feature_guard.cc:142] Your CPU supports instructions that this TensorFlow binary was not compiled to use: AVX2 FMA\n",
            "2022-11-27 12:57:56.714371: I tensorflow/core/platform/profile_utils/cpu_utils.cc:94] CPU Frequency: 2199995000 Hz\n",
            "2022-11-27 12:57:56.714715: I tensorflow/compiler/xla/service/service.cc:168] XLA service 0x2f0ba40 initialized for platform Host (this does not guarantee that XLA will be used). Devices:\n",
            "2022-11-27 12:57:56.714770: I tensorflow/compiler/xla/service/service.cc:176]   StreamExecutor device (0): Host, Default Version\n",
            "INFO:tensorflow:Restoring parameters from /tmp/tmp0mqcsaok/model.ckpt-4146\n",
            "I1127 12:57:56.716484 139970963699584 saver.py:1284] Restoring parameters from /tmp/tmp0mqcsaok/model.ckpt-4146\n",
            "INFO:tensorflow:Running local_init_op.\n",
            "I1127 12:57:57.141331 139970963699584 session_manager.py:500] Running local_init_op.\n",
            "INFO:tensorflow:Done running local_init_op.\n",
            "I1127 12:57:57.196007 139970963699584 session_manager.py:502] Done running local_init_op.\n",
            "I1127 12:58:39.332904 139970963699584 train.py:469] Saving: /content/rollouts/Goop/rollout_test_0.pkl.\n",
            "I1127 12:59:13.597026 139970963699584 train.py:469] Saving: /content/rollouts/Goop/rollout_test_1.pkl.\n",
            "I1127 13:00:11.000316 139970963699584 train.py:469] Saving: /content/rollouts/Goop/rollout_test_2.pkl.\n",
            "I1127 13:05:23.963348 139970963699584 train.py:469] Saving: /content/rollouts/Goop/rollout_test_3.pkl.\n",
            "I1127 13:06:40.968897 139970963699584 train.py:469] Saving: /content/rollouts/Goop/rollout_test_4.pkl.\n",
            "I1127 13:08:36.924808 139970963699584 train.py:469] Saving: /content/rollouts/Goop/rollout_test_5.pkl.\n",
            "I1127 13:10:22.650282 139970963699584 train.py:469] Saving: /content/rollouts/Goop/rollout_test_6.pkl.\n",
            "^C\n"
          ]
        }
      ]
    },
    {
      "cell_type": "code",
      "source": [
        "pwd"
      ],
      "metadata": {
        "colab": {
          "base_uri": "https://localhost:8080/",
          "height": 36
        },
        "id": "kpHNGKYKRGc5",
        "outputId": "d6b72360-9641-4d1b-9354-369339ae61f6"
      },
      "execution_count": null,
      "outputs": [
        {
          "output_type": "execute_result",
          "data": {
            "text/plain": [
              "'/content/deepmind-research/learning_to_simulate'"
            ],
            "application/vnd.google.colaboratory.intrinsic+json": {
              "type": "string"
            }
          },
          "metadata": {},
          "execution_count": 42
        }
      ]
    },
    {
      "cell_type": "code",
      "source": [
        "cd .."
      ],
      "metadata": {
        "colab": {
          "base_uri": "https://localhost:8080/"
        },
        "id": "bt4A0HgueJDF",
        "outputId": "df4b401b-df95-4090-a5b1-2b8b65e90776"
      },
      "execution_count": null,
      "outputs": [
        {
          "output_type": "stream",
          "name": "stdout",
          "text": [
            "/content/deepmind-research\n"
          ]
        }
      ]
    },
    {
      "cell_type": "code",
      "source": [
        "import sys    \n",
        "\n",
        "path_to_module = '/content/MyDrive'\n",
        "sys.path.append(path_to_module)\n",
        "print(sys.path)\n"
      ],
      "metadata": {
        "colab": {
          "base_uri": "https://localhost:8080/"
        },
        "id": "zAIUtJn8k8Rc",
        "outputId": "612a029e-1bfc-4385-9d1e-192d75961033"
      },
      "execution_count": null,
      "outputs": [
        {
          "output_type": "stream",
          "name": "stdout",
          "text": [
            "['/content', '/env/python', '/usr/lib/python37.zip', '/usr/lib/python3.7', '/usr/lib/python3.7/lib-dynload', '', '/usr/local/lib/python3.7/dist-packages', '/usr/lib/python3/dist-packages', '/usr/local/lib/python3.7/dist-packages/IPython/extensions', '/root/.ipython', '/content/MyDrive/pyevtk', '/content/MyDrive/pyevtk', '/content/MyDrive']\n"
          ]
        }
      ]
    },
    {
      "cell_type": "code",
      "source": [
        "import pyevtk._version"
      ],
      "metadata": {
        "id": "GxW2gzaLnLkQ"
      },
      "execution_count": null,
      "outputs": []
    },
    {
      "cell_type": "code",
      "source": [
        "import pyevtk.evtk"
      ],
      "metadata": {
        "id": "8hkL_Bcwnp5R"
      },
      "execution_count": null,
      "outputs": []
    },
    {
      "cell_type": "code",
      "source": [
        "import pyevtk.xml"
      ],
      "metadata": {
        "id": "724DEDYan0h8"
      },
      "execution_count": null,
      "outputs": []
    },
    {
      "cell_type": "code",
      "source": [
        "import pyevtk.vtk"
      ],
      "metadata": {
        "id": "-v9n-dfSn4HW"
      },
      "execution_count": null,
      "outputs": []
    },
    {
      "cell_type": "code",
      "source": [
        "import pyevtk.pyevtk as pyevtk"
      ],
      "metadata": {
        "id": "mnw6-flpn7LO"
      },
      "execution_count": null,
      "outputs": []
    },
    {
      "cell_type": "code",
      "source": [
        "!git clone \"https://github.com/pyscience-projects/pyevtk.git\""
      ],
      "metadata": {
        "colab": {
          "base_uri": "https://localhost:8080/"
        },
        "id": "Q0t2J1j6ofLF",
        "outputId": "e029a06f-6cf9-428a-be76-fc43360c8c6f"
      },
      "execution_count": null,
      "outputs": [
        {
          "output_type": "stream",
          "name": "stdout",
          "text": [
            "Cloning into 'pyevtk'...\n",
            "remote: Enumerating objects: 708, done.\u001b[K\n",
            "remote: Counting objects: 100% (248/248), done.\u001b[K\n",
            "remote: Compressing objects: 100% (111/111), done.\u001b[K\n",
            "remote: Total 708 (delta 133), reused 199 (delta 119), pack-reused 460\u001b[K\n",
            "Receiving objects: 100% (708/708), 453.86 KiB | 9.08 MiB/s, done.\n",
            "Resolving deltas: 100% (319/319), done.\n"
          ]
        }
      ]
    },
    {
      "cell_type": "code",
      "source": [],
      "metadata": {
        "colab": {
          "base_uri": "https://localhost:8080/",
          "height": 130
        },
        "id": "M9to9Ogco2Gz",
        "outputId": "dfab1013-3a09-48f1-f744-50e6a0a33e06"
      },
      "execution_count": null,
      "outputs": [
        {
          "output_type": "error",
          "ename": "SyntaxError",
          "evalue": "ignored",
          "traceback": [
            "\u001b[0;36m  File \u001b[0;32m\"<ipython-input-66-fa424470478e>\"\u001b[0;36m, line \u001b[0;32m1\u001b[0m\n\u001b[0;31m    import /content/deepmind-research/pyevtk/pyevtk\u001b[0m\n\u001b[0m           ^\u001b[0m\n\u001b[0;31mSyntaxError\u001b[0m\u001b[0;31m:\u001b[0m invalid syntax\n"
          ]
        }
      ]
    },
    {
      "cell_type": "code",
      "source": [
        "!pip install imageio-ffmpeg"
      ],
      "metadata": {
        "colab": {
          "base_uri": "https://localhost:8080/"
        },
        "id": "5Z1Hyg3wuz29",
        "outputId": "343165f4-5335-4a5d-a953-b0b4dd2489bc"
      },
      "execution_count": null,
      "outputs": [
        {
          "output_type": "stream",
          "name": "stdout",
          "text": [
            "Looking in indexes: https://pypi.org/simple, https://us-python.pkg.dev/colab-wheels/public/simple/\n",
            "Collecting imageio-ffmpeg\n",
            "  Downloading imageio_ffmpeg-0.4.7-py3-none-manylinux2010_x86_64.whl (26.9 MB)\n",
            "\u001b[K     |████████████████████████████████| 26.9 MB 2.0 MB/s \n",
            "\u001b[?25hInstalling collected packages: imageio-ffmpeg\n",
            "Successfully installed imageio-ffmpeg-0.4.7\n"
          ]
        }
      ]
    },
    {
      "cell_type": "code",
      "source": [
        "pwd"
      ],
      "metadata": {
        "colab": {
          "base_uri": "https://localhost:8080/",
          "height": 36
        },
        "id": "b50vdAQov1_Q",
        "outputId": "966d68ff-f78f-4018-dbb2-2d5f9595c0a4"
      },
      "execution_count": null,
      "outputs": [
        {
          "output_type": "execute_result",
          "data": {
            "text/plain": [
              "'/content/deepmind-research'"
            ],
            "application/vnd.google.colaboratory.intrinsic+json": {
              "type": "string"
            }
          },
          "metadata": {},
          "execution_count": 83
        }
      ]
    },
    {
      "cell_type": "code",
      "source": [
        "!python -m learning_to_simulate.render_rollout \\\n",
        "    --rollout_path=/content/rollouts/Goop/rollout_test_6.pkl"
      ],
      "metadata": {
        "colab": {
          "base_uri": "https://localhost:8080/"
        },
        "id": "vlbiq0zPGh-9",
        "outputId": "0af33f74-84ec-48cc-fa2a-30ff8f9df941"
      },
      "execution_count": 54,
      "outputs": [
        {
          "output_type": "stream",
          "name": "stdout",
          "text": [
            "Figure(1000x500)\n",
            "I1127 13:14:29.034005 140210660423552 animation.py:1112] Animation.save using <class 'matplotlib.animation.FFMpegWriter'>\n",
            "I1127 13:14:29.035372 140210660423552 animation.py:360] MovieWriter._run: running command: ffmpeg -f rawvideo -vcodec rawvideo -s 1000x500 -pix_fmt rgba -r 60 -loglevel error -i pipe: -vcodec h264 -pix_fmt yuv420p -y goop7.mp4\n"
          ]
        }
      ]
    },
    {
      "cell_type": "code",
      "source": [
        "!python -m learning_to_simulate.model_demo"
      ],
      "metadata": {
        "colab": {
          "base_uri": "https://localhost:8080/"
        },
        "id": "ZbbAG99jXEa8",
        "outputId": "1df898d5-61e8-4187-a96a-c03a71758bf5"
      },
      "execution_count": null,
      "outputs": [
        {
          "output_type": "stream",
          "name": "stdout",
          "text": [
            "WARNING:tensorflow:From /usr/local/lib/python3.7/dist-packages/tensorflow_core/python/compat/v2_compat.py:68: disable_resource_variables (from tensorflow.python.ops.variable_scope) is deprecated and will be removed in a future version.\n",
            "Instructions for updating:\n",
            "non-resource variables are not supported in the long term\n",
            "WARNING:tensorflow:From /usr/local/lib/python3.7/dist-packages/tensorflow_core/python/ops/resource_variable_ops.py:1630: calling BaseResourceVariable.__init__ (from tensorflow.python.ops.resource_variable_ops) with constraint is deprecated and will be removed in a future version.\n",
            "Instructions for updating:\n",
            "If using Keras pass *_constraint arguments to layers.\n",
            "WARNING:tensorflow:From /usr/local/lib/python3.7/dist-packages/tensorflow_core/python/ops/array_ops.py:1475: where (from tensorflow.python.ops.array_ops) is deprecated and will be removed in a future version.\n",
            "Instructions for updating:\n",
            "Use tf.where in 2.0, which has the same broadcast rule as np.where\n",
            "WARNING:tensorflow:From /usr/local/lib/python3.7/dist-packages/sonnet/python/modules/basic.py:127: calling TruncatedNormal.__init__ (from tensorflow.python.ops.init_ops) with dtype is deprecated and will be removed in a future version.\n",
            "Instructions for updating:\n",
            "Call initializer instance with the dtype argument instead of passing it to the constructor\n",
            "WARNING:tensorflow:From /usr/local/lib/python3.7/dist-packages/sonnet/python/modules/basic.py:132: calling Zeros.__init__ (from tensorflow.python.ops.init_ops) with dtype is deprecated and will be removed in a future version.\n",
            "Instructions for updating:\n",
            "Call initializer instance with the dtype argument instead of passing it to the constructor\n",
            "Per-particle output tensor: Tensor(\"LearnedSimulator_1/add_2:0\", shape=(?, 3), dtype=float32)\n",
            "Predicted norm. acceleration: Tensor(\"EncodeProcessDecode/mlp/linear_2/add:0\", shape=(?, 3), dtype=float32)\n",
            "Target norm. acceleration: Tensor(\"truediv_4:0\", shape=(?, 3), dtype=float32)\n",
            "2022-10-07 04:42:00.597038: I tensorflow/core/platform/cpu_feature_guard.cc:142] Your CPU supports instructions that this TensorFlow binary was not compiled to use: AVX2 FMA\n",
            "2022-10-07 04:42:00.653785: I tensorflow/core/platform/profile_utils/cpu_utils.cc:94] CPU Frequency: 2199995000 Hz\n",
            "2022-10-07 04:42:00.654206: I tensorflow/compiler/xla/service/service.cc:168] XLA service 0x2c639c0 initialized for platform Host (this does not guarantee that XLA will be used). Devices:\n",
            "2022-10-07 04:42:00.654252: I tensorflow/compiler/xla/service/service.cc:176]   StreamExecutor device (0): Host, Default Version\n"
          ]
        }
      ]
    },
    {
      "cell_type": "code",
      "source": [
        "!pip install tk"
      ],
      "metadata": {
        "id": "PepEqxO4ROVx"
      },
      "execution_count": null,
      "outputs": []
    },
    {
      "cell_type": "code",
      "source": [
        "# pylint: disable=g-bad-file-header\n",
        "# Copyright 2020 DeepMind Technologies Limited. All Rights Reserved.\n",
        "#\n",
        "# Licensed under the Apache License, Version 2.0 (the \"License\");\n",
        "# you may not use this file except in compliance with the License.\n",
        "# You may obtain a copy of the License at\n",
        "#\n",
        "#    http://www.apache.org/licenses/LICENSE-2.0\n",
        "#\n",
        "# Unless required by applicable law or agreed to in writing, software\n",
        "# distributed under the License is distributed on an \"AS IS\" BASIS,\n",
        "# WITHOUT WARRANTIES OR CONDITIONS OF ANY KIND, either express or  implied.\n",
        "# See the License for the specific language governing permissions and\n",
        "# limitations under the License.\n",
        "# ============================================================================\n",
        "\"\"\"Simple matplotlib rendering of a rollout prediction against ground truth.\n",
        "\n",
        "Usage (from parent directory):\n",
        "\n",
        "`python -m learning_to_simulate.render_rollout --rollout_path={OUTPUT_PATH}/rollout_test_1.pkl`\n",
        "\n",
        "Where {OUTPUT_PATH} is the output path passed to `train.py` in \"eval_rollout\"\n",
        "mode.\n",
        "\n",
        "It may require installing Tkinter with `sudo apt-get install python3.7-tk`.\n",
        "\n",
        "\"\"\"  # pylint: disable=line-too-long\n",
        "\n",
        "import pickle\n",
        "\n",
        "from absl import app\n",
        "from absl import flags\n",
        "\n",
        "from matplotlib import rc\n",
        "rc('animation', html='jshtml')\n",
        "\n",
        "from matplotlib import animation\n",
        "import matplotlib.pyplot as plt\n",
        "import numpy as np\n",
        "\n",
        "\n",
        "TYPE_TO_COLOR = {\n",
        "    3: \"black\",  # Boundary particles.\n",
        "    0: \"green\",  # Rigid solids.\n",
        "    7: \"magenta\",  # Goop.\n",
        "    6: \"gold\",  # Sand.\n",
        "    5: \"blue\",  # Water.\n",
        "}\n",
        "\n",
        "\n",
        "def main(unused_argv):\n",
        "  rollout_path=\"/content/rollouts/WaterRamps/rollout_test_0.pkl\"\n",
        "\n",
        "  #if not FLAGS.rollout_path:\n",
        "    #raise ValueError(\"A `rollout_path` must be passed.\")\n",
        "  with open(rollout_path, \"rb\") as file:\n",
        "    rollout_data = pickle.load(file)\n",
        "\n",
        "  fig, axes = plt.subplots(1, 2, figsize=(10, 5))\n",
        "\n",
        "  plot_info = []\n",
        "  for ax_i, (label, rollout_field) in enumerate(\n",
        "      [(\"Ground truth\", \"ground_truth_rollout\"),\n",
        "       (\"Prediction\", \"predicted_rollout\")]):\n",
        "    # Append the initial positions to get the full trajectory.\n",
        "    trajectory = np.concatenate([\n",
        "        rollout_data[\"initial_positions\"],\n",
        "        rollout_data[rollout_field]], axis=0)\n",
        "    ax = axes[ax_i]\n",
        "    ax.set_title(label)\n",
        "    bounds = rollout_data[\"metadata\"][\"bounds\"]\n",
        "    ax.set_xlim(bounds[0][0], bounds[0][1])\n",
        "    ax.set_ylim(bounds[1][0], bounds[1][1])\n",
        "    ax.set_xticks([])\n",
        "    ax.set_yticks([])\n",
        "    ax.set_aspect(1.)\n",
        "    points = {\n",
        "        particle_type: ax.plot([], [], \"o\", ms=2, color=color)[0]\n",
        "        for particle_type, color in TYPE_TO_COLOR.items()}\n",
        "    plot_info.append((ax, trajectory, points))\n",
        "\n",
        "  num_steps = trajectory.shape[0]\n",
        "\n",
        "  def update(step_i):\n",
        "    outputs = []\n",
        "    for _, trajectory, points in plot_info:\n",
        "      for particle_type, line in points.items():\n",
        "        mask = rollout_data[\"particle_types\"] == particle_type\n",
        "        line.set_data(trajectory[step_i, mask, 0],\n",
        "                      trajectory[step_i, mask, 1])\n",
        "        outputs.append(line)\n",
        "    return outputs\n",
        "\n",
        "  unused_animation = animation.FuncAnimation(\n",
        "      fig, update,\n",
        "      frames=np.arange(0, num_steps, 3), interval=10)\n",
        "  plt.show(block=True)\n",
        "  unused_animation\n",
        "\n",
        "\n",
        "if __name__ == \"__main__\":\n",
        "  app.run(main)"
      ],
      "metadata": {
        "id": "5pyZ-S3MRxB7"
      },
      "execution_count": null,
      "outputs": []
    },
    {
      "cell_type": "code",
      "source": [
        "# importing required libraries\n",
        "from matplotlib import pyplot as plt\n",
        "import numpy as np\n",
        "import matplotlib.animation as animation\n",
        "from IPython import display\n",
        "\n",
        "# initializing a figure\n",
        "fig = plt.figure()\n",
        "\n",
        "# labeling the x-axis and y-axis\n",
        "axis = plt.axes(xlim=(0, 4), ylim=(-1.5, 1.5))\n",
        "\n",
        "# initializing a line variable\n",
        "line, = axis.plot([], [], lw=3)\n",
        "\n",
        "def animate(frame_number):\n",
        "\tx = np.linspace(0, 4, 1000)\n",
        "\n",
        "\t# plots a sine graph\n",
        "\ty = np.sin(2 * np.pi * (x - 0.01 * frame_number))\n",
        "\tline.set_data(x, y)\n",
        "\tline.set_color('green')\n",
        "\treturn line,\n",
        "\n",
        "\n",
        "anim = animation.FuncAnimation(fig, animate, frames=100,\n",
        "\t\t\t\t\t\t\tinterval=20, blit=True)\n",
        "fig.suptitle('Sine wave plot', fontsize=14)\n",
        "\n",
        "# converting to an html5 video\n",
        "video = anim.to_html5_video()\n",
        "\n",
        "# embedding for the video\n",
        "html = display.HTML(video)\n",
        "\n",
        "# draw the animation\n",
        "display.display(html)\n",
        "plt.close()\n"
      ],
      "metadata": {
        "colab": {
          "base_uri": "https://localhost:8080/",
          "height": 310
        },
        "id": "WPHW4ijBz8Vp",
        "outputId": "162626b3-0439-4e48-df0b-d02e69ca6150"
      },
      "execution_count": null,
      "outputs": [
        {
          "output_type": "display_data",
          "data": {
            "text/plain": [
              "<IPython.core.display.HTML object>"
            ],
            "text/html": [
              "<video width=\"432\" height=\"288\" controls autoplay loop>\n",
              "  <source type=\"video/mp4\" src=\"data:video/mp4;base64,AAAAHGZ0eXBNNFYgAAACAGlzb21pc28yYXZjMQAAAAhmcmVlAACbVG1kYXQAAAKuBgX//6rcRem9\n",
              "5tlIt5Ys2CDZI+7veDI2NCAtIGNvcmUgMTUyIHIyODU0IGU5YTU5MDMgLSBILjI2NC9NUEVHLTQg\n",
              "QVZDIGNvZGVjIC0gQ29weWxlZnQgMjAwMy0yMDE3IC0gaHR0cDovL3d3dy52aWRlb2xhbi5vcmcv\n",
              "eDI2NC5odG1sIC0gb3B0aW9uczogY2FiYWM9MSByZWY9MyBkZWJsb2NrPTE6MDowIGFuYWx5c2U9\n",
              "MHgzOjB4MTEzIG1lPWhleCBzdWJtZT03IHBzeT0xIHBzeV9yZD0xLjAwOjAuMDAgbWl4ZWRfcmVm\n",
              "PTEgbWVfcmFuZ2U9MTYgY2hyb21hX21lPTEgdHJlbGxpcz0xIDh4OGRjdD0xIGNxbT0wIGRlYWR6\n",
              "b25lPTIxLDExIGZhc3RfcHNraXA9MSBjaHJvbWFfcXBfb2Zmc2V0PS0yIHRocmVhZHM9MyBsb29r\n",
              "YWhlYWRfdGhyZWFkcz0xIHNsaWNlZF90aHJlYWRzPTAgbnI9MCBkZWNpbWF0ZT0xIGludGVybGFj\n",
              "ZWQ9MCBibHVyYXlfY29tcGF0PTAgY29uc3RyYWluZWRfaW50cmE9MCBiZnJhbWVzPTMgYl9weXJh\n",
              "bWlkPTIgYl9hZGFwdD0xIGJfYmlhcz0wIGRpcmVjdD0xIHdlaWdodGI9MSBvcGVuX2dvcD0wIHdl\n",
              "aWdodHA9MiBrZXlpbnQ9MjUwIGtleWludF9taW49MjUgc2NlbmVjdXQ9NDAgaW50cmFfcmVmcmVz\n",
              "aD0wIHJjX2xvb2thaGVhZD00MCByYz1jcmYgbWJ0cmVlPTEgY3JmPTIzLjAgcWNvbXA9MC42MCBx\n",
              "cG1pbj0wIHFwbWF4PTY5IHFwc3RlcD00IGlwX3JhdGlvPTEuNDAgYXE9MToxLjAwAIAAABwzZYiE\n",
              "ADP//vbsvgU1/Z/QlxEsxdpKcD4qpK8X3du9xAYAsRcCx27BcFrFJhzjBSWWrQoSaejKzcIYrTav\n",
              "+PAiwBKW6T25/zOpheFBn0oCdW94PseW0Uxr1W6PLv0Wp1TRNyC0gpwg2rEs+XKreCqs41TL7oGa\n",
              "yARQp1ANZmZVXQH3G76bjHsnaVmRm1QO89RIzkcQJppRg209fYkyLKBhxMj1ln1ByXUUgeocZ9sU\n",
              "aHOfNQprUJaYVS61K5cHyuy0I2WnugjMTwB7gtLVYwL6jWYjWSGQD3EO3RKJ/zM6M6QIhpxGriQH\n",
              "6o9RDspiNm5cpVzUNrgTXFB6H2d/W2GBpzEZpswbMVIc4vDSS9F6qhXfqMzU5WG/g8SHaRZEE/0A\n",
              "cn+BzknN4SLB+SdUXzm/vOaR6A02xFhkAwx85gEHYiNsnG8dvjHI9hAR4+z2qiBv9vjYU/lh8Bm5\n",
              "3V9yuBRHIz44WqBnvLCxyuKbJXF5fDXQO/9Cwb78DMhlY0xxeWMNl61pXveN62RoyX745DLqKUgc\n",
              "QOt9r72sOUk+7RsIrtJteVbZl6JSXxHmld7vXdnWRIr6zSIxW2T65nj/YsHTvPpC1VI7LoarFI8h\n",
              "eXiDjBAVvNTWigJ7UGObZwuAlqrMLw8f9Ulg70G90YIndfEZfjYcweJXrstJERsTn6YlNR6xws2j\n",
              "CKj6DGzNY5evl7CLHVLWvx3/TO3vmUACHOjmeeS7o5+UZdMhZCfjRtwyTFD+HNlYpoMuSVQS+18Y\n",
              "aFf+SMswFB8pEh/gVXzpQHY54iN+osH61CbjRWJaORrOc0uJzwTBMFycQUrx+/8MLRwj4/xFC0Hd\n",
              "DRh3kkxnmh9Q/GyEo4g6iIFH94gRJpN6UTrZl4F4VBv28K+mzuGOnVPSV0hx4QXkcfECMl1iwTgq\n",
              "6WQzmsEEx6MvnR7cTYk3OBSPNePtVjVp+CiFSgEzP9WaroWYJ6++Aw/5AGKDCP5Pz+XAt1gKGkIJ\n",
              "uAh+5J9yNVXcSbrOYAAnsFLrxWOVaYAWWuYwA+AVVW4djxcC4L8WkEWauLYyOhlR5YwnYk6J2e5U\n",
              "yzBDIvxWaGOUW9DvsjG67Z5w8Wg50uWzROT0aPedH0QC7Yk3xN+CGH92C6TgGurizpRDuK6zsYsb\n",
              "/8rQExD7r97ML6CNG3XyqCCGm/386CVKVygAAE8na5/6L+bSo3aUQFxz33Wwtw4R/tcCP3034VXq\n",
              "CgCPGloNWQqTn/0zUQuwSyist8IuDxTJNni6YU98ay5axx8Iy7Vj6tgC8dbPdl5T9vkLATbq6mD3\n",
              "/wWK7vYDDCQiMWMWLS/76NvNnU7QkGtShLBmcYQeFQE/R36yNR5qf17xzh+bhMReRUXQspK0bakn\n",
              "jF1wMkndTKP8NTMpvX1J1SpOWx7WzADVHqXeat+gXO9yI5g8AjbiXi/d5o4/3CLRrE6KoCwUD2xO\n",
              "+d47NLXG/fHD8+5ik//q4w4JT0rMPNzXwTI8na2eggojoFqKiwVlAC/MVnT/VExlXw7dRujznayu\n",
              "4BSXWuX2VAKpFiXocxrcw9GInrJebaHAF4+V4bKn8OMfLa4mCsluM/+s6NJiRCyiBtd02bMDRBQk\n",
              "N2640Pjwrg/7A8SjFKBhjvyIrwG2Ye/G+JTHIKHqUCgtrsVJ5CrJ/MricsBszmpkrj+aHOLXAM5j\n",
              "pYU17fO6/w9cIb6IvebkcZFA2Vu9pbUo3FBT1cp0NLfQpkxBrY5OYM2uBP/yYgF2Z9TacxaACDzE\n",
              "GikqsOEoIimjduWkibnv1lKbDeUOPkitcg+mi0F9MJRW9MU3QGA1MHWsJ/8snxfRUamRSx1lgkA1\n",
              "yRwAiOHJGf9oabm3T0Xpnck6vpWE6mA58wduTgbuEpCwwhLrYTU7k+CavF4jYvMJo7xzQX3IYHdU\n",
              "WCO5cpZ0e8kUM+SDk5xLiyujAtutwV3HXzhQBe8mK/QOmUrm01uTyhzpEK1HhW8M5m0s3xidWtNt\n",
              "zoq3WjjtMwpar/Afr1BLw/Jf1WVC4F8DALKLlpcc/XihZGnIoquZZvv+ZNf4sctvInRWrWPyF8G6\n",
              "cOx6zK/pPpbNaA0N2lllvla9qnXYjYDT2AkiLsreNhOrkWbBBf8AfT021hZL2Mmjb9597lOL/ElS\n",
              "QQyf4ZgOVF2mIxE8uJqX71S7kSLRilsbEWJGrT+Vu+zWFDEw3Ejntz8m0+u/mSN/lFY23xoGyibe\n",
              "c/lWQHg9Y3/xrvsEorYfb2+AdDcDwW4tUGyJonhbuGXlX5Fgucr3+4qVkB3CzRo+0Eo/x3N/MUW7\n",
              "KRGt8aA7gNSSuAgt5JeXHVWBK4dXI1xnBjvR47iCBhiVoObTBgkWfnIF86IqaoxTzXfilh2DZ8uo\n",
              "xfFIkcmEk/Y3Ftc1jLus1c9F/EZ0kENjkR+2W9b/HJNVpjpdx37ysX97etH4jXjLDiTIN4iMGyH4\n",
              "H7+KpRikkYPkb9x06DnZZ2u/RpYhsUxNfkXYVHKlMZmDhnhixaPRa3mvJnJ+vAIRGccjGq51PqAm\n",
              "5vlIHVg90u8PDTs3sYKs07WoIdFUjvS4pKtWPQMIm8rtfME211SKKQA6Pkmf6XVrW3ygFaTGMo4j\n",
              "lF7+4VhAPGYjnqtu8SLNhn6tPnzRUBsFa6WMGXgRceYV04EX3rkMRpJxG2rqZU7qaMyR+UGa/yeQ\n",
              "fWTcyHaho+MLUUeH6wkS95ecwptgjWQgP2j/iabp6cO1ON/NntOgXJdyF3q17Eb0t8+y2pXU46VY\n",
              "Y8NPRFQ5QNB1IuxPJahQV0fH+wCouiw4Qdn/2qC8DQn5fqGrQT7Dod09KDQSY0c9+itiq6CPV3t6\n",
              "dFI2Wv4T2sWtMlTlJIjVvfPgslaQqzvA2vpn9PMG67lJeyyGiecnTGtPQ4HqUDx6Fkf4fQxdArIr\n",
              "E9tbPqTE2Khwp6kTG8BISD/+Ihtk4eL/i2ODZj37TEeAS4RLw9YkEd9K54N7WMyiqxToAtzuoxuE\n",
              "xim0Cqp97SKiqTMk6FO2DBymMDA7Pmh7yFwZjRnmj6slsqzF4wK4I9iJgHMBTHuwC2gYl9/Ymj8/\n",
              "HTHUDEKDZwdL/taoZakMELT0dlFizinvvfMHZKUBJasX88vi1Iv0h2epoY6oCup5TjXisitmdKzJ\n",
              "GYiTxKr99ynaB4og7rU35LoRCCL5Os1jX1gza33bE+FM6hAcg/wMsqMbzw/GN4QEZ7qhFuZAdyR4\n",
              "f1gkw0fHiOz++CF3Xod5M095lazjTdCBSha1FKgerYo9i8iKJ3nfC0oaH1bTR1uCEqcrOU0DZPrE\n",
              "3x9gbK9Hf2+KXexH7EIevT0+yRz33zTPWjjDACEUuhBIJyLTBEgQlYjzwVMUR5Zf5LE3jGCOfU63\n",
              "Ndtj6py1W+EPt84fucfvoIbX5EjAH766/1qhLiL4B/kLbiMZ00kNwr84mzRG9Wbx7/nJemQQoJGj\n",
              "OrPbGOJ1P7yd9trg0+rpYMLwkO4IiVr4Y6u3vEr0HPLOlcxB4cNfQnni/kNUKTGrB5AT7GiKd1c1\n",
              "5SFA+YO7LP3wH0XVBmxb1x+ISahRIrNlDVkL0zfdO0JFOrFepUzsNg/vNZ33030EB+aqacs0wcB8\n",
              "88DNME7zEnN3EbXlmDKayQbvCH5I35/SihEPRELajRSIs76Dw8rqs7QAuhrM40vwVWsQgFFdsE5V\n",
              "JXyyHXeMjNqKJTZU4jFwnw5gU1GyE7bxTg+7dr/P2tR9y9a5sdGNB6fEouiQcFzCLwT1gzSRPDJf\n",
              "XdpDGoHhlU0j56iBiVAVwTM0NhG/2mPDDZ9TLz/GG0YafOhqkDK3ma6vEXs6ndBJTLHIJE3PdVI2\n",
              "cFOgoANonaKKTw+gAl8sn5RgMi3vLhSiGV5lGuUywm+n5Q7+BU6gcfKBiKVxNAfLhOaYcERtsgvA\n",
              "p1P+92sHMw++pBH8PilkEORwoVmrs5V3FxvgkcBWt9Sw0rDtpadqoOe0IqE/g0xuywc+NFIfgE7B\n",
              "VcMMGneFz7SmNCpvUw25pdnQnXRIfgkpNGQN/4j7KG/Lw8qOsrFrF6K3okkcUb0axVUnE4V8KpA2\n",
              "8OemEOdHyPeyUTvEurPI0x6UYMUwEnu/l4XcgcbNrXmaoF/KdRRx9COJ8QIct44QIqjkJY7fmiGI\n",
              "cKs2shzXyF7QqGcdGawkxNmXFiTp/qL0R2hHxtOXbga1mh4525Mx96nhZJBLKxWHchzD1N+5Vfxf\n",
              "Ytjm8zrlqhKpxMjlpfKBdxAPjr6hSX2Nj3vvVKjFRNbiLQ+RVllgJO872c9RGcFz+jYZM/TCAXH7\n",
              "5+nCFgILX5FUrQsFBHZI/zOYg92JYESYfxiST2M0kifUGa3zMAz/U6EWdCI13ihsFM1uADLqxqlH\n",
              "6xg5ajlfzO94yJQbufvG4cyh9oDY8ZgH5C7a3fU4vS93FyQUj9b46lX728xaH+xbgVMxDFvWycrG\n",
              "kd6955dYCj02gOobX+ipanNgqkmz1tv+auM9XXTH1nbt5E4kTeaa+cIARsbsIGYiwJpR0Ohqnb7Y\n",
              "jLWI1EUsQuJ3li2roRFEoIcR/uwdjJJ64IUnFIy03YDveQGgL3vdlIUcjDcEwTq1REKZ7NGSLATt\n",
              "4Vz8fS2tZAhVl4eOOtHvDSFYoe8748Sah3+ZJnwmNpA2enUFbPsRSTW3yvJ9fNqFe8X1/+5aut1T\n",
              "z6RskmoKHR2UGPMqHWthB9E9/L5OO6WdewanO02yEzIJf+mbjrlsJuoz0iKePz2MsJIJCnluN12P\n",
              "DMnThK/3ZxFClq/3OCIz2mZ0Q/UKuCoT+zP4Or8xtkPDS9LtDKEnMCp8jUX8iQT0FYB3w0DHvES3\n",
              "bOUL6ahWkOmp6kEgTUN1sCeuYp0J4LdqX62cyEfVAlIG1SVf9T7xBlr+di8DHQikEsk5l+GVdCpJ\n",
              "07y+VxpGUXAq4nNm/g/vRq2ixafRImU58eRb4nQAJBEoBTD1UpyrlKygmVdvuSL3bCOzz3k1b09o\n",
              "xJcPXYbkrM2BJt3djD4WPbrBuC4ttI8pAOKSMlqjiRbXwogn21CwqCVVdohAQcQ+mh79NAom10Gr\n",
              "ydHtP/k54cnD6suSmD9ufoUsQUagvBFTT5DORX49h6ZwuDgv3q5lHSgW3yWYs36c7k5qhfkT+jOc\n",
              "7rme6sObHvTye0OcGYET+N08ZRhmnIgXfVCWsZihp61GK+mopoZFbpkeacJjO4bx+pmyDgBeC+r5\n",
              "ZMQlqo+5L+tJohRqbhypsmCzYfT8KVlC5oxHw4JHBqDwTAi1B7dFgwDYriwSABkL5X6WAnlT21pj\n",
              "Delt028N9uWU7vAMtrvxs1zTaLZ54XaOVy8KjN0m9kyLoheA354rgFeuBpBM0gimTQBdLNd4gS7j\n",
              "u8PoxryopRPE5c5rNBpx4YtO9Oqyxi+0UFaz2KiaMw6ATyIsdhEQfzOENQPtC2LTSY8Q8qxDb8k/\n",
              "FyUYS4MhEN9hXqAVl2AZji7H+DgwY9k2gYqO5YCc30GWbGTVm8qg4Vkxkdr+OWxDjWuTDLOI2kGH\n",
              "mQxcYL+Mikd4t4Miue3O4oPAk4kBQ9TnmtRnR9PvGVI4k8I0UuxuJ7GwXscGeC0AO2lFqY+GESgZ\n",
              "nPaVnvdpMAK4t4JxC/dUnEBGfVullqGNw/nl55sG8tcxK3fota5wjAO45V3Z1imcGQHsUJbHgTIR\n",
              "dPIz8fJq/aZjeIbdHGvlqbCH6zmYZhM1efp/cCx3B2cTBXq/Ds+CJqpi/JCll/kahzWtzC194+bG\n",
              "SrU4OcXYKLb3fc9GadR7HOTpCgyGUUfGSLG5Nxxxt1jNP5cJujjG6wQdlny0GO9xv4qnfJHwIjOf\n",
              "eztDTcwYHqYvJe4jVbGr/h/orFylC/dOXQHnbmJXQlzwuuX9CPThHNZjdvuodjdhkQZzdqSp1sy4\n",
              "R4jiUMjLTLHmEmrG6qVSdq2pScjCgNKO21BaS9gB3U2o36Xe2ssXcTsrditnj7LYyOcrumgP1n0j\n",
              "I6719LNVbEtRlQk+jx8QY+/DCjQVNsT+eOYlas2ZxReuT9MmWPYR6WArFN+on1e4SUqXQJ9RAkwX\n",
              "WCjb8yiZKDtJBQMOtxqOlZrT+7vtB7OXCYnESg0uaR8OTHIAkwwLSxHAUS2J9KY7+P4IZni/Aee9\n",
              "hj689Lt33NN3AEDSfY0fTfewJxjvdLsIvzD5iy+9aGNB/lFtzurXCBOrVAY9zRoZ4Rlxgadz1bX1\n",
              "uw5y2zOiOA+kbIaClvlSf0dyHq3M6hPfYm5LmZd2gQ9sOgOO43mACLfr7yxLwQD05GVDNYBj0sqA\n",
              "miPqzo4QfXBuB/QycZQPeucSsHM8Si6bmM5pBTTZyFnN42Lrd0a3fqFAJF2pjaNIJPamj+Gwb5Yq\n",
              "CpS6rA5HncdV7tN9ZrbDhcdfNnQQZOdwB5tQGl4TxHr0N0z9j5zlTiYUDEp6COslkT2/K5XG1xMa\n",
              "0MOs2IpjpjvjRhvf+v85ymz6yqh4NXf7fI4a/B6keG6FuGac2s29i1Yx45H6j1T/jJxfD4A4Oi36\n",
              "hvlxC9rlsTbis/X54TKtBfdb8j96sAqmHhxFDSl0BwXzkZnkkNeRI+od4FZvA5zJjdAKeGsupHzI\n",
              "r6dOG2BavewLlYNhKi1u7bO+5Z6avzbpAeZ3Aj9TLejP5tzDFSGxOvM0NJ007zL9CrjG2clBw/k7\n",
              "Jm0z4/PjkIq+BcXMtoe2rTRs7RXA8w3XS/i6KV/ebIzcEDIWeiz5lABftHNpsSJXjokiKrmnKIpk\n",
              "SvMiknZuzjeLlKN5a92Rz6nzyH1TTNSPRXHyRV4c38tdCVXNLrkYsbFZMmL1/Eo7Q9VO2yFOml13\n",
              "Xd1f2s00CyhjZ0ZpZBxeMF6no4bmVQyq7fLe77wktjawd1+Ty2beoyt3zLOK80iwn3Lr09x3S/0O\n",
              "7tTBnzsT/aJPLOSmp+yUzFagxL16u0rezL2QGUtmaIp8p1+/RKV3GHbn64vR98AoNK8Rw6mXZkIE\n",
              "iatHigJocOgPSEsbU3TYDevQsAJP2OBhyYdLeIjenH6CBW8emalbsG02NRcJdOEt1BbQw+qGY3+l\n",
              "5sQyY4OMM1fL+VsoALzcle29NJOFTtSJCt/mjm4IGZSAl0CX0gh5G98zwKutxvHciLeEckgO8y/W\n",
              "dezaiLJBtmMJjcPWNJYSeb7Ls9MEWbNzo8r6JN56O8ug1VxMM0/R2tMeQEMlL4YJL+X7rUarQyQ2\n",
              "5LFd+32ribFk0SSEXej7x+ODBwhszjIwtren9LDt5Yc5vZHjD23/X+cNTFNOQJsFDb//7urTGUVI\n",
              "poDU+Z8+e3E+4WfUoQ0yog6KVifTbNkU2toDJsaGsszzB4IU9bk9WIVM2xjEBpdUAXqyckIoxq5N\n",
              "idWPN5ws57VIPMQXygCaS4WXAoGrWQo8jusXXqF8/l5/X2pNg8UPQxDFbCC4OApfgUhY6dVBB/qo\n",
              "uysA0vyaybvUjQSw0DjzwIn6LTTsFIRD/5UrYuzlsy61tMeU2jCka+WvRMgnw06ULV+iampuumiT\n",
              "sFCXAC8F3lEveWmnFNEvK3ta9fVPNKxegQlodJhQlfeYMkOOR2DYSg1AuRI1m9fY3AmxY+UI/C8n\n",
              "R8yGrXTcXvoitxsTN6f0hDUKiGaxUt7U0Hu0JO+d+nvQL69SQxr6gSxG4ZYYOGM5eB6/pWefTrTi\n",
              "fNXkFWP8DodXUOV/YiT5fbSdvfqoSYXPrBnUbphh3t1ElJKchWwlc8awdq3DQ2bvihP45Z104h2h\n",
              "OE+NZmtjMylt569ZBlytG/b1YAecgElt/txSoDs2zqi65b0IQLBd6SlPKIJj1nyUfw3rgO0Ce+SB\n",
              "rgYeETSZkOTUiyWcitpPwaU5P+r6O8wUgE3mzgGhZJXVe9pjfAdDML+4rJ09MVTRFsXsZkFAkzHI\n",
              "7ndfp0nGaoAa0hQ7kAJonDe/tuaIs6q6OsXgVw43M7i9/8N8qvVLwQ///bEb/+av/4eFcxkzEBHQ\n",
              "/iHyOmHeLyTqdXW+ymbr6UlGQ9Rjw6zdt1U7P/sAiz2O0QSb4FEDVssggjU5FQCBsrUd91EjySOn\n",
              "wgjxdjZxlkc1OwrKwP7HOcKyrKtDkroQpZzPfrU/3XSzVAH25WS1P/FHxC9hYhqRkqVGvWN4gHh+\n",
              "npt/VVPV+UUYXDn6LcPow+1mT5UIo/qVDXes/u1/0Uw/drUwaxRUHSHeBQmih14QlvS3FQGnQ5U/\n",
              "UxVkZBeBqY/r6/s6/lGlVDKbk1X7Oa+EZuhB07n8nDj6z0YXRP/Xf95TKmW2/Rjq8U+I4JoWsJL7\n",
              "qYDzSuudAUrE8Okwtdf5X5DGYCS/q9mbNIIrCx4HgVWiEntq/cmYcu52eoBLB24zHY8AkWMnjBD9\n",
              "AitHqIl/47IEhbfL6YJOsypr9/Y0bRBKIJFem6AWqYZPUyyQiEI+bsxGVce0v6GFLSZZ4vynO6OE\n",
              "dOm3qLWfHZdxEu3TL/6+yYfp7bJJTJ5+1PN/V57zphyj7QtqHRey1VKXfvO+BpyWjbfxKBc834r3\n",
              "mrX4AchRQrsIqkmgYiYthopJ+fUsj50/b09LKY2CBOytS005CQFNhHTwBT/c6fMgxM8Vhbu2Pyif\n",
              "wde71QchuOWxznWSnTzliLY+fRhGoZZLqlgasuuE6ruCbKnbPthPIswfv5uD07Yjzebd6caVrpLD\n",
              "R3aOzHHXP6oRp00mVnM8IHFNt0lWO6XJOwXCEeeuoaqmVESEbtE7OVoGVPCtbtfWmfaU7YMVZigo\n",
              "waUkUd6kW5hwlvkPMhJ/ypMFsf0ABvhRnuOb/MklZbdVZaqjBtOTod34awz5Y2DNKQEAHXSyJGDd\n",
              "6CX1LQ9Qth2hMz/5+c4WaTD46u9OjcCHjUGDuFR/m/5teLXC3Krd73IJLIRkcVWuk4WtfvELXOfB\n",
              "UI8+Vmp1xQ9NuK57OjC0WbJcUlNIVswrbpWRK+b9JPxUqNpCu2SGx/eYGgwA11tnMBAedqmKNbWX\n",
              "P3i0yfBrqi+CrC99UUDSGW8hJA+a9zueepzfP8AVazYk7pIJaPC3JCsoS9uGjPbUlREFp7swBKx0\n",
              "TFMwphoFAbQE0W1YYFKKIQ24vLwUrVqd1wY77cy7c3hdFskP/GM3Grf6jXZoeMeymeq+Tan7qJjG\n",
              "wAuAS099mNI5LvfGgpG+AiAn6UF2I7Pg6GdoR1jkUd8soocLg1ANTaT+0wpFnkum+G80akm3aOvg\n",
              "cAhkCyicMaQXSVe3B0BY7fn1fJrQ8Mqhj2HyuwUHkwJawR9VyCQ90LZFGTOTmYhdRUpjyJN7CQBy\n",
              "TzfY5fOXuTqE1iYAv7w9NtNqSTjEaeXXi06nRWFlwWk0gE00WtVRpL77zoM1CoxSXGwxGw1abhNm\n",
              "M8LxrTnct50dZertdEAD3QKzF5gPrF5A+UHR/HmDm82zqlqg08YsUmKo39Uwfgdv57FLGTQe4hYm\n",
              "Rmh6VZmnlvKfDvht2/uDlPftYiWBxM5dmBIPI7IeSbbvXCr8mShtrUKdbfvRIer/4Eqg9LXopG2x\n",
              "FGy45xfDkLSZkEqj8pEz+NuyqCJRpeTD0zLj7CLcin++uVEZ9ZISxeQBuv4jClJHqxXBbTGCtcNv\n",
              "wbsn7HGC03bOoXMymPlwDs5zLC1ECKfiQo6b9MC5yaegi9rjNAnvittI9wpFS3PC+FB3leteioQp\n",
              "dftcxR4S3L0cMwCG8GGSzoyawoAADrYOjKyM9lOhEP25eQAAA3ZBmiRsQv/+jLCE4nM0l05gDb1I\n",
              "RaCZyqgCD2CbZWRKdcMFuqnGTw6T7DO10E2Zp9KjINk247JY4IhOk9DbA1tQkXjzuCubYAAAB2al\n",
              "Mw/GdeRcJmJtJ14tSJFdnl6+M+Ko0IC5ZyW/VBeCke7tDsVVxXbfuJ/6YqVJGiXyiqac5jO1iYKl\n",
              "y4o27hqqsWiq6T/KYuR8q/ahqgRlMo3TbncwGYlDJ28BjUtl2PV1sVS3QGh9zjRQEfb0kiXjTzUY\n",
              "7JmJAm6cyTqkh1ogO6wWSgArXNOc10xXChztfqgmlVr20eRj/rC8MlOTB7c3hbrpvGftDwdruXOi\n",
              "noYAuYZ716Z7gdzeV8fc03UEMDl7kb3gBfTiiGZjKZ3Qvq06csSDqvnXX8bTSLXkfVay+UvugJe2\n",
              "gTpN53TDQ561qfbppfhorREnZrfEbckJfROnr6094aT1PTn2cG8HqDvIJYJBpHdxM42kGvZdaI68\n",
              "F5zl0PicIwU0XszMeyJbe3tlZm9/bRcmnaWepAwK15SAw9ewr/NH8mzKIMU+6mytzIDoTB4ivKqo\n",
              "k5i8MYXa/o4usDut8cSh4LSHckEW+ngjiHUic4H+SLPhsUeFpNP55Km0W9QAD4LrefOmz6SJvcUI\n",
              "M4SwHdD1sob0auonckkrkmamAWbalMU+P8Q+HmOsKuD1DpO1JjGrrFJKBTUtGfbJ0Ry9WJso855f\n",
              "c1R8MsSqhhoEmf0Ju6N/bIR91xAh7K9MJ3HAR/dqbeSKes3xf4QCg/IbZzpy1H5MeK/hjS5wPV22\n",
              "P2aQ28YGBWWKuiQ+9bda01wWRGr8MHr7vgce7CbFxjDTjQdrqZIu3L23iT1AdWWlz/CpUyK4lx3m\n",
              "SvnVMLbsie9VkGNvgrrRZzhKiGMJWryztMeVMkyZvkQVolVckc3e0DtdwszE4vAqENbnlwuyv6o4\n",
              "oCxbamRVJA4De1JDISWnJ/xZ1Eg/PQSVnctDXyFRRtR2va+lfgLJn12iCwCS5kezmwRROsvVYAXk\n",
              "x5WY70Ain6jCdYcPGVZJIgPgCoIersx+yxkaYRw2CXH8KI5zTonm+SVKrbuc6n6zvg6y9c/yHHhM\n",
              "ebZ7nAWMw/pJP7sCTPFsw4qyFqclVq4HSxQuy37O7GSt+6fd8uwRB3ygUuOYxtcUvKWf4aeZKXqY\n",
              "UYXEalhw5tEDQbvgAAABJkGeQniEfwIrA+hrCzVMuqR3Sv2HPSTiSs0Xd5BCKTldo1Zjcdb7llXk\n",
              "b82/XTMD/DKOhHHhrwZYJYazVzlB/bXF3mo1G9wIRihPe0h/N7J+DJ8bhLNP4Xz1XuN8hLhILg84\n",
              "QzFPZsg5Z1uymUMAOuSK6Tmo0R0UiVPdPrWuIfd1o4OAtXcsobF3+xeHez0VUGJGJlVzLIici8G0\n",
              "IGb0ybN5JaumC9sGh1B6DyfSEMIDJn7CX/fOEYRQ8Sj4rW+kbeTFNYNFXUuaP2UAKuNgaASI+Md9\n",
              "aES9FxvQVTF+Q2cfK0ZGYSnDyGxiqwinKf/4OJBYLxxKeIj7KVp3EbGLHQGWy0rlRzZdh4I8Wq5A\n",
              "fE/a5iQvh7wbVvt28xEeF8hT47dhgO1hWQAAAOsBnmF0R/8A4kZhX48T9pv1lrOn7FXaYASWRsJS\n",
              "TEQGh1cnOoVx4sEOQZOToACbzwCsRlRiQTsKgIkDkXnKHPJacCuGA0zsFMbonVkspHHc6llOtnAN\n",
              "FDi4Nkvu+pFecyjm1xr0jIFDiDN85ad7+U9mXfOlG383oD/iTEznegYfmcj9ptWeXWry7Ogg/C7b\n",
              "DknJTx08BTsPdbjrQOFNijJrS0epU2li73K3koNz3VHlSXorQN7pp6hnjybHrPxR6qSkXiR++Qnk\n",
              "XUV3261wLuGaFzT7PGgwNznIHqulHvumeibeN9xjET2ncB0wAAAAzAGeY2pH/wDYdBufCDozNL+f\n",
              "WBu5CvMVWrkahH88whjtqS/5JsRlhKzl1M+gG/qPSvw9GQT7kLl23BqMNIs/U1tJxA7GnKmT2Vdi\n",
              "8BWEX8Dv7RO4JKDmPwuABEGl3DzuJa/oB7GFGGfluz9V0drgsHnG3Lz92G+AKjQbPT//e+9oweId\n",
              "k4j6LgDJkKM07G2q5ckPvkGhNBkUyAXQdaUso12Vpvpp7LhbGp7h9za0RErRmeFQVRuqjHC2TpcW\n",
              "HGzVOeRMa8ocD7XxpbQqoQAAAepBmmdJqEFomUwIZ//+nhABpbVk6XoAcD0OdOtnhJD+oEK9RSvU\n",
              "DbucfrxXi+HX5PwVoyZlDJVlTiQPVlt5NwEADrcoKBHEQdN+Wu9rDiYjJOPZW95WNtlv01/sS3Dm\n",
              "H8CHM6Y968gAyXI6XC18R8CrYLW0i6vLcqTJmFLHnpxdfK5oXxCdbqhzJkrOaD+M7YfvY2RWvJV3\n",
              "5o3Lu22q5a8EIUo7NwOVVlYV9kU4Ss1zW1WWdNke6xWoO1UXK4zrdmIm2EnuF9ep9t/DdWw3X2ce\n",
              "3TLzotHo5lN46yETpVqVSAB+beawVnXjC+ABk4iQE/jmot/SFs075UqHH6b5xZghLNBOlKdsCWqF\n",
              "39OUxK6hyRKtHFFvbfxm8tP0ecYaeBjkOB7jKkrLdQzUvd4Df79ejHcL/37UJbmyuqhNvvsinW9V\n",
              "U2qOUi9nWxlZmOtScUp7MGz6Xd0ho6CyYkmUKbZjxSpi65mNh8yIdFbtn9aklFWqsMze9J64hSyy\n",
              "6S2QXUQ42xfFs/ZaidlD5ZWskylRtuDGpM7oh1BueK7/8WGnQ47kOlN/1FYiuK4SNCXL9/03nLzy\n",
              "gXpamB/iRpdJL6jtQlgXVHCXPGti0Zq26JHxaiShr5b4q2j5LOmwFsFx2/QXfQ1iTI8Ei4k5AAAA\n",
              "/0GehUURLCP/AIYcYN0G5hw3EObM0/BjVs76PQcjCxXUST2N6TffTVq5tIBCgVZf2sQzK+wbEZ7F\n",
              "G9nf61W+yERFTvcZplthZ3192aTktDNLXPxii19qzaSnbYkEVCNn32tEct8J5BfVdBXxMEy5k+pK\n",
              "5DcJk0LGxxqmM9CrSjM1waIyyQ1wbijrhsch133O/odr+I1zFZt0xVS7DO53ZOIcx7VA4oM1xX2s\n",
              "Ue1obcgu/MEBeUWJ/Ma5vf3di1Jgv/szXFk6/XRwXqV/yvJzAeKTpa50eU0qIH78YojgBQbWqvbo\n",
              "SghdkVor3VQJFXeMPCJghII7grhN8Q5IBoeowQAAAMIBnqZqR/8A1+pSpIVKMOeBWwkc51VoLegR\n",
              "qnvFzwGYlTKP9rnjkw91Nd7g9XpMJnemQa9e8QEf4SuH4aJnLnUtga6A0Y5ifobV2k20Z+DTiZuc\n",
              "61Q2x/gsbpRf+fjtp9wtOlJNNa9WP/6hRqYiPHblSXtGLrERTmmSyWVz4cNLqvLj31UR9HmAi0Vs\n",
              "pVkBK1rLy9evh5XHgPnqmBN9F7SOTazpoqCFhMmje98p/YX2n/XDMNtgAgRfkXQRW0LI3juBkwAA\n",
              "AjJBmqtJqEFsmUwIZ//+nhABp16MfsTtI7GizkKn/qHJkisTbJxiI4h4Af1350AKfWuOPBHHlK3X\n",
              "C6T8GUV7099iTsiWrXnh9PurdNeFxCHQI+N4yH+xcP6PRFFGe8vGxQWYPqp47JZAvOv6wg5AdySm\n",
              "KlLPjivKUDZZnFjClLSD8KJna5TfsxuelVYu4QrjmtJceLn6Ha+IsSfPgE4kgYn+Xr+rtoiW2+zY\n",
              "ObJ9+bslQ736O95a8MLSoswJa0vSI0/YD+ORJfSW7+IZJ45jTs9ja9uDXs8QPF04M327psPgUxqw\n",
              "TTP0jBvKaYLSn3fOUgpb1buzZyEPe39P3q0FV6x5unB0FNjDe168nlTBpTG/bjJNL9GCm4eUXu1x\n",
              "9CTtLfnv80nwBNMJd8+tm8R4mjvTjgD4hB+pakeqG94VriW00riOQQiGQd1YBFj4FtMXxnAaLASV\n",
              "DLgTKktbtK8FvwW2MROicu5LkMl39Ie6K79r9MNkodamWM6LYNuR1HF30Xc54qKlZbKpbC3gPdai\n",
              "2ScL/f6haYFFqU6nb0CB3R9zshuI2qsmDoGjNqqe8SHnJG/jOzJb5Ovs8XVctAqBb2qPHXEkA41w\n",
              "aPZuUf1NTYXi1ct97Z9M516SGCBXuu9GL+npYrYUr8FGPf8WGkjnjoG2STkZ5JdHJ4MWBtHU0dSJ\n",
              "293U7nER2/7CyIFmcI4JB4YmlAjYg6IJvoge5+DQpLpc7D7JkYIuRGfG5oBET9jUC8TEAAABBEGe\n",
              "yUUVLCP/AIayLBtxUkHOooEjgBjfCVSHPcJ3/lQ9OqEX9LqsOKvjo/gJfnX2VPZTm8WG2ZQAjxu/\n",
              "Z+kLvd3QDafnw5yIL5/qyv46NFpUDYP5auG4XfeVNDJaLraRe9AO7v/Mx1041DZz0xoH5QNdSlyP\n",
              "plBsGmIfEdFeypWo4aTo4aK+FHA0x92GjKerG/58PyEZQ+m1fh7HC25gA2o1WGiO8N/XWAVnu9PM\n",
              "r8N5Cffk/SWSJztZIIU8r6ya2hjK6F3qU4BgNcRdVSmqyZOM+hSIrpOLu2qqG5zPxmdafjmtMrxY\n",
              "8OvN7Bo8oYn0n9G8t9k2EW38c2FVIu2EqA6nkHsoAAAA1wGe6HRH/wDXqDhACkF9WyHn/iIVRsyB\n",
              "w0cFa6dmDNV5MMr+OvrlXj0WxhNs4E+AlkW6Wv9gaAQCpxhbIqBjpUaGzphJ+JH8YBwNAxo16AuT\n",
              "uylg64kU/u2XHOwmUH5w8naIYCPlibO43IP280S2T9yp3EZKYbalPu1X5wMSWOhnRQEuqImIkz0G\n",
              "2gA/CraaDDQHey4xv7wi/B1BG3TfkSaUmXqgwB1TaKbyotezMdDVaATbYz3teaOJGgtR1W38zOq5\n",
              "JWPe63JHdynPf+2C5drf3D0oWAH5AAAA2QGe6mpH/wDX6O4Uz+6s5kD5JpBUuy1O32e8N7WQCzT/\n",
              "/Uy2vBY77CseLJnejzd881vepJww9NldhuLn91/eQi6EAk1dJLD7cEdnHjd+nQTISJQ1gluclQv7\n",
              "QGSu/NYFyE9b9Kej55ZhORD9G4rFDkTPqUb9nbmVUdlvHtOEqalgZf9CTO/fvtXliR4kAJPWP69Q\n",
              "WHhy0gUAXsNRbLg5ItoxUHvvRxUCldNIOAn9rTsAVuWob25kcPMz7wAdZiaFgkz2EDB0GFS1TvLC\n",
              "c6obwpy3xgVOkQywNmAAAAKEQZrvSahBbJlMCGf//p4QAaVcuXjgMZoPdAtc4triR7ENLohZ43iQ\n",
              "h5wm4WujPm7scW0/tCkNJAeKtM3W42PZd1x81kOgsH0/zCvBjDBmilO5+Gm/2wiKxHwqpKvW/foA\n",
              "UrwPZEcbhMjB6AXYFdA98oryKiuxaLICjgvLV3cO8v14yfUx28A11vDMsOHHGCz7SCZwwXCtv35N\n",
              "p3kITY1S4ghOpliRW4BrXctRvjLbn/8OLFF2YUgS79Qc/9b3C8C7uyI2cJrf8msViQLs3GDNOGF/\n",
              "ZQMSpdC55AVTtn/rPulwNM/ikCIojjWZk/MK2XMpkyQiU0kj5bBzbD0gAlLEWFhJE7VlViHQlwoC\n",
              "cZ6Z+JPvWSDeDQO4+cGwozJzmVAf9Va7UBch8t40ClRYzXufHV0a5ecb9s7qvAZrz97GrNfwChHn\n",
              "mxAbX2aCFSG6stX1iglxtREj0ZZY6hGT2GvAI+sxDrZNcByPdNS6YKq3g1pbNWbqfp5Rx1s3fJeE\n",
              "PoFi2hys+3BYK02cbHTacLDaN90IkP/rFhId1atRGgKE8oGHwGWAL1xX7JoI4YzkrC7bf+PJxcQW\n",
              "rm+af9CnRlRCiPsyUPh7KYKeyHuRu6Uj/Wz+cMJ/npWAhqmUohsAdjEFRrdj8djnmzXFbYXYRuaM\n",
              "7J2l5ZalAFxxMjbTps5/DOkWvOh6QbfVSLlB4fJxI5S2NW7Onh6Yr2HyE1Y0UXVBLK8OVyDe0wqo\n",
              "4fjTWmMudLC+O0bPOJA0TrxTa7idrFdqeYYxOY+bpHIG5qZAIk21VT/t6phlXYf32yR78jEstCqw\n",
              "jJykChwFPODj6Z6MQI3foRRNUdXl5ulfIs62FuZDHk2mU8AAAADvQZ8NRRUsI/8AhusWYFAh/N/g\n",
              "cSey5lUWK02EoOpADMLpE05oWMhoHN2AfMDcc+guQfkB5AZUq6F0vWN8RtR6CmRgDI+adHrXMU78\n",
              "yrYs5fwmWIVG70yyW3+bjLyVJfCN+gFPoRHnDapoXhB6v+FQLKEBvgPbciqcwN8FY+RMks1S1No6\n",
              "dGYRFG+kMO1cbxac5mhb9tKMfVkkM5TgVWczDZqvUpyB/bTjAIAOe2O+sC4MAI8PlE9sixX/DuLv\n",
              "M/7CelyRlQTaKZbDOk0wZiC3B7076Db3giuG+1XLB4W/Bj8lBnqSQVy2/G3DCC1cQBcAAADcAZ8s\n",
              "dEf/ANhP1/kNupb8+YdvuZ5jlGOFlveIuAB3QQ/BNwGzWjdLvmFrpt5kpNtSZDmE445NAtTatfse\n",
              "1yPU8IR34aZRjtiiusau3nP3GZ5Rvxe8fOihN3r8qolIbuSr+ogEOBVIiDouk4IeHErl97xk5MI2\n",
              "fFl2iyFj2a6NMMgM+vjR+4llDdVetYSfTURZtIMmwLg+58msckx4nkfMy+HnbyIooL7FOSTV0v5E\n",
              "OaT8WN05jMHF3lUjEGLyiw4DJwACCnMZkbIWC98+ZhUDQF0JqylmwRnLdCVVQQAAANkBny5qR/8A\n",
              "2CTrQTjKBmukP9u00oNGrIix+S1SCyu92uP2g7KCmE7y0cFDu5j3UYLD2WJdcJClgw5EGo3YN1DW\n",
              "hmUEWs/139U5pLx2HYJE47K5ZG5u0+EY7x4h4ba2vNL6aanJuGkOblGEFzppYfpL3jkFDUd/zg9m\n",
              "VOcw82Me2subVO1gcWeLFvvJoQWz6cWDc1GwLpISJe7+430nJ9QFedjXHWBpwcS7F6q49x8Sz9oy\n",
              "L0oPl1e10rUcGwFnIurkhtmiLP/XIFgayOq1SSKezV38mDX936mbAAACSEGbM0moQWyZTAhn//6e\n",
              "EAGn/I4gg+YrQRhX9LIXmdFEECVGi0HULsAbdB44+SPcF7cKFKGULpc+cAsg97Wbos0DeG2BZpwL\n",
              "VwcTEP18fdTUtW5lgizOQK1+YaGnLxV29i+/XYBBxiiwI7GCu7sgd4gX9v/yOkoVneuyvjs4rfzT\n",
              "of6uW2TboKUjezGDS6zsNi+/48OSn70E6GfZlsK1tsVcN1+koko1EIX0zCzOBHc6i8oghX5W++iQ\n",
              "x0tTDYaA7NVVZDj0Qz5oJ6rpelvGB86e/fCJ6ksx8AWq3PSC/XCbz7WlJw/qgVsYlvpCI2ZX1852\n",
              "/viMMESD9cjxmuwEWppsxIDKl+zz7EHat0QwY6lNZ5Eibs71Y2A6y72m6K7p/n6WcfdURzivy9ml\n",
              "tA2HFy8NknM6X6PmbewCJIFP6bxBR7JAcR13r87pWMiOkFoPKm4MuNV3ql5iAQy9rQEdius7YruE\n",
              "2mulS+2T6IwhUjVowrej6JTH8PDjZ9xRfgqEQTQFy5F7B/YplT6m6JlI6YSlaCTkL4wnnMIuihK+\n",
              "5DS8O8XDdC5MORRyqzT3ySV/LOptTZzwIFUhFQyWmGyvJabIIF2t23Tp/M8R1QcemAjTK3/g3j9x\n",
              "VZ3yJd7t6KxPGzYhq4eE+R2dX5H6xTyXADz5A4Xejc7clySbWWOWP2X3oleHbbEgLTLliP+pvgHf\n",
              "q3oGdnvLWe7x+f6el/h2sPPtVzqYDwNd6qc/PekbH/eP9Rh8oPEwS4gD37kCjNc5GfteQ1nNxFes\n",
              "AAAA/kGfUUUVLCP/AIbAFw3AEel7K8ixmZsVueriii/3mmYjCseE6ftIR4W31QvjidSo24gFY5r1\n",
              "bAKhF0J0Qc0g295lT8il7ZOY+ARNmj4B2klCm3p0mAiVXCpMDmiXWPSEMBpg9acCF0yOE1tkCbGo\n",
              "BDWdBbsYYgXP4HjLigczKXv5r2sP5NXOCu0OVYsfhMWS3RfqpqQma07VCF7zSID4Tbqpugop8Xkh\n",
              "K8k7yUY+PdqFpFdOT7QVnsQYOUkZdMmDOyU1JrgxptGFvRxKZGjaTQMsV6ZyY3F8JU9qGgjlyG/b\n",
              "+6+wQAlkAHwOTbxawOpGz735uzp/pBhsG4DUzSPQAAAAzgGfcHRH/wDX4JQmddJjqM6tVqGFVNti\n",
              "s9hFCpsJVWM1r3O6I2Th4bdu2OjxPArosdN9ALz0t+FnGj0LExEq+u4GQXaKaxEijWgE+u6XP97l\n",
              "y3TviPLxcT8dQzc6rtU0zWmuAyzmJCilhgABKT5pUmjcnyw1gJn00wcB78WXOua7ERpiydBPhQIj\n",
              "E8kBTiD6OCM5IZDgPPnqhJHazf9WFxw2MJTjXzVwUCeCP9KUa/JNRWKFSmYob/8BtiaknjpFzI0c\n",
              "aoZiv/13w8goqGbBAAAA0QGfcmpH/wDS6lndoabt12HfNP/ix7q9LD5XuHrRvXTEiOfMrN2ut/9A\n",
              "zvD7rF1cCJOL4Bl2w7Fm/LaXyJNgBkjYoNUlpFKfrPlCyk2+/ooXOiFje/KIsBf7Egz3ostre1kt\n",
              "hAPhSGvjTe8FIx1TBCJBnV6VTaZKmfovO06ztig//JLOXMhAz3RP3SheNN7oKOFkRk5uS7sDhL8X\n",
              "imMHCbb3gL5woGr+IauAXYgTJasfYw+eDDVITQd6CFqrx0C+3i0ihaxiQR8lbfE3M6ZqBB/QAAAC\n",
              "QEGbd0moQWyZTAhn//6eEAGbnuktYAVf2n4+VaWCvjKVbIyB1qQupoTRZ90e+PiPzFs5fCp4PGpl\n",
              "z5m1Y2HVwo3ZUcanxIUC1qJ8bl7lgHhhda21MuZh+juavMTbcCwBMG4fFYhXoIQ8BFlkLfiETuE2\n",
              "nkxaz/0p0Ny0hAJyxafihJ24oYqBcSdSC30RuFGE2NbtWP+6RE5PkPe9vGcwU26J6+e2Gyrpt9JO\n",
              "xebYcqo/hVKuVnvgmUSr6KF+F4rVbrMvCvTEzAYvd/vvzDjKoAW3WEn02Smi8+nXplH9X/jr3kXQ\n",
              "jfMl5Na1qAFNSgqzIkScLOf2qY2Tjki6fdPW1YUfHHIoAFhZDqXTxo88Hcr66nahGBqWAAtIpIgR\n",
              "tpt4gjYArtwNLZkajFa7flpXnKUZAAIfera6s7pzRE003NA/uJWhU2FkQhy/8vk8zOn80XEWKOAK\n",
              "RnxpdJfYEND2ZY9zW1nIMxWA7uHGMtHc06T9kUhapXABVXaZkZ5pGu3XN3/f+B95FLvnZzPk9PCc\n",
              "nj/SdeuuxJWyamvC3PaWYhGj3Skis8C0YsOUtK13Oj5FmWCZIHfYSDaNpQUugDeOQ1DaEmPph7D6\n",
              "Bm+0zeLPKhr86D6WNq3UW7c3f/0AeatmaicN+yt/Tk+ZarT3RoD1z38UKkJYQY3YlryHaUUkuBS0\n",
              "oQNp4WVN6lJv7dqJJWB7uKLplEJSn/1Wido9RQXQrXnZ/wNj/aJuxfWGLgiNjWXk1nC6U8UdruJI\n",
              "v/L8CdYIuAAAAQ5Bn5VFFSwj/wCDAxCptuvfCTgFrStbS3TX40dr/gwhvjgmvH8fFxZ5KyscT/c8\n",
              "8nCynQCSS6zSzWZBYFogNecGacwkFtWb7sEcQR18eOMBRy0WK+D1/zTyDHqOfQc5XHC68/XvI1Hs\n",
              "Ko+I8rah4wAnpw5mozKQ5bViCXEbbTvboX3pkJvKIUAt7UZgXgLiEEgUwCGCL18Dg3fjAStMRkXG\n",
              "Ne3f3z9Qqml/jqJM/45DtAA3u7yhAma/HirZoQCewHDg4rf/8J1fF9nTNkDRkVMkCdkV+4/RlZB7\n",
              "bLTadLhF5ZpeC1o6NNL/e75UqvIYeonRD6Ck9ATmd17xs7ek2jNTu/nkELlIXCxg31i7QhEAAADQ\n",
              "AZ+0dEf/ANKcYYOhXfmTg/svY99vnQHfWSXiuUI0wyNPVdFySdqmyaQjspePBZ8lCgVyFuyPOxsm\n",
              "eYn3BQtSyRTpsS42Jgx3AZpRoftjaY0iuq4bJKk/Cy56AFmT7/HoTDBt8dxK0oeg35bWYcbSxoSj\n",
              "qluhNg3HjZ1JSYENIbTGF8LWWeIxu7n2zu4t4OT4uQUCa2MZcCi6v4YLMXJKUIVQWK6CgXmzbWr+\n",
              "iUz2R9hdZcv33kTiUjL7UK6SGU8UJaLF1Bvy3qzElhbEtKkGdAAAAMsBn7ZqR/8A0upScIveWBKx\n",
              "nPRKhnISFQGeTWve+HXBUrkx0f50rEYciHKdMJ0zilEcu60N3BgsOci13L3DgACUj1H0NHaEFpzW\n",
              "8Z4zxXEqiqdLR/Q97TyOALdvZlC3cqpvE3Ueau70nGNpiRuiFQY9PmMPhafOsT8jPtCa7rX7TThd\n",
              "GqHR10OfKxDXzGFhffJDSUKtx9N181iMY4AKw89b4RFx5AZPl36mmAoaFQOurz+xJCygAycNJM2Z\n",
              "E/ZCsTGFWf6/TlLmoNsJKQAAAmhBm7tJqEFsmUwIZ//+nhABnW9oMmnAAAcYAAADAUKQyJW60Wk2\n",
              "UiQuS0FQSQLb0sduWwa7VrvTNLX0Cm8FH+wzJ7xNyBxQGGSJ/yUihzZEu8v5mQlSf9yGVoWW8DME\n",
              "VvDX0iERRNleXJm5wc74YZfEAMEFQGbe5aGF+Eyk4QcVuQdAanGiRpwedUldhwpbc40ua3Zw4iZf\n",
              "NSEjgK8BLYGBw9oRJ9NOmfsTE6sSJAS3TUWT1gPadQ7REoHXbRufxgjANAL36JpugvLSKbWdt6mo\n",
              "OmdXcuztdcTDue8WcnVjrZrZ1GPS7ZSEzWmpKFBczvmDzmc5kB29J63skY+GfHkZUV+NrveA+gFa\n",
              "lo0PWVbMJvQ9eqpkCenRZ62x7Af/0ZnNogYjMELYFhILuo5fJtoLtIP3v/WplSm90HagQfGVE4QB\n",
              "NwLMU8fELR6hMYuAh/gOIHXn3gs5B8PBNFHSNk0026rv7l5tm0F0fbNAfJ1cX0y/bXBLTM+PViSZ\n",
              "OIXB2DQbB6802B4i0zGH1xynhJJx41xfs6VJiBecmdxM0GSEg0q2QJK2a/wC07KHX0ZDQbm8VcnK\n",
              "PzKIXt0a6jRMsdvr49bDIKSf0V08iUT1zWkTSVt4tbbVa3mUKIAo/plRJGnOECHDNUVDAfXgt+hg\n",
              "qdpvZFXz4X55dyAl3P/wrR2ij5bCN08pqEKvnY307Om06p6rAz15zvH89/H6iwNrPGSN4H//ISeC\n",
              "Xjv0AXq+bAS3n9f2uBY6+qeUoTWPlY2baXFIpido9/sm/zjAJWOlTmW//FjqUIKsqVNQeS1tnNzF\n",
              "nnEmXD7vGgGNAAABBkGf2UUVLCP/AIMDEKm26egiVfTDJfuXLWn9PRUnlZXkNiD9mJWcZ014yEcC\n",
              "N5JV+BFkIL4ryQhNkisEoXOlr29NWtzeXTBnuUtLYWeoBiXdP/43GBb7uqMZCDO4HF6eN0Oas5o5\n",
              "g4IbecIzfbkN1/u3vcQtZh5xkxCtk0GSoPD4LibRc2/RhHoOwum+o5TYIzyAdgwr6mh1Ib+KQbP9\n",
              "Fj/n61cUyuIz1DOsnD/CtOfFkLtpsTeDSegEQqEhjCPz8517+prJbiw2jReoNm0SKRKarv4BS6YF\n",
              "ooAVRg2LKYx5mHShECSh7zXPGcqXVT58SDrpcc7zoEyGkqIqSkWc4DhrAWBE1pQAAADHAZ/4dEf/\n",
              "ANNPc8FXbgct9gjdFKacFmYwXJBRTpbzrkvX3Cg3zMvWiFpnohkkK6fB7xBN7ORa9xAq0k2lMqIK\n",
              "Z4IX5dj4lSGejWd+mrQmbTyJvRaDUQQiJhILrwwiEX05Rd8oPuSNBXNIVNG2XgWWHT8oSyxck+kH\n",
              "9JX+bi8fx4OKnzXWP8WwAQjby/R2CstWEOc76WVWOvWNsqsktTHfpveQ5YdNlPSUB9DG7eatTEjD\n",
              "aGjZPgD39ipNoJ5VII5JWB0wU6B8QQAAAMkBn/pqR/8A0ujtsabBJYfqasRPE9Dy6v6u0+RWpflB\n",
              "ucJHcXv80uO4rgQOicJ0MV/QSxoQ01jMfN/L9O7h4DsCI8u+7FscnKwx9gmSABydmuUN+lmH7QcS\n",
              "pyZ0k6ZSgU9IDGGZ3YxFD5a6Q7p026Paeito1Wt3phrU4M9r9wnJo/wpHDWXgClAM7gK9SDXVufY\n",
              "inEV/8hk5ddZlG+LzGSwRmmplBE7PiAEvDwXZqfOC7Zb6q3/TeExU7NkPg4etiBN6td2lqJcxHAA\n",
              "AAKdQZv/SahBbJlMCGf//p4QAZz/G5M3gAnrYKKOnHYdZ8akGkoZROVf+oIMq63dBWM8B0ZrA4dp\n",
              "OA6c65B0y+G0Eq0Qlf7FDJ9Iu+iIKFbOnqZPBS4MzFWwNrZSnar0QBMmO+JkuL2AG1qQLDDjuh2h\n",
              "CY8Jm1T1rrvnF2CtDBEmFOAxoYfN1N5yrVOiArEeqSsskVwwnqLhYGUxN6kHuq7R3a8pxAzCGcI0\n",
              "MYbqA7eK5Cn3XX1xKKmjxBlqTLGuo268/7I+TjoGQNeefQAn4Nej4OX7eXKNExJymJA2tzABshbG\n",
              "tv5HZ+n3VCI+z2sCbYHRPCmeHh/HpjIeFw7skA+XTPMrlNGdMRhJTLInj/1Jd2sG5aWFpTKvXr4d\n",
              "f3EeoXI39mTk9kJTDU+SPm7QdFHgaVWHijgF12r+jyQsx7SJFS9SfpF18IXu3DMKno7S/uOR6CX/\n",
              "9Tnf+OTRHaRGVA6pB+R3CNTaOl7iEM/xmprOC17CFAyNXqsK7FYPdcnSRx6SlR1N/npTMYiYmaE/\n",
              "5ChnD5ciEUXRTTGBJBK6D37NYjShrPjM4uTRc1gT5P4XYFldFgkGHstYRdSz/NgFMpcEPOWdSTiY\n",
              "51NLqEReyWMgslyQt6Won5cOzLtr2tX01K1M6iuVFYB7VjcNCYABt77rSXyJpPeEAUzCYaaYVmkk\n",
              "AXS5oB8c7eyH8dkB2orwDO5Ft442ygTNZjsoXbMd+PpME57Ck1ZgtN/RnODIThI9GqhIoXshImKr\n",
              "YLv9JTNONY4GEwxxqujyG9ieEUtaH2MaKZWOkrW9OFFi5MQZNS82wfeS4fyrJNyVbK6dODxQ2o6+\n",
              "8UOZnVr2y0MLBYJamcIFD8Jv/bVRE0TWugHoMxF2b9cQ/IDXJsiiu05ZQ0DJAAAA6kGeHUUVLCP/\n",
              "AIMDEVqyz/UjNuEY6Non74TQlWO/7+78YIVjGWsi4e7DtYhPno5VLkPePM5ZN2POlUAJXWwa7T4v\n",
              "fmCUu7wl/PIX3CDUy5xRs8mvzS9/smpo8sVVbnn1TYjn2KdtIPBPA6rJCDyDvIE4EGsIM9jUuVob\n",
              "DyWn/ECq/sTSnv0bFJmc6MPS1beA29j43bbtXLTjWydAxM0C+YpQ563BgFxSY11jesgSvWNO1gYe\n",
              "paW0B7N+NvG3Xb7ErQYlt86VvCVAm0vyIbPTX3BTVlon6Z3kdOCu03sLML7JtyI6mStcwQP6VwAA\n",
              "AM4Bnjx0R/8A0JdHEtLoBZCmusKNDyA29Oj8wzgy2kCBYU5XKoVI/luvo+KIA9jdysclr7ouress\n",
              "7mbds+bkcvGyNmPKC3middblGFeAASk+aVUG3TAKF0ZvHq1xpQauuvkIdg+uQ9oLFU6N+z4cJDYE\n",
              "NcmDghMVncmD3Eo9000EnQLsD8udE4DI/XAKzMXrowCavizFxJe6Re6DC4BBsdbKAnbTBiKUMJmp\n",
              "AhAAKOyLkSfDxhhvu3X8HozePboOceeyBblppQ1jn6EX20vOOAAAAMABnj5qR/8A00GidaKkkl8S\n",
              "+tNK+GRP08UFBRAUt3ROmYBE+bmzKp/8w9lyINnFMIR2BAQxjYbbGkZR51VNyuL/h6msslrr6uOY\n",
              "6KORlKSnrP4ABKM6Z2pceu4YXimFe09szLKhbI40JcpVbld7mm0OSyZbbfoig5rtKpfREuJNAEV6\n",
              "w8wiz18pR8VhBtF2xcXLpsd5cfGdl4pA2UAAal+yVtkI3RWap3F87ccDGVssBx18zeH+END3QmOp\n",
              "M4DwJqAAAALjQZojSahBbJlMCGf//p4QAZ3jwzoj/KK96M3L07qUXA8ql0b4jV1zmgcdPw1EfBB+\n",
              "rz5DWMDoqUQhtjBtrfQs9POIvE69U4vU1EZDPZILKwNv/omN+XE3Tnw3P9JwFVX+8KX/6XF0yZBH\n",
              "LyotaP8NJunyz5tK8XFWW2lLcwIKY7V6iFxGRiwZF6ft47Q1r8lmioLsZzJsm2AP6ou8hJCGeB73\n",
              "qRUW/6k2GFIoWJplaEcQxBnqH7wrK/zCU41zV1yKHNdG3W4cN1hrEcsvS3XPRObV46Y6SKEk9q+b\n",
              "9GNV8msQ/7hu/Wgy85p2dB5jXYNWJKpURg/OoBRD5PZNf9Wi7zrVe30k7bVNaP1ZeWx6LeV85ylQ\n",
              "uDvvqPWveV3DL4Ud4HLM/6nnPJapV8MbXCngVb42u3RuawTBx4IQut3oHM4Vx8yJ9vpTZ3hd3I/L\n",
              "bwG3jK2cR+EEFxeqdXA2O9QRk49f16q4s7/FiIdDy+2RgbM56jnREwxsk3I7gcdfVJ98OjELEHwv\n",
              "vprjteK9xs4MYWe/2xBIRC+SJcweeM5VpklNbXhTbP6ziCiZaEL4xCbdZyLTFJTGAji6wruf3Rr8\n",
              "eF8p2KRuR7DWpdonwLrnAnfACydmU+46bRhxcv4dOLPegjE2FAJ488s8B31iGb//7bN1Cs/StHbt\n",
              "7PrwBB/lT1xrvKKuodbxuIfeMnJeVA0YkIWwraUyfynPWefu/V00qhVHZSv4CNUdW6qSbiPJpfca\n",
              "pOLLQkFCMWUmJisNKNF9g7kgbehlB3FbDkZIqMvFf3XBIFrZ1l/cVxa3JXFLfPMEVF0ltKDfHqaB\n",
              "OsgQyhCD/NkLWyOVZCBooZJoprXdzq4FwTHQFcnIp2yk3+nlumZBiC7Jkh2eyhzbJzjJ6UKZN8Qq\n",
              "EinoZtODRPqkiRbGtSHkIIIodxqE0BRL3WWxQ5G+tfm/8UJOb+1x5Yy4DKvY8+zscrA4050Qcq2s\n",
              "ZaBxsZGgVQAAAOtBnkFFFSwj/wCCsavArto6cm5lLwr2xSzrrnxL6wW+YLyzVc/k8F1IbxKmy0rm\n",
              "qztSSJUpofo/GN7qDz0pH1fmJx8K9OVlBR2xTEldw3xHtKRofLDCJ9cytjWkSnJJuJeinlCIrS5q\n",
              "NF4R6iKpULLC0hybpIUDGCGZ6ldS2/fVzkwTNiw3meOvFufzf6agjDDNs2poAbLasMYChEk5dWge\n",
              "AcLuytdL4f7CnLg+I8CuxmelAYJDRW3L15esv8YvX7pQAOJ+AAFy6VasYPdrzRcvXsDAlWwwxMhS\n",
              "Aut45+iGuPmqUFMBej80OdJwAAAA1gGeYHRH/wDTT9US56blBRtb3e4wwr3+QNHPqCg4V+lU0Pq7\n",
              "LQBm2lK2Uu4cWuGhCB7aBUzHIYKl+5QgRb/HG7xs9o4rm3jil2ESkkoF0j9yR2RbSM++0WVuKi+e\n",
              "EQYgbi3htyi9jXBm0Oq4iOM5Nc5/dZMPyXrjEyhn/8bo7I3vVV2MEHGtS2IkTpfHFkVZLiBsPMkK\n",
              "LFSsQ8HhtZRyTb4qM+u1CmfhPqoyjZiPj81yHICSDEvYtSoNCcSEQkKvB9Ae799ECafq69lO3WwG\n",
              "2I34cM/QlIEAAADJAZ5iakf/ANMiomuDSKeF8tYL0BbB1/gAl99PCwXjdFTDmrjeAtVgJxnI93o7\n",
              "NlkGC/LFyTYPEf0XAW3kBwOLIbR+831wBy89wRAtukYAO7oPb/fpRbwCiQSvLnSDjabtBfD7qiDh\n",
              "oTmKtpfHVs5MYCOqc7GfYN/oFbu0Qqrx+KLYSNuWVxVFZdhS8/fpleAIsPZ4drOMoDnED/aXed+C\n",
              "Y/dzyebHygl8fD80EzDSWk8NIOGQtom72+pullI6NxKqqfX716awqGcJAAACh0GaZ0moQWyZTAhn\n",
              "//6eEAGd4TJKwuUuAETdZt3Irvpz0dQ5cB/PH/a9rnGr9NAlIlF9ec1zPavL3vAOpcUaJCtYO3A6\n",
              "APBZWYC21M2euCDrqQC5uf4hcO6BfKJDTPIsj1u5rnByx2qoQYwr/RokaMWrNcvyCNqK4NzaNgZs\n",
              "IB9VF5nNoqMkL/PXdoVXJK4xoEzrtXB4b5LSiSlyGIB6nEpwakpp7RmDPOGhw0L1vKpyqInHGmbJ\n",
              "yIEF4v6sPxzGz/MfeOLBzsKdrTe2w1law9ilSrvZ9ekF5PxK0vaxzWxcUHn9jUjNAChgOZTOwbds\n",
              "sGusB9pq3NAar5iW0dQTHTEUrG5PpJiAiyvHlW/ZR88mN5rpXLFK7dwLmaqkYjqOoe0rAPC9WN2Q\n",
              "LCyLsBomSTNzgfAsT5HXEPCyODe+T3qEpmHuSkRuOHSg9Rk5/02is7+KuHcnEXXI6q+KL06XHFD8\n",
              "flhBB5fQJOuzF2KMrHLBUbvyq4WcEfFfA+EJ5yaEOUtnixcE8MdPw75ilEmLsQkfsvUtDPrtQmFG\n",
              "I5bEJzGUY4wS5ff+6km/3wqtp3pklcbDOgRBV/yUQAFZTkXnoMU55CjSH5x4ca7B8fmpvpHdDKS0\n",
              "ElutsibKPjYKzFw8BqS/RIF/U+oqsn0wtD1rlNmFdeCxp82m9tiR4H4scJoJlrMOZDmvLmbxO4rH\n",
              "rfu0f+rJs5Bvdp4YFMNG01bXecJ2a5s6vSaCf9udBqxCkHjAEvPo4UmTOUY6wXB7vYZcw+1cbrsb\n",
              "wi+xTMM7o5eX3MWS5BuYcU9G0xpCfhYjUcGyUMcjYBPARXnBvrC8FOAcuxgPr8V4FmeJENX7VsyN\n",
              "ag0YxeHGkeJrAAAA+0GehUUVLCP/AILAFw3AEYbzE/z92YMQmcGMHGUVCJTe7OhRYqmi4IaKq52b\n",
              "JfMuc19RACv1bRFl1pKcG8UHWaD5Pv5+ORUnveJQCZQ8Yc1b9HCzmYk8P7TqZlDYkByCdvIf1nwp\n",
              "PsyAXFQk36Cnx9q1M4xDfxuwvGzcEG4cK3Ao28qA0crFxf2BITUQ/qlclvm5dVLev7OLT9o3IBCR\n",
              "qeFmm+Tyr1tVqSVXQxSTWxmH16FpDjoWDIgTEswCD8zaMhohG0RSp3j7eVBKfKK++1rdNTXo45Qq\n",
              "wlxRwxm4d5n9CabZg29TcZgrA9UGRpeq+NPCUE1QEHdCPLqJAAAA6gGepHRH/wDS38vgVNi7a9BI\n",
              "tXiQy9u/Fynhn6neQYengGHhG7/x8DbRY/Z1fw34sS0oABKFNfQiBEz3v81Qm1Dn9coVNsVQff3h\n",
              "zxGZdeiosTTuuM+5BpkeDRj1Y3BZbHXu6kBahWQYuC/nhoPr3PbAd8Guc1rs4focAlO9jXjstq/v\n",
              "5l1mSQoW1u9UoFHHW6s/acLd4faPDpF1sxnEg5pQ0sQGWlkVkazX+ovT/irppMGklAAav2MWIzaD\n",
              "gaH8M9iffb26iRZxna5VHMsFTcn3BDfZDflVOIk6WtghIr+aB3Bg0RBDe0REoQAAAMABnqZqR/8A\n",
              "zepScIxY/R3DwYkBKk6/5S+rxr4be+PD4ASHyDvfmpP0MXSf+i9so2iVL0Z9cr8JgHmd+OXg4yZq\n",
              "q6sdCn3gxdP7BSADP7bgCkYvckKgO2BhfWgkcVFjGhvlClD8/nJ1BU9E0rSWngODMudYu+B9CGsj\n",
              "hlIJrN8oSlShAeYNAswlpP4VcCGsvdZMurERJID1moSfa1ljxBiRE0QqOk4Ujrr1ef4w4JJJ1Ck2\n",
              "gsgc0ob5Z+CuhjugLmEAAAJ+QZqrSahBbJlMCGf//p4QAZ3hMkrC7uYARidONbVPnaaiNYDX7ohf\n",
              "t8ukpqnpL1QmbrKOlZcasNwi49O8ZLt9bVPxKgs918JzTDGY9CJfdtYL249ZYviJx1d8uuQ6a3yE\n",
              "H0BpOaei8UaFo7ikdxo2cRPJBdaFibguNQsUHCyja1o1OS7b3ad+Th91yp653jIDKiQbkvi2PIP3\n",
              "w7lFDCx4xmIilbI0oPzC9jqGX3EZ/toQyG2+CQLWC9KbARduKKnSf4YwtqIESt/CJAoesj045YR0\n",
              "zC1WbJVieQdOufcXOHKS6Ow1cbP3khnAAtD7dod1JH4ozkm4W/XFEyw7ZXpJ7fN5o/9nztXyiHRC\n",
              "b4Q6dlRg8oRtIzfCcUfIwqZSppwDqvtvRXZSVsUtoZ5+BjjQD3Vwe64qW0b8KXxTufAshwIve3gL\n",
              "paDgg7TonsFxog8wUf8NR7Iqchpd3FSCcXYYaNRufgZOFDqQ9sNMiIvJ4MPrkEK1aAhDEkAunDIv\n",
              "ftMKPOiHDFrgN73nyxefXLmmkpV9S1DunHRmCkZFoubvKokrtft3Gnf7D0E4ppn7eaM9NiLKonzB\n",
              "c2NhaUdrl5MhlszF4zfImBPwDVjlFqatqbZe6XbrBtAEw3G3jLDm0RqPrsSTKRyX/AMyD7SWIJbs\n",
              "FGKp5lGZbYpwhvdzHnaZ4SQoZjvwoWQvyQ3ycsQwWuROzbF+Br30pMB2Sk8sPtDmfyT267pPuufC\n",
              "udr695aKL9r5mvsxPoZ0dkOLGwmxVCrJ/O48uoMBAA5qEmpYewFH5ENkgZc7BQ0mmK8Khk52IuDx\n",
              "tcFY7gCtxuLx1GACHgAFA1t+Ii658QGP4IlQJmAAAADtQZ7JRRUsI/8Afyxz6up7P0ScCs2L3ZQi\n",
              "SyQDVNdNiVXrm7eM1kOHR9VOj4MOvauNinHdJyymD3C0OccmQFmJZ0IuPl7PgW+FJ8pmKqWvDbgz\n",
              "rWpNI4xBwsBTQk1a+jY2OzXxRLwM0KwTOSSYivoNldVVVn+IGHpgBWq/J0eXcTPIDqfY7eNlEpe/\n",
              "ebZsQJ7dq/spe3AnvVFaJJwWI+hdt6e7Af2dV3NOyKXYOZJmrzV9rbMTYOptZv5ffhl1JUrUraCf\n",
              "YHH0klhEEvOZghWuzQNVAVOrKmdoSY9YjHfM8C4qwEKBbl/7UjwkTeOAAAAAywGe6HRH/wDOT3vz\n",
              "vnQLvFICJj8+mGyOfhyOl37fCqnt6RosDLpejSwxqVESCU4MxlEeZIOX9eg9SUeyAu1tlMbvAZjL\n",
              "ewACUKa+ZMQQIE+1WgRDDsxZRNI2OlCOS+ZgrM1dOf5dzdkvOB1pC5ub8U8RpFWM0+cto5+LRUnw\n",
              "pW+dIkNjHpLQQXy+LQ1RvdlkozZEUaaDcOy1kvkqv7DTJ08GptYO/vEwPK0NrVZ8XCpOQGTvK26R\n",
              "gndwaZtEpG7uSzxAEszbLGU23FCZAAAA1QGe6mpH/wDN6lJwjOP6PoZD/XIZdNDdqPjHiIhTcP6p\n",
              "avutG1qZ+ToHbQpxxZp4zBxRmanJHFUEDr6u5UUNYrwoPjAA70v/rLfsNV2zhNjDmo1qVW03Tflg\n",
              "89QB8/sXxb2G1tFjO/FJGoBiD2oKHgc2LF4QjOWxxjkRf4VP/Ne+kjg7BeXki28q7gHqvMW3yQVX\n",
              "/lbC6hTZshNQzeBQ6OC5uhH8Alej+kMs+E56YL5O1iic2AlObViYSJ4oIMPvFSXZJF5fl5+MBmS0\n",
              "21ZpecT48YRYgAAAAodBmu9JqEFsmUwIZ//+nhABkZ7pLWAHxem2rt6p9C3XGj3W4t2GVaL4PEUV\n",
              "HOq2oY06Fp2sSDQuccqOcUizt+RE2rc97X3aI7Zpr7PKw7oVkfL6VfOR/5PDN1kpnSg48Z1subG0\n",
              "KK6NUf3enJ7xtBwEfyDGR59QKgpXPbUJ+F+SUmhg4d7fGgQXW1N5xeIvgdEGhZnZcwYg/7T1Z0zL\n",
              "OYXG+HKf73AnkNP8gEfsGEN5q3FtNjbfD/45X+lEE4MNoW5d4Tw6eXE3lx4Jltrp4hEmzQ1gEwg9\n",
              "HIFhTb8iAXigbMKJF1G7bDqPxfiZGq3VphybY0WnWwa3DHESFKy2FlUHKSedUeBKFoRzvthA5VPt\n",
              "VO45qMLaakrG8cq/pHgUXJRWYnrf3wC6Rs/UISEBcBEK4dBppwc9kjGiaw3kOcxqEMCxXepyBqpg\n",
              "8E2WtZ9Ujva1keulhIbe0rj0Q9W/g/mSf6Or6wdPIbY/B76O448f0KTJAAd+Ilave8OLWEPAtgqQ\n",
              "H9VeCiMl0PfKjJ/22Ah1UXdHvGlXYkAuozrKXagsQ4Us0Fv7EhxRj/1Wwb//fcty9L5WRdxoMNej\n",
              "/W7HNOHtwexYrrBx8NUkLkI1Q4vOADS0nGsfVEoGAb+j+2/yWSrzAcAOrvoj9Eh2vNCYUUgPrZfb\n",
              "uUJ0Lr/eN6JQiyqn8DojSZb8bSC7eppbw6ANxZ1Xi3sN7K/JFWX3mJtImah+U/PMCxFP19P/Xefk\n",
              "lPGkfwV+iXONedLqyKbq4bij50WB2T0bJtfvhL4vCOCFV/mk/QRB5RIrh3eeZ2opPEoyQPh1C/Lz\n",
              "WmOsx/9CxpjeCyelMSHy/oeANh4y00XnM4zAssoPSA95PAAAAO1Bnw1FFSwj/wB9oQBtuszgtMj7\n",
              "UQu0DfmDjEyJH3inYPfAr/nG6u44rK4kq+5qK62+zAngpFyIx0YYSjNoSIgTo6sOWeGHe5Dny2y+\n",
              "V1rG1AW9JmYjb94j25QXZumXS2JJ83BgA+Cvkx46filqkbz5yZjeRXnnPadXnp15ObzwDZt6sBem\n",
              "nsxm7dXKK60Aiz0vOXTMjXa16me/qpCr+Yj06RQ+xn3rLb4iqrd8q0nObMRiI/R09fZmJtnqBDOw\n",
              "07/CiXDY1jWfeE3cOGkUyLwoXxFuP0gd0N3IXDpZpKtWiNaS+GMPy+07xjWcdMEAAADCAZ8sdEf/\n",
              "AM5P17lAOrvoIrmrEvFWfCEOf7CjZv4LEOovPD5kPLIyla9qhQsYflv0dL9SvjyT3L3SUtQOMjEY\n",
              "AO7K390Jz3oGYD9HFZprLjBc8MSr5MVfn1TK1y+GP/1BkV6GxiUjmcQR5FIwa0cRYg9R0mqj4ulq\n",
              "gWXFl+uH3GF3g282ihj81HFx18xR/+GfbfaMunpX7dg0sPuJ6TfkaupXdqZA/S0Y94QhKBtGhMTn\n",
              "SsE2EcGhL2qwMYkm9WH5O1EAAADZAZ8uakf/AM5BgdJhmjk+Q/chtHUy+/ApAyqiM8+T9jaqLyaC\n",
              "jT5s5aZQEQjoAO8tV0TMxDXmPmmm5VFWnAZ6GWH2M5efPkPiSdMM0fi+T5qDsK/wp5JOdZ9cGDgl\n",
              "FDLxH8BtE0CTlFi7CKcGr5S+64GR62tH7nMTUCGakTJuQz4pgK1VlnhPpfJYJE9Y/0YRVwJ1G6kb\n",
              "vWObPUBu32pJF/H78RpNOQE+/7Q1dKsO30Q/SQw1/UmxpIJlhuTNdBkn4ZQMwXzv9Qta36ChQlR3\n",
              "1UZ7oe1ULoKsYQAAAqZBmzNJqEFsmUwIZ//+nhABkVxyJwgCbpdTOIyK4MT9pnFke4LHp+muozwu\n",
              "/0Bm0+g3M4Gll4w9JFVNEVH0xqPIeV5hp1fSr2aocF7C4iBBXgpmjmDGeCfPCN8nLzEmU/SXkkSQ\n",
              "6LLEmmsswHsqyXWZrZ94n0MfaOTn9CKwtU9obgvV/4fljO9tUw9g/DDWyNNnhMGHwVeOGTc1QG80\n",
              "DIsMGu4m1DJh2iReByZMqbmkJoCbJOIzrfiFqIVNQuFObC3TklUdugoKzQUZVpVxjLWOooGc6LEr\n",
              "y59kV2q6ATEMufdH7D7TrIB2Uo09vz+mABa/CSItbig0dAQWE5ww2FnYnX8NXGIzD5pWADErp6IX\n",
              "QNy/ZJMasu+iRyIzUt59tW5HDsy+BCuNuLL0jxT9rXT7eUS23AWOIasc/im1aMb1sRxqxJelh0KE\n",
              "QpIemT8LpTkCB8s8FTUQPaApafhEmCr62qxssuo58woIp9uaEC03fefTy6cdS0JO4KgsZnyQwAbN\n",
              "2K9GIj46KcCVqDSuav+qkjFBwprCLXeCXHhFu0Vr6oVNt8Sr67pK3zJ2a/K1p4dVj9BVQgU9j4AL\n",
              "pQQnDL9KNH2qr3sJt7h5qlzfb9w+xkbK8hVP35nFmZn4++H/UmOxzER3M1L8sur6rf/gnzeS9HIa\n",
              "Jy4D104urmO4d0s8UmCSAAfC/r2arRip9OOOLI/YDhO2B91qTFR2R7bZXbuO8cnKqdL8gnylxFhT\n",
              "cmAeBVmOLAyuDLpUEnFgW3OlYN5nckZmMAl4shAxeULfHDEof8vdndJdeTgCB8wB29BxZjuDnHeo\n",
              "fyfrVh1To27F8eD1xv63n2UenQgdi5Du6pFbQ30QuYHXbWKcxQaGwx/ZwkK8UHx5AEfFevjz+JHG\n",
              "TezhFezXNNYAAADpQZ9RRRUsI/8AfxzuqNAkmAAWV4fb+GnILkvkfvRD1iAhG61wGM7n4Q7w3ONF\n",
              "qqqlX5EZCCRPp3ts2BqBV7HhAaAjGv6Lyec2RvsROx3t+rL2kWZzPdVvi8cfinTenJldDzunK95m\n",
              "F+on33Pb5uZb9MnEm4aEjRxCdFCVm5cFfnNzEw98uCm+32sf3Pd19Rjvz2+Og7PkHDCo9KtoyfgV\n",
              "KUoYU3ODIejToqDAaHacg3pZZqMyK506ja2Iqdk/ghLSQe8PIKvbmCPN5HYJ79cmOMSaVHnRUuCz\n",
              "byRN/UpEMwy6Lf2vuspz9mwAAADTAZ9wdEf/AM5P18SN+8hAAsv123HGmB1t/C87kUZ8N3vMpkHh\n",
              "N9h54lMuvLdS+KAAS4NBfxEue5wbHw9mEAMMMsqsXj3m8z8ShI+6ISPLKvKH8IxcOEZV1jflduBo\n",
              "y0PiO2viQLFBp3hY7yYkWtyEUExMBme6KHMNfm/CMf9itv1WouZYxOm7kny/COZ/C+ZguTxvQ22x\n",
              "Y9M2KeScXFWZRZdkxBd5ZcO327Vedy8miHleTtt7R6U49VMvh+UG/6ZvqRpzjfQyJMS7Dm6oP6kL\n",
              "WSY64QAAAMsBn3JqR/8AzkGi05hmj+viPJyajguUnQ1EcRG2FfKN7d9qswmafmmCbf+qMjgzjgAE\n",
              "nyyCUCsYbY0rFGfq5p7gWq9O9VpabqPDaKPmK4hy5NAsJ6IaDqSPQieZiaM+4+1Mxl53IfK8y5sI\n",
              "85zgF8yl4WT2jQUssJ/jmDbjMyscgpTS/tRMjkZ6Y0FNdKT52tnFYWjqYfc8U6y4qMO3WgojPvGw\n",
              "Hq6ATeIEsZ+ok78Fu1R9NSvPsuxMHf/XVBiNQxo4cCDA/O4ysMPzAgAAAodBm3dJqEFsmUwIX//+\n",
              "jLABluEyEpiRJgBDjJNvPIyXr1GXbDop0RilrD8aiDnkSET9P/YhdPZ7n3Is4GAFVcKgw+IuP6XL\n",
              "iTNQYtMBk8umz7w5dcYG6Dv6EHFJ9QxcG9k027ng59q2KLFYK3Io0yvdDYzRqvG3MKoF25GfnU0c\n",
              "SK4TgB7/RLT4Nbd+CVb9PffHFgYBh48LwANiBufoPN47QNx0amoB60Gs+AdjGFkFskESCXCrpz27\n",
              "uu56bib6fe4RoHN2WMbhBpq390FGfuVVTt+rFZkpuZ2gdSwyTg1wspGQkFF+n3EDilX/FJczJWfV\n",
              "Ctk+OV0a6zWTSJghdehNHjUffrz3SQyCis8o4PrX4Qo9e9ebV/KnMcnNVIlTDOu1vHm+XFzDO2wv\n",
              "ihlxrvY/Yo11p+cYvrRKFJsrya1odhGfLM+f/zg//jghf0KW31RVPl4J916NTG5AI2xMfkG6K0EH\n",
              "8xpvgtTqhI10R/ayILNXZRYO6HpKWZ0IW3wSIEXhiljEWORJnFDILgPutIOmYRJkBygr4UOM+/jZ\n",
              "jYo4b63Ln3tfHIfhZfQrUCPUW++kEPgsZzQ8C2Adxa/U+u2RbTlS7hxOXpPNs4qshbzFsanevWIs\n",
              "gB3CITNlp3rlzCL4ZaXheY63OF1cau6c2zRBWWP3RZbbWvKATR8K6AeODG85zaihtdxalTGAuhAy\n",
              "aQqunjHc595HlnfWYb1KIm22JcT4YGlS+kj6r/U8V+Xko6lqdchqMJPW7WYQMjHdvEPYiMWJru/D\n",
              "Ynj1i1PLvlnheJkjn5+vVwkAkFuTYHn8uMCMH+OxuA8k8LnpSZAJkaHhNCbcfGWZYp0h6jSf9JFM\n",
              "NJRIEMJEQAAAAPZBn5VFFSwj/wB/LHPq5+Y8Dh0VgICe1hs2D2rn8/mJfIW6wtRf/u9tnnNtWYq+\n",
              "l1UkAK14kp8NorCvKaxp5P5TjxzN46sgtqBpWxMC1+oHVhSPgXhyeFU6kouHuj4Td37fh7y5YLR+\n",
              "6lZO3/YJvUNvMF0ak3KNHSd8+7XqL8AJMAE5zwa/g8P73ZWjaRLuxTQAEWULbHOBc5G4Qdx7alx9\n",
              "jzkO9qVPapzA8Y43nRLIs5UBPd4Fg3NKLyg1nFEAeMr7NPZvi2I2O5c53zd2/miULQLiCgVxrOsL\n",
              "pyr8JzjKE4hobOqlsaMlH6zyxZrtrM+hWfScgZMAAADFAZ+0dEf/AM5Pe+0WuAzyWn+wlob7vDQ3\n",
              "GjcT7ZLxB8Tpfva/uXA8UqB22uSPNWWqNUAkIo6ijcst9sKDh0czihWrsK6jFd1BQsRlUOfjGF/m\n",
              "/bqgDbq0nIjIwAd5aFqTBETbkI8g4w+iL4PrKz9fw4E+a36tD7FjM/edBqiVMm57CYcfoaksk9HM\n",
              "YPv2I2BYp+w3riJOfgFb5WYEMsWQyZ0ms6nQJg0qBGp2zWV3w7dzFdWslRTxRF9HtLhMWTmAXMkT\n",
              "nUkAAADGAZ+2akf/AM37Mi/IGYZuN7P4fyu8l0RCb0NU11SHEGeO1NzH+9EH2BslDpVpREWD0ASP\n",
              "L9Wlolv4TVm4DHC3pQDRBogvXtoQ5XzWgyYvopUvvgFfQp6o+L9UAIQqEtXS6VdZxKEIVmwK3rwD\n",
              "9QIeQFaMcddCCi01N45kIRUfekbn8l5kZAh6Zu81WJO+vuFU8r1vmYKPhzQPdB512/xR93reHleI\n",
              "GnYnhhR23EXadaZojkrBY/7pDOImkLdf9YM0SB0hj3qBAAACFkGbukmoQWyZTAhn//6eEAGIle+D\n",
              "+t6gBv4rkVoxQyaeHbdrdW8hye0Fy6DOxIDV4stOVOokwzWMKgwd3C2FTRW3yMXYopW3OuViriYo\n",
              "uvPcPx1ut5b1PBtvdV6fPr1EWbjN9TGnXTZPtHlkbIXPjIBshsPJ5XHdiQ4m/Tf5d0rk8IE2cjtX\n",
              "8sRLvT5z5DA5XWDZ9GjzdQ+NJazLmFGDA/r0iEJT9ur9/ZvpG5LNo13JYuNMPhrelVIYB72eeoA2\n",
              "ThZVqT4gkCMdGzuVxwjIMooApbZJ/eYYb3EFjTvVFrtAaX7rNS+EHkruba2oRjMuH8xLzId6i7YP\n",
              "GGVXpCpo8nMTtlTVboAkw6WfAbsdtkZ6YweqzlAGWybgcL0ytKaQvFr5BxNxDTe2rtQACkQzhyaz\n",
              "oJpT/H54ThJO2Nr/4CgQvpHjmmoxRQvjNt8k4M2IeBzygCHXBqSMvT87U77oJO79kQsu0+WXP21W\n",
              "PxgfI2fpom3JJsZh/qYlOf2muODYQFyLf2CR72OrI5r9Uk0p0y3a7eqsxHHNo8HlUzBQukfU0LmW\n",
              "Jzx3GMrRfnq1Q2VQ6bwHq/CYRZuDyKhcY5NE5j4OJqMpUAJu2YrnrqUvRBfuGjs4C/1jvJ2ESjm0\n",
              "F76lDbWxvl/g1FnhE8Ni0/w5CLBYTYHdoXGhWKL+gIAS2YPzasKVg8agUGfN6Z+GLW/c0yCNA+od\n",
              "lwAAAOdBn9hFFSwj/wB8bG/h6acLTpxLVvv0/yb6OrN6O9bTghgF63zRxon/v43AS7KsR513rnj7\n",
              "kl+UKpnv7jmZn0zyWpSb5X6OuALfh9U3bt6tIE9ZfbseTYiZZjPSiP/PP7XtmES46HJ6xiCcPqTD\n",
              "CMICNmRNM3YbjKZ00CAh3Tefbkc2X3+LrTN6RisAJSL0bxmtHYXA1oFuWdFepPp9PgLU5USeGci3\n",
              "rnSAAmQGLeJkGBUuF9Uueai/KRl2tzZUo7BOCTLsoLoD9GOR8a8XFlB66VnzaULELKdizzMYp7S4\n",
              "nFTZfa2iY7kAAADDAZ/5akf/AM5I+dF/3EJwxex85/DlPcC3Gjq/aaJ2jVCK4PVQ7T8/ZbMO+BZL\n",
              "/m2yg7vmd84QVa4jS6XSznbGmB9nxvpPXA8dqDsQj3XJfd7qUYJLDzVGl/nOf3Gh9AkVvD4ASLOp\n",
              "TkGz11LCXKeIhDq5twbyX5/6SL0HT4WBlvxGimIyEomrubXQxJhP04xSMIhNADKlnKnki5B4z96a\n",
              "s8btlg8xgpQtsmusWXIXdyx/jI26sMn4uTCm/uZihiKP80IHAAACBEGb/kmoQWyZTAhn//6eEAGT\n",
              "4TJ5Dm+EgbXVwA1UCVkUlOHEg1K20t2wac5a5kFvSGpnpRvwEMN+7za2K2j70LQBw15Kqjf7/nW4\n",
              "AVuMkLy56tgiZf5uBAv/d1UP57GzWaNlNZ+ZoPPi+1Ph2zeiHKTwx0sUTqwAthnMq/S3oqb8efAG\n",
              "dEN5Yhf5ORmbR+x5zhD8w6FTPn7H0pq1imy4ijGpUnMQjYcARUCNWjdrgZhpBQAUZOcV3aUHUaV+\n",
              "DBmx3ELHDh83ISolFNHBn1MWSK76oqZ3Jmjw8DPoxnOqbblfR6eMi73Ipzeeziz0mMXoOh5TvY0R\n",
              "8IUPmPBrmkIu6eVbOEBaxMBWQNSLYPEpUd7R7eI2jqI1bOVvvAuTATcm2nBhH8+n+wrQ1iyGdcB4\n",
              "CbYI8M3LA4AIa9fbGEVmjGuHiXaz2Cq0kYkg2mztVYU10itIeiMjwVOhLyElGoaRRiyQNEELSk6s\n",
              "8GeFb65DtMUrTaUa6YDX40xIfTypwvpgerTkDhICMG5O/UXBgOHvpfyVPyZQ38Bb3FJhNThq7cwQ\n",
              "ZVuu16pg6bZW7E3fnKx/MR49CG2Di4LT+UbGpnQtP8K1712DKQdhCARSt3iHQ8OTGWimqlHjOqYp\n",
              "9V1Aa81QgyoNPUdF9//eDiyPjvKrqn1Tbg5xx54VGQWbjGp3fJ0PsnImdAAAARFBnhxFFSwj/wB+\n",
              "/5CmBbu/rYxpwgc4umbOiil6DXHau11zWzi/mSL8RfnW7glNd/UVvYGFiEOkvi7ZqNkMCEi8dACD\n",
              "6pHEwAP/c9jHnAXUKnZw2T2hQx7k/WG/FmYzACILc6WLesAOkxuc0GMFIbxfw7I6Ha5JZAa+VVA/\n",
              "/ma4sw+1Yg6thOhKy1SmwXksX1khEogkZGfcAbGiFZCC3gmI0cI6s6dv5M1v3rvbyGQlHo5MLTKM\n",
              "9wg9iocX1RSQeG9bTHwBoyWVLb0ReFapZEnTB0aFOJQu1lFhD5GvI+uBUoTgWs932kZ3fvJVC7yx\n",
              "RX0fgfKJkCruOvmvfZsr1Gz/Q6OH9rrXU6Mq4PzCOQNqIREAAADCAZ47dEf/AM3gkVxLUc6uRvmP\n",
              "hP0Z91uFmSGsjEaHKU7Yl6mXZkWgPF+T/U8izjx535BvoAST8OMl6JW6W1cEv7ulA/+jqMynyxI1\n",
              "mUO+YVM2pJdNylzDvEbr3JPYBqDuSeZGX7GFoo2pRdzDDnQIWDHbCM7PYV4coM5N/EAdu2qqzjc5\n",
              "Q4T51+ufowPoPYq5RsLsu0WLsQFP44y6vxmCIw9ZDRch995eBTjpZ6+ryqgQPppeJ4s1NuyF0bRR\n",
              "wSTIYeEAAADIAZ49akf/AMfatXaMz4/hoDLyIa/bri8HCN/T4SRfzKZXYc0T64tDExievTBwmFjC\n",
              "hFhRdDugTQU031i6D7+vJru0+5YuOgluRoPFkoCzILgdxz3o237iBVNTGCMAHdBG93M2CaJLIJ9S\n",
              "JRcUSPqDahGYX2OUe84necbqYCQP32An0j1k6sCu6aEPB7vYIUMcjBuu4lK2TGusk9F100Zfw5Ac\n",
              "edp1lLYxcJq7Ev5ilgJWuXBPKAIS5GknatfEsazhB1ss6fa3y7gAAAJzQZoiSahBbJlMCGf//p4Q\n",
              "AYdcupQABGRqm7rMpmxpQ70DzBMmf+ssSDisF6hCCA3b/aXinME/HOFdcYm0sEbRNjtNg3UAAAMC\n",
              "hSVyf4/1c9oEGUaMqqgo0gRg4vJx1vpAImppHP2tE6+/E16h/Skf/IMWVY9wTDhdheU8fk1AYSsq\n",
              "tZCRVL0ha4ELFV7WHjnHvlS3LQ4YbNUhd9aXbRyPgalwZZIxkyHLslEgCiemq7YREAZir5607fgz\n",
              "ADHQe0les+SnLTZZwrlGLpx7u0eljLZ5k6wKr4MYvomnrZ+5B9ppnUWLl1cBEMcKgsmJgc7sStIa\n",
              "nZzXUs4O1MjBxt7ass0FDl1dRrwHvPpTNWXpMVy6kaJm3z8xQX4OFXPHI5z5sI2nnIbRf0qyoEO0\n",
              "7wAPdyYAkV9vSLLVx1XcFD5h+cCqNRwF5njdMI/JmVpjEL+wKpSLuTSJqfDT8zA/epQQV9thgNNz\n",
              "OdH6y4Cn3sZ/e2RJp92pTe+swD/3J2blyoq5vfYe/9dab1RZ6k+CGC0mRCPN3DwVkDUfBqtjbvZj\n",
              "8yYk5U5ltkucNUbsHmuxti7gEGa9A8l9JXKOoqk4GgozNlJwKZFfDEyrF0/rbzwdPS/AEzMXR6/t\n",
              "0dYeLNCHR5Z0QgQonlNFxdnfa/Dv6UOkyou+rFkozyuft2PEerWrnOhn/Mhu6YPXfLyuWmgEbxKa\n",
              "HbtaKWrY7KARMczKRIUloBxfcL49I2y6hAAC6d65SLko7rvQMuzufRxHLOCayslnbuv9VdNeNv5X\n",
              "bw8mCX/q2np5qVaXc46eya29R1bcS5Evt0+R3qFh6DraQuBGv76zBM/cAAAA9UGeQEUVLCP/AHxs\n",
              "c+rqez9EnAx2iQ6GYFX64kk6P7C1++Xgw8rnkIC0pCKS5TVSOeZwByj/7HRJ7kG5kbdm1SEji9iA\n",
              "yh8BF7PIr6CuwQcwkq6lv1Db+/5KgmatMN3u0FpPZ8mheU6nlpOnS2O7ytI+jd0mO9wJabJMSpHw\n",
              "VmJtOgdUCjO7yHZWaOt+dIEukCu1kCTw6F09IZn1vkVSKEvDZIkMlgJbZvUmRpj3ErZofEgi3qTx\n",
              "pqSy5OZj8eIrQ1dxpRCst73Vfjrf0sRIJ426n91WineQJzCecGLsXamXts5osbHveFSJk8lSHD6w\n",
              "OEpdEO9ZAAAAzgGef3RH/wDJUcnL8Gy0BShW28/6Wliet4v2kGy/A9gZd9At/qUUX1Ir9nzqpvZF\n",
              "YZ/iTdjGhMEn4U2WgsWKDwwqcTpdbAvX7wAAlFWi+1aTl1j3Q65BbXjMqCbB3+j7fjyMgsZ6e0Gn\n",
              "wSpL11gta2+gUL9dh1t9QDc2pPVcIHrrIHDecYLbTiNuqptZkB0H/KDk/Clrpo8JAMsJQpmPRMbf\n",
              "wNYS+2VzjLHHqb7MGZOlG3zm38ApByT8hHAeq/Iy3Ue+X/hvwYR+q4jRN8MQAAAAywGeYWpH/wDI\n",
              "6Ox7gKPFLidvIqkzPe8BJxei2eiVUfGVYb4NxGk1MSRd/w3Ffr3M2jqYkpyhi21mVtQXQAd3Qe33\n",
              "xrZ+G5NPH7GEIKa6PwHpNZwlT017oulJ3bfJG6opfPgSTSbzRuWSruXhOVwvbDdSo5ahKOMQf8ee\n",
              "9IGA+YJBuru6LCu5OY3lt0UwJ/yhXgeOcZ1prnwr9IxOVXrKcQoL4cc4IGo412NmuRB8exKGF4+b\n",
              "ZQxtq9gaE8mBpTgwdktVsnak3XD0BAhZAAACOUGaZkmoQWyZTAhn//6eEAGvFf2ZstfPA8vdxOpK\n",
              "AGe9JYFXgw37HuteYTpiLid5hubmmgDXCP+WLIuMuvwPdvczKLWbgkvUZTqKqzsxHeBqpLPl1OWV\n",
              "QiXmFHNxmzHNrvxglS6JxLdD4OsBYKTvbC5hDIz/rzHzwHl/bFvxWcMm3PJ0YeyrBULYEEgmnodd\n",
              "zduLnAcBXLw6S/ZKnbMilT9wYlTSn8LXs7BLJ13L2bnaThnAx2rH3Sl1KJeSuSlr8vTRkDu1LO6E\n",
              "cJQRygECrGQDDpvjQ+9d0wkz4TpE0uvMB1IjGN82RMH+wOjHaiNLi20w2LNbr1xCFRbf5qDd1be+\n",
              "zPjy58hlS9B9ZF3SD09oleXZiiOWcAAGQfp2j4pmYblDxIsOHCtSdCNM7k5yLj+sgDVGNYSSDF9U\n",
              "AAPQJm5PkyWAejvpD+HBSRGquGakyQkWyi8nHGFjs6T1/76kyxt/XQ3YzfyMnP+Yo483jVhAlaNe\n",
              "56vw68VQpLNYJTI55lW/3vPuPWNKz5qe7ZxH5LUCb4lod+SxibSMZO0LutmXOHRDDxgwpvCzEyVW\n",
              "/WAdTKqZvgYMCHYowffxzTx7OZAXmyerkR0FyintdPcGYCDH7CBSCGaNamryz7La5ej/7jgpEgks\n",
              "mnhlnlvOghmBT0SNtYesT/VH27ZXOa4hrgW2jz4EcNUvMinw3to9s31xLGTbiQYCHH19d3cbyI3y\n",
              "L2g74QOSAHd5QQBJlY70QGuf/a7NrH7rMbyAAAAA/kGehEUVLCP/AIjaCf724AC4rOiiHdK5Y0AO\n",
              "2ZD/buemJltyVUxLka3CH7QUPJiZ1KicZIw0Rv0bMFVOg+xdXGiuWHHqMQuHrZExFJWxGZLSkAXv\n",
              "CGNNGNMKQARvHLXndINBDvnrEiCArmHbFYWZoSogxECnMnARhJ4egG3OUkWHOw1qsP7UszAYt7BJ\n",
              "O65A3VuDfnRwfgniG3COpWVGkMfFqdRBA2DwAoQ6TwWFGyqBMoblFIePJZdvifU76cmtIsukJ+o+\n",
              "RSgVwCT63rHiIrUMr79ZqLocYtBLPSO/Gk+kIPnV0XEAmfqF94R4nxm6ZvQFP5Qi39so5guyMe3R\n",
              "AAAA0gGeo3RH/wDIRpTHGdE0+2+c8+1ZUK/GMMEn1YJwZw9qbKsUstmRXh+BUejZJg2S0dSGUbbY\n",
              "nTx1orQ60fgAEpPmlIxNDxQi2/y79TQjOj3Vs30pHyXnG63sOli4jDLbpunVZRW4uVkIwqe3OwvM\n",
              "pBWN9HsjhqOHw3b3s+YsGTybqoo89T6CHUVPWb7tZZjh/mW8xzE2VWC3DUH/m8AncfHRdNMj5EwI\n",
              "TlKVx8k3kP1Vi+B2AoM328cai+PEhWxA36NuhxQYKmApjdE2cPLDtPIS0QAAAMEBnqVqR/8AyUGB\n",
              "+7WcMmwElCG+fSYZ96gXGRHCIeolsrLH1qPfUZo0zPmwbhQQDFcL7WEuEysZ1wXwn1LhPQvvJnPu\n",
              "iCW4MAHdz5n9NR+f0x4OaDj4PkW1XoyuLdgTNJqAjd5SEel5QwY+Wa26XOV5xowveAN6n1Ub5EuT\n",
              "A3v004C3Wp11fhZmwqAurmCnC3nstdN4SWwUCCwmxuSO5zIJ/CV+VX2QjRzlUrAyZ/vUI8uJIlVC\n",
              "kdK5SAJF59ZHtQcJAAACkEGaqkmoQWyZTAhn//6eEAGvFf2IUjA88AB2hv5tutA4DJBsdL23HQky\n",
              "jAjhea859TSEhvTcil9l5H365vXGajODMs7kRc7GL99tIRhz3pQCnBBx8oILIwodb/4q73fmnZDS\n",
              "mvNB2NFrCRAXSupGIfLfUdvydTf9TYK8Mwp06w8wuAXbQcDvKffJ0Nnarz0VbTpT7KG2cNfapWQv\n",
              "1VMxlPOmIQnXgBACDnCgkjWgDInk0/rficNaQaJiI20UQhQVXOZFTfuvGMSbYlLGuFS4sWlGhpHo\n",
              "7cdq4i0ZYoCKoey7Wd5bMr1vxWuEV89uJejA1E3Y//Mn2939AnsvfqPnljUvEppd3RfEziwhYKLz\n",
              "h+dgcqN2QDPJEIpnTMiahCLcwImIQcf1JSBcY6kX/XNiO1uUEs0VKxb/7Xcd+jT29GTTXet5FdpO\n",
              "9SOhwjSabh9tqNN7vsJrePNwKE+83XOLJ8LJpNWmP2NlA0hnRTKhbU4D0OSFZpRsOmH4J6wRO1T2\n",
              "hNEnjBcNJTLczUJmr8Yl6ebmU+wG/+Bp1IaiDa8Gh7yTuDKfEazt51V1TWgiM3/ackHH5nI5JbYr\n",
              "uyUp8jbjTZkdWoX2AM7iyVLJzNSXrhM/SPEExxWeWkuFg8D03tmFSQVfW08YcXC5JjhXMzWdk5Fz\n",
              "Qecbin3SqDEkQMeTXHo0Wuy9qU++7GzVMDCS0KsUcO5krhpihqnuvSLl6haEbYRYebYiU1tNMh2V\n",
              "37695pYLgtvmajJLi+bVLcGvu+9esefOuCB/IOvBGDbsIQSdjem4rjYTRw7t56bMX/H3i+eje6sG\n",
              "ogPnBwD4CDUBdW6ZwVtQTSKOuLASIj5/bJaWrgLbMyMZjqk3sbZSrrYVqqiBAAAA90GeyEUVLCP/\n",
              "AIjULynqHlyCy3Q789GS87gWRzlF7z/YVCUnapEC0zgBbHPxocwSv6tmVz8BP+A13hYczGh9YCF9\n",
              "Wl+R+OpBkIX05ougeucUyufTU6CiW0qgFCFPKlc7RJNnB1OebC0ecGPbgywXdMNX2+Lst1okXdxE\n",
              "bcUmbohUlzQOgrOdYeGvlolVhGEOCe9KGOCdfzVJVYsaVlt3Nal5lO1jp/d741lhtORiC8/9vs61\n",
              "YHWFsr56ICfQBOsUu/MSvbX/zf0gliDTyEW+p2E5tkfSVceaxBC3to6ZnG7bh0fJX7Uo4JAZoJoy\n",
              "72QxlB9JOmhUXOgAAADOAZ7ndEf/ANpahl3ptg/aTUNTzsTLcNzqwCqkxvfneBbxnovgBjYCAciy\n",
              "Lc4zO///Fx+SBJkK6wy2kv6A8reoWRapi+ikMln3XZznsZDs2A0IiDS+hM5ab6ADuzmquW4Zb6QA\n",
              "HoRDJtNZIG4HeZhH0CMtRGyaHzYKqrD19hVEK3oYUYQEb1DC48LRXBUPh/MeYTnXwNVp+tAmoMyM\n",
              "0Y7dFHNx4XE998ugLrNiEeztGLL0x8pLDd+vqwOGSNdX3RBE4PbWE50ibU9rEAFNrmAAAADQAZ7p\n",
              "akf/ANqAD5DnHsNra8pCLqm5sQ65E7i6BS61FYraKNwPtX7m4/QFwo/dVeoZ1y4By03ttEqzsuK1\n",
              "1FqytwkbjFwsUNiyUoe19ZEcZob1h3/Ey8+Alnd/VaVseM47kr7jIL0HGlcYlHagVzqnmUcL7TCP\n",
              "bFxHRxSnf/U9Xb8m7vZ00c9TcwPrAACZOZmlAbG6992j6l21mSgOyeo1SXRxWI03CxXivYqOIRVg\n",
              "ohkIxU1cdv5wFZwWUfIiXJeeQf+SjABKaIylLrhqQQRPQQAAAlBBmu5JqEFsmUwIZ//+nhABrxWU\n",
              "KvYHGpBaACpOhQgHjFTdprtcrKho3+0hNGkQ242n3pHbvYhlPMqO61DjpJZsqFLK4BR+YrIc0jte\n",
              "IVqk1JjHvFrVCJDJf1P2Rmj6qSqQZAUanSm8NGJKYmAN98FXVEFwkD0zWVYaUUNk9KDSbEuUU8rS\n",
              "GwSnA8cjJLaW2pf6NSrOjNXT2S3+J7z7+Tk8PTtswhVpOYR2TKHqB3YdJuuqprKTZJuC0O8ercbp\n",
              "TkgtPvzMBrInGF3sTL+mT16plq9jQWIBU2eNqGdFxrHWLlBiIjkazHl3rLsMeHmlmfz82C33FrsY\n",
              "4aPwalhUvUqgHNLJvIhCw/7TUKB2RXdDxdb2TEKXOP+FJCkkYzVnFiZ6OdWNILoODJ1BBSEcdmY4\n",
              "pGFVyNCZq7W3Nw9Q4rhXook6YdwVcv2j/8xu9wXC8WObrW+q4OpJ0f1hZiDyA45SXiaBAbHA/Z2U\n",
              "pIhjvfcXKJ4eLur3TspCOPyOYKQIcHvp7i1vnbt+5zTjnmgsYyLNdMF/AQo7heVUT5zmzg0WpmGr\n",
              "+ubnKC5madJHCMP3gE6gb3Rm4bRiqYpDZrXWlkfg/3fKbWLrWelY30Itqxx++rUUqQOuKot0MuQi\n",
              "ouqeb9WRmL+u+KRro2JZR+G3BTpySF6xpeIF6EAu9ThHiJTxH3wXZX6arLgapPge6wlA4RcZLfeA\n",
              "NBsqklhI3vu4ZQNk0qFhTpiZledfMEH/+fyoedYepYUXq2+WxnmJmhNF4ZlAR+vHqtAiKRvdezyz\n",
              "z2xEAAAA8kGfDEUVLCP/AIjGTMY9muvpfsWngKiDCMlwlH4i1cuPdYM7qYXkq/YAWaLVipeL9nH9\n",
              "BCT4Goegg0s8R0KxRttWScU+WIkm7Db1NZ7q9P3VhNMRlfhjaeJaKoEHoJzwBfFXswEzj0YEgCP6\n",
              "I1Wh7dN7d6cj5YV6vliLF5PbUsiW+z8yh8gwdfPeV0VfX5S14r4U/obGXotBC7PGJLOzSdswfGEr\n",
              "W32nJKNycIorWA5Sr/OhaQo7FVZRAjoHSvCmpWvSpNlTiEunSVp2ljOLlXokvmpxcGKXmQolugij\n",
              "VONbbzZ7hbpoGixpf7NRTFANE43CAAAAwAGfK3RH/wDb12qWV9DdtG1ILxohg4mm180WitIVjO6d\n",
              "WFSOq2BrrJBoPtqFMei8THd+jGX0hi/g/PTwKG7dMezUrmKuZyLlIZCAKyFra3lqMImjN01EEsYf\n",
              "3FlGHuZZJokQDalP3az8ykFjjN8JKFlZ74ASLOAXIK52Iaj+8Kj7xWwQcACyO22JyOzPmIRoqdzs\n",
              "R7Yo7fPmCiotN9TzgAivowopFdgfX2z7jFAiBinWusizvmtsNxPE5p/1Ib+FzQAAAOMBny1qR/8A\n",
              "2oI9JFg+B8akGB2wi7oGr2dhsmS/rmBOx6frDLyZP9o724LPsYEheOgAEpHle3YhJal8Ob6WKmI8\n",
              "jmJX8+2cUjKhpDAvxXXBmaQBPcvoXnzEXmzDMzXCuu73xiYVsZzjMfBTRzqJN3x52sc0hMkaE5zm\n",
              "jwx7zKCq3jgQ/JCverJG4SNwRAAaGU749pwWXCtcV2fkJkSQQdCgTIFCOnC+pz+XITco/sQv/FDB\n",
              "lmqrWRlHc9PQgNjToOrB/T+ocZ7kvvGHh1GfjIl/62miIotDeyV+koC0mOsJmF0JIQAAAlZBmzJJ\n",
              "qEFsmUwIX//+jLABs2HeIXgARB6lLItZ5xr1b/+vnrH8wMIp0cII2nuTZ8Ba7d9fVmoLiLKskE9V\n",
              "JLm3y9cdso2nunw3r7vgupolpVJjrfmFNySgWUqezl9FGXqp60RomQuHMVtqKOMH6RiNP4ebgkwn\n",
              "w+ESZ0TPuf3MsUrY6U3qE38Y+RwcNDluQuLHi1fjYtoGrKmU3IVq8pzwy6dm8L7+5lxYBYnQPCCU\n",
              "lP9xTA50L6QsQ2tzebItTvfEUnl6zeAEBTKb8HFNspRyNNke/WLpR5qU89yabXJgBoSBdp9UIYXK\n",
              "n9r8WKYNDA4oeoNPaFHiOdav1Io52whlBcMbP+t1mncT0ESVYp5pj7ix91rc1P2JFhjSPEuZ20ku\n",
              "SIPZ0Ios8Zs5TgmNEFXoCJ4lpBWr64Lw4Dp1aHsad/Jl31o6rfL/tRfy9a1Br1uTmEbfKr93DQmB\n",
              "NTbfzynHJHdXoyOS/dJfN7OBo0JyvLWDgguCjC9Hj5L+EOdFSpxh/RIzr2531vyd3DTVidzDYUpX\n",
              "IVCPogQr2KgLk1R1KRA+hddorlqJiacxs4HT6zei79TpzvvtbqdKXzd9Fw/4puwK3pw45lKU3WOJ\n",
              "pWeAVnQXixHGZjHZVH8lJv3cnZ9m94b1CdM1OcD+cP9RpAgQoz/SNfbOwMZsM2jTIVwLVM3TmmoJ\n",
              "hJkQ9rkNgxzMOMxGJnhsqv0n2lp+bOxb2fYhF+dQZEkewnFcp7Znenn2Lzhic2O8qptb79gxA6AN\n",
              "TdvIkEdVOiQNiPgn/LmzWAAgZHuxJUGJAAAA3UGfUEUVLCP/AIpPebcVACat8KJNM2kU/Vp1EfdT\n",
              "vWvKO1RTPnWxaIhYdj/716lVZiPxM/Zu5JrIe+R0CRKFxpKuPy57l2dQsfPwlsjKhB2AsrkAwr0F\n",
              "q3VsIj4iPxUOhdrMw/ONon45S+rEFM5pecjP2TpqW4LaPtgj4vIx/+g1VAUzxGcldukFULsBXBUy\n",
              "+MMe7UruymIbZtgKDiszUaR6XZJIWIYNuQLC6+wr1eLurZ5nFVIq/KgZsAKYfXi/vRQozEywu3o+\n",
              "yihhFO21W4hr/mH7JAcjzgKYg0ZYAAAA2QGfb3RH/wDaevCjyqfo2FOrvJCGAajVP5XXeSm0+zGP\n",
              "p20j1BRXqujdXTQ1eylNi4CDOlsmpMo4vm0g73Sb2KaCfQ9dZLgloHoFTMJenDtwKE7i0AFr7ZNR\n",
              "rJv01EtH9oS31fc74QiBvvxeFtKTY1LrUkQSq+AEscjHZtsR0vh97l16Tni7p7UwYTJe2AiISyxb\n",
              "6PAYVb7wstn3q6M1tU/P0iaVZS2rHcRwi2J3v2x9ypB1NshSFS5nqgYyx3ZbygrFhv4bsaF55WeB\n",
              "k0ABpqO2SZWRVKAlbZwAAADgAZ9xakf/ANp67MmquDaLhrVIre08Gnpf9Qk9RRGiL3N01sPJug8Q\n",
              "ASLOCMG5uvcEnFNafCg8BELgQFw4EIAs1lqKVvhtCVaLQscZ2Wy/p9WTUOfAWqbMNsjceYz7bsS1\n",
              "ZUas+YTEqRGRQqxCam1FXwpzDsi+kt8sg9tHvaDf9jBA/Z+DjowjXMT2BwTwH3YL4SFXvZYJTiC3\n",
              "o07SbVPF0c8zwyvSQMS2EitfU4y6K//MDqvLZl/L7ucpp57W/jNRVplBWAOOpHv5Fl/bSdJeDm6b\n",
              "y9S+lIaC7kAmuJgKLOEAAAJhQZt2SahBbJlMCF///oywAbINGrPfDixtx3gAQ5hvLBzynZ2AtzX2\n",
              "HHWerRXx3IMJkFE6XAxmyI0ReZ54bBzmI1M+gcu7AdneL3Jzaa+hn3Lk2jeGrnCfQds2yUjB07Sj\n",
              "caWyNhUxIMcDqGrYId5Us78V+0OpP5jvk9qX0dbtr6ic4Rp+ESqjQ8gNncsJlrhHEdXYAn5CfSSF\n",
              "7F01rW6pXGcfwkhYD7tl3wiuWx1mkoue/XlR7phSmARhhxz9BNE64qkz3IT70a4pIjXAC4ABtjPG\n",
              "AmoRohswzsZVA1YFDgfnziUhXoPqi2CYR74XPBGyfjO+qOKylXOrZl2IyOSeY7ec+kgo1jPdox0o\n",
              "nhrxP+iuDwjy55EvXIfxVNzcbE6b3aWovk9PPFavoelv+44iYPT3E3Ezj+7VdqMwDL2Z/YLzEdXK\n",
              "0IRBgPIR3kUYeiXDoD03WrisC7NPXQhN+vNoRb7aaa6gKrqOL5EgQdrV5SKOENeMDSC8BFbYADBW\n",
              "IQNZtc7caAQTXA0r0UzU7L1VZaSgRYMSL0Ok97aKycp2H7Iv4tRTQnNqpLC6hlBLqtNnESIUXvoY\n",
              "qpHL+XrZYeLQ1hBGRrpjXL3A30TQfITYmv44R3spAQM4/YBDuUD6u9RI5IwptzQX4+Wdx8Xz2k+E\n",
              "Q8/TW3/EAHdKBf0K/Rsa/qWQ73bidMJCTcswBn6UYxYc7a9Jt+DNooasW6oaYlWflvG3GTDL5cil\n",
              "aSmA8PiumnzjHqz+QAmGJY6y6ouhwj6zKMPBCsknSnMWrDP3EX5ouDtaDoLMbeY+NsxSO5WPKeDA\n",
              "AAAA+EGflEUVLCP/AIjVseF+cW5qAAfh5F4JNe3iI+dvtnLXorA2Gvxuyv781kHVifyT+EqhulQu\n",
              "nMxZIQ+kKYC5qSLWM4IlxYp2thS3VSathLB8CFMmpSxGs4k9PQl20kjaMUs7yVp620csov9vJdfk\n",
              "bblaufQKgU1/s6nHkmq4Ggsy5xGt4qNnTkKlfmGOVvaF2gQCwciAGBwW8opkj194s92FZ0KC21xo\n",
              "buzd8/ndwQypp9xqPRaekjBsmkCfFc9HUZSGV1pKbzl/CmjmcZk6eyJ6sT1kC3y2uENlVjC1Wp9d\n",
              "0mUHWDTU7aeie15F1A6HPt7cm7y3lnk/AAAA3QGfs3RH/wDaeth+Gq5ZRuwI29aX2JoUri+/TTD/\n",
              "o4LViUtnaBLL44jq+GxnUO3x3qGiscQbnTfPMjEgOeAu6JOWFn1OlkSQnebZVdXL5fuwLbckLw6y\n",
              "CgSTFaxo2eHyeRgpWs/RO7ztMs3JsrUqrw4oVpTUr5yOxJamoj/uWEwyRBHK6WULp6yVj3iRdKKL\n",
              "YguTGjP3V8ekXaYREcftbnYh1hvkxVccl/jlGu9uAvYtd+AwelBWPTFRdO6wtuFLrt7bugcDsvn9\n",
              "5WGTVhKdMnKS4aoJ7hEYJ+bWHEpBAAAA1wGftWpH/wDaevHbk0lF785VpwS0a/SKRklujsKjCbp4\n",
              "AAmQUBGDmCtDnoBOcFAmuDrB3bnsXcpRDWm2AgNX3naNZzlNXvcM4RvZ0Ywm3CvYUB6RpMmLEy+/\n",
              "5uZqHTH7D1uelmOAzDR1qx+nVi2t9F+HdY41ALPfcksLc3VI7wbycAUwwy1Tantk6vn9isXQmxbo\n",
              "+f9Klz7gR3y1KX713VQfmjtgekXORXb2Nz1M9WN4gpMf9bh6l55Lw7ExraS7e6kmJt7UxCEoer2W\n",
              "5QUUdDIX7DrO5ffAAAAB/EGbukmoQWyZTAhf//6MsAGzFZXKG8ACdvUOq2MNoyVPaVwqKNtryoC3\n",
              "Ge6o6a6yB8TKJcQkWESZV4x2a0SHRDSXOcr5iILoSvZpkq3MFvkBQW88eWZ7zAgarDW/XUZFy0WU\n",
              "MKE61+WH5kyVfJ2ZXjAKtdCo4DkluSxA6ff+ui1Wq8uNWPY6ZfZ8qXQu2PxTRCp0aUAM0ug1PROi\n",
              "lSDkbnEgHulQXlb5NXYOi2asSKAgajzeI/Xt9C6f1ICTWfqa4vN4GhX+AvXcBqh1+jarP+ImJbHV\n",
              "PP0Nwfko6zFDsZUccaiWOuPpqR1MYXNB3BPnInNUVsjh+IPQmXrDgJUswbExPddPaHNrKEUgLSGD\n",
              "RvVsKXr/LIOPVDstTAljdrKnDbZR7Zl7QVZqjbgl1qvsA0GcGFnkdzEYHRUtiyuhkwoIWoKRn7O3\n",
              "OfObxjrMajiZzFZ2mUSASiUW3bPaBokOUcWk+jjejqFv4IbjroXO7iZP0GVkdNIUdSRjp0QEBnl7\n",
              "6E/+5Nd1jr80+eZaZ7sEcavTXEtZfMGy2GgvDGfkBjjfrwh2hq3TooPrSsWs7KKuPHT5gMr/SoWj\n",
              "OdFvlLiLfwKYPpqVNBPU6qnwLGylT8QLHyDRk36Zn+tG7GwD74blUbmFXjcJQpg+BPRhptljA5o3\n",
              "Nri0DQ94X5uyHk8AAAD6QZ/YRRUsI/8AimhnRveEMieWs6OG9JyWEPOYXP0guwCaFUffHufhTapA\n",
              "CRa2k3O8SZzrg+ABOwbYZpdQhzSlVwNuXuApmt3CQzyrvcwPiYixhg9MnpXIKTQ5EpG8U4GIPWjj\n",
              "RVq84UkKFg4/nGYKkF3nV1QBmQXZVnCh25jTqYIgVc2U1y9owue8QPPo2jGvlpSarM8mu1N1S2rV\n",
              "P18xHxrPpQziqzFRU4TA8YyGVXWK/gD57I2OElyvm0GoQ2fcz04jOHE4ypLQ87bh1XgbvXlR+me8\n",
              "TmTIa+/vKlGu4EiHr8xpge/DJC3qXvJvEfyWB14Fb7NcU/qfuQAAAMMBn/d0R/8A2pdG9Zhqo6qM\n",
              "bIPEDIk2SB1FH+5QlauBhObRu/YZHMJp5S0BSPGDBsVjUg88Yp/3qxqMMazPx25LIBoFyaggS3Bw\n",
              "3IC8xQNxgyKcO4UDb3eTDO/AtYuYgdkBpv/HEvVtdcFkTNi6wAAlFfMVmaEIo3iB9scs0VXR/epq\n",
              "Pdq9gBRXi8hauaEcTERD/7+cdSnHko4aVwVnLQHNym6Ok1Fa5zhhE7ElcuaZTByV5EfevmRY2p/M\n",
              "r2B2teh5iqgAAADYAZ/5akf/ANp7Pk9uIItjlmvvWyFoXTd10CTYcJnxkdSsFX0zr4GmLeZBCR6B\n",
              "JcME5ZgAEoIiWAfmbBPIZ6KHU2yZpuuvT7qaaUVBBShknsqz51yBIxD4amm16UjFbbYv57LP40LL\n",
              "gevSb89KjCM56GnXHiNRRasjcae1fTz1TqJfJGZOsAkLVb5duEjPIKhvKz0hOaf2lptcO+ZPoBHA\n",
              "ofDscHIU+wb9dlYmzoUhrASHCfYCKe+lJLkvjuv1bg+h6dyU5VtXaSrgWKpu8PWsrrz3/OxqxA/J\n",
              "AAABxUGb/kmoQWyZTAhX//44QAaYej5pjYAON3Hr11hywLKTv1BO4mKtczOh6bLqvQx3pssbUIzk\n",
              "0Nx9exSWM3aP7hojrKpSxy2J+/Ki3CxVEMQX3ordpnCVJxfFnRdcRyYxKZv7uHkskK08G+bfyr7S\n",
              "Z4fPmGp+x1TPtAZ+JaXuTcEaBj7WJMSjLRfNfWO45+BYugcQEYtuG42VMYHe21kWFEc6n8d65bnq\n",
              "vnM/6AD4I/c4mZkJ+RmuCUXfZkLs8BEG9ziVlwFTLTzcRkuLvi/x2kuz2ir5uTJBg0E0HX/kJoEw\n",
              "67yKrU4jIoprbfMf2ZEhptw2IW96nKjfBMqZJ4RRsMC3Z4HYLfVZMKCtIjGrZl5qYRjn22nah6JK\n",
              "cet4n7v69kkmuPbOQ7ROYD0C0EyIxnBj52+Wv1AzHwrZL7IkmK4Wntwm5y6dfk8hN6Tb+ihJt5O6\n",
              "htMLiS/EGjupEeskgqtgEiGNBbZUYN+wQ8XL07Gv5w72Y+8QkO9EBS8nyCcT3+4gev3OomDVMA/x\n",
              "tAbrbmEAnqWuSJfMl2QHyKhWW4hFndqx9GPF0TNQI8u9P9ebf+A1uc6GtvcjpJ9mCFdNW4VovIyo\n",
              "eAAAAQJBnhxFFSwj/wCI1biPPl3d8dtqFWoy7/ykF70O9N9NSuK6S0LBxE6tVGOhQP2nzec2cyD1\n",
              "1/XEjlm8vdn0qj6R0j5WXqtP6+rEtpxGqQbQ4566euIqCngpyQvS/Y2ruPSEmgYFce7OuLd0/fJZ\n",
              "YyM1ox1S1E7G0AXkxRip2JuBjCAEA/Z6YvLhAMxj0f9SQj6nOTQnyzvv5qaeTxop8sDUyKsSwrH9\n",
              "eAaBcyWGUkKfgojP4hCZwxh9832kvIDyM1s65b6jWdrcQ/lvNb0DsZvHwHg3tgZb8cgRaEOVPvBB\n",
              "rIi1vNA3kZZD5iRANpE3lB2sHsV9mEYqlV2UjzxMy0nI8IEAAADTAZ47dEf/ANxiycR8btkRUk5I\n",
              "YGSpktAkHXOERlICyl3hhkh7MnqIlMEdJNJqhBwBqo0y1uXUxPPAlwAPwsM9XXMydEzuUbqDb+Z+\n",
              "qX4I8vC7/UuCo5M7qoF9pDiIzDc+Pam7YkkDwHAyMK4QexvB7rs0EMyEWmSOOEvBDPJbtYvDMr/X\n",
              "/C1xkJ5G3z8Xh+FetTGV+qTTpBCsaq6E4Wb+ekvVgCoSMtUZj+rMxaXfLZp69ZExemhiszBUXcDd\n",
              "hgFt1GvIdg+E60RcnwMrEH67jmQKOQAAAOwBnj1qR/8A2pdHD6Mu2d/Qfv7LHfSHc8r0MWg7jqWL\n",
              "jpmAB4xiPRj2vo517RoKo+5FMSAKjDwzPM3dERaClc1P159lADxN2jsFAh890bPQt4vBTP+O4GQC\n",
              "YW0K7V6+rMB4dNkNplgu3HrklbKgP2ALg9ILvcApXCzWfR8Jm+uVRmuagaOCYNsNdf9mwwOOvj8N\n",
              "NXnmgx85jFot+p713B1iEha3kMcOnF4bAjzp1eg7AHoD2x7/Cj1zErgJ4f2sUoa+wqoMxFeY62AF\n",
              "l0S7lx+BZhoo0e4WRcwtlcVL7IWUAAeRm6mny4Qd5tmEJAAAATRBmiJJqEFsmUwIR//94QAZ0fX+\n",
              "CuYDFACRGEzmpjGk86WD3cozGgXv8mH841X3e90LjPxQl+TbPZDgN0wmx2FyDdkucrN0+a6Adbpn\n",
              "sl30n618HuVikae7x0EFlwptD4WHlVAaxXMd1V8ifftXbraSaUDjy0rjeuz6gXGGRvuLCCLQxyRn\n",
              "qPB60ujSDwDhNWDy5EnwnUDeyELrMU9sikC07I7vpRqtJwuXEY791n2GIuml44RJEyfoCPfPF9y+\n",
              "AwWc23obF+5PSo5lE9mYPDYgwijUQIvVOsUWYWP9L94GDoOZliws3ILXQHGnG2urdwASwlkuhlYC\n",
              "dDwEl6DygT9yGgqJ8O+UHji0YBOw62vzcyr2k8dKLPaEJvWyPVl7M+V/eV+hvaQPf/A7gAAABHMh\n",
              "HeVT4gAAAPhBnkBFFSwj/wCI5/FuWi0WbTPenPxdD/ocQOtRwGABnz3c+hO2aW5x+culwoZqH8Yh\n",
              "D7Ooaq7OaTouOtnsJMsKl76n3Up0gDywu9Ot0mQLItZjw9LLMTGygWMEH0lEzgsSeHZNcjsnQbYc\n",
              "9+5Va/HFLISoHrhucx21Y+Y7xwvltdq2124eQDrvXfxo70tSQ31nqq78S2d4DFBamC+SZb/WGFGc\n",
              "+w6Farc6nis9vG7204Jv5A/5p1FK4DcAKdtOFGP+5FC7rfFClvGeSMMugHt+kcWQJdypKrVbXigd\n",
              "MDEiHgXuM76EK+5oVZkL1DgmpQ6F+VGo/kPSwQAAANYBnn90R/8A2BoWDiYHjNOLOfewGCUzb66o\n",
              "9oHDrsZ52CZIYDf0moC51AB7lSXRrEvOLOL6darNV38NF8k3J7XFjHRvO/NnM3Ui26cs883YN1xV\n",
              "ge9WcKRZEN2ZUCfqKPPfHftqY8Z1+yGvqFScFnhKh7gPf/zmdrMVi8yN/OPewM6wvNIK1a8xwmEh\n",
              "lNnlOBSIP0Hb2VW8GjRIePNl9kliydWCGnFuDLUbTqRdZe5QkwKku029W9QSbOxnKagvgiGkajba\n",
              "11zRVCP871eViQOrqtERAgi4AAAA6gGeYWpH/wDc+zIvyB5CePyPW7+UbwAkOe5jAVEaIMIVMR3P\n",
              "hfinzAl5PgleUwoMpD/XP4ivT7EgvK0ZoXP9hiT6SriE4r4GIIWjuqUhoDSxWAiFWVqUhwZso1BY\n",
              "vTyzZcdQvAmM+ZLrdSBvZVMFMU5RW8NkXLpacNKPkx8aUc2LFx3alGF5SQTBlIvBvLxzJt4OpHpx\n",
              "RRHvNUL/RHDofrCDqsgz0/Q7Ik9rr5Nj2SIS3e+IKRPek1Yas8cpCMM45/ISKDd34482PMNPkZ0/\n",
              "DVTEoV2v5+98w495pR0IPEI4lwzNctREjsaFZQAAANJBmmNJqEFsmUwI//yEAGHC/y39J7cG3F5/\n",
              "7mVPS+REHgVTG8EQSxi1qv+47lOxPVsZKo36Y2gvadgWgW0z6UQyD5UPgSNyCdB47iAEGTxp+Ga8\n",
              "LKlDKzahxR3Isle4jwa8jG3dJe9glSsKn0lJATYiDm2Wegv1aCuKnM/awOjR30j+9EhLtWZpZK6N\n",
              "Byv/5UF18XkU3VmDoEwQKG9JjORFyIm7oagC0TwXHKOeBofWy3dXZBWLo8sQBnOzSuvx0i6X7N/Z\n",
              "MD3kyXVt+Axc3/NOh4AAAAfObW9vdgAAAGxtdmhkAAAAAAAAAAAAAAAAAAAD6AAAB9AAAQAAAQAA\n",
              "AAAAAAAAAAAAAAEAAAAAAAAAAAAAAAAAAAABAAAAAAAAAAAAAAAAAABAAAAAAAAAAAAAAAAAAAAA\n",
              "AAAAAAAAAAAAAAAAAAAAAgAABvh0cmFrAAAAXHRraGQAAAADAAAAAAAAAAAAAAABAAAAAAAAB9AA\n",
              "AAAAAAAAAAAAAAAAAAAAAAEAAAAAAAAAAAAAAAAAAAABAAAAAAAAAAAAAAAAAABAAAAAAbAAAAEg\n",
              "AAAAAAAkZWR0cwAAABxlbHN0AAAAAAAAAAEAAAfQAAACAAABAAAAAAZwbWRpYQAAACBtZGhkAAAA\n",
              "AAAAAAAAAAAAAAAyAAAAZABVxAAAAAAALWhkbHIAAAAAAAAAAHZpZGUAAAAAAAAAAAAAAABWaWRl\n",
              "b0hhbmRsZXIAAAAGG21pbmYAAAAUdm1oZAAAAAEAAAAAAAAAAAAAACRkaW5mAAAAHGRyZWYAAAAA\n",
              "AAAAAQAAAAx1cmwgAAAAAQAABdtzdGJsAAAAs3N0c2QAAAAAAAAAAQAAAKNhdmMxAAAAAAAAAAEA\n",
              "AAAAAAAAAAAAAAAAAAAAAbABIABIAAAASAAAAAAAAAABAAAAAAAAAAAAAAAAAAAAAAAAAAAAAAAA\n",
              "AAAAAAAAAAAAGP//AAAAMWF2Y0MBZAAe/+EAGGdkAB6s2UGwloQAAAMABAAAAwGQPFi2WAEABmjr\n",
              "48siwAAAABx1dWlka2hA8l8kT8W6OaUbzwMj8wAAAAAAAAAYc3R0cwAAAAAAAAABAAAAZAAAAQAA\n",
              "AAAUc3RzcwAAAAAAAAABAAAAAQAAAyBjdHRzAAAAAAAAAGIAAAABAAACAAAAAAEAAAUAAAAAAQAA\n",
              "AgAAAAABAAAAAAAAAAEAAAEAAAAAAQAABAAAAAACAAABAAAAAAEAAAUAAAAAAQAAAgAAAAABAAAA\n",
              "AAAAAAEAAAEAAAAAAQAABQAAAAABAAACAAAAAAEAAAAAAAAAAQAAAQAAAAABAAAFAAAAAAEAAAIA\n",
              "AAAAAQAAAAAAAAABAAABAAAAAAEAAAUAAAAAAQAAAgAAAAABAAAAAAAAAAEAAAEAAAAAAQAABQAA\n",
              "AAABAAACAAAAAAEAAAAAAAAAAQAAAQAAAAABAAAFAAAAAAEAAAIAAAAAAQAAAAAAAAABAAABAAAA\n",
              "AAEAAAUAAAAAAQAAAgAAAAABAAAAAAAAAAEAAAEAAAAAAQAABQAAAAABAAACAAAAAAEAAAAAAAAA\n",
              "AQAAAQAAAAABAAAFAAAAAAEAAAIAAAAAAQAAAAAAAAABAAABAAAAAAEAAAUAAAAAAQAAAgAAAAAB\n",
              "AAAAAAAAAAEAAAEAAAAAAQAABQAAAAABAAACAAAAAAEAAAAAAAAAAQAAAQAAAAABAAAFAAAAAAEA\n",
              "AAIAAAAAAQAAAAAAAAABAAABAAAAAAEAAAQAAAAAAgAAAQAAAAABAAAFAAAAAAEAAAIAAAAAAQAA\n",
              "AAAAAAABAAABAAAAAAEAAAUAAAAAAQAAAgAAAAABAAAAAAAAAAEAAAEAAAAAAQAABQAAAAABAAAC\n",
              "AAAAAAEAAAAAAAAAAQAAAQAAAAABAAAFAAAAAAEAAAIAAAAAAQAAAAAAAAABAAABAAAAAAEAAAUA\n",
              "AAAAAQAAAgAAAAABAAAAAAAAAAEAAAEAAAAAAQAABQAAAAABAAACAAAAAAEAAAAAAAAAAQAAAQAA\n",
              "AAABAAAFAAAAAAEAAAIAAAAAAQAAAAAAAAABAAABAAAAAAEAAAUAAAAAAQAAAgAAAAABAAAAAAAA\n",
              "AAEAAAEAAAAAAQAABQAAAAABAAACAAAAAAEAAAAAAAAAAQAAAQAAAAABAAAFAAAAAAEAAAIAAAAA\n",
              "AQAAAAAAAAABAAABAAAAAAEAAAIAAAAAHHN0c2MAAAAAAAAAAQAAAAEAAABkAAAAAQAAAaRzdHN6\n",
              "AAAAAAAAAAAAAABkAAAe6QAAA3oAAAEqAAAA7wAAANAAAAHuAAABAwAAAMYAAAI2AAABCAAAANsA\n",
              "AADdAAACiAAAAPMAAADgAAAA3QAAAkwAAAECAAAA0gAAANUAAAJEAAABEgAAANQAAADPAAACbAAA\n",
              "AQoAAADLAAAAzQAAAqEAAADuAAAA0gAAAMQAAALnAAAA7wAAANoAAADNAAACiwAAAP8AAADuAAAA\n",
              "xAAAAoIAAADxAAAAzwAAANkAAAKLAAAA8QAAAMYAAADdAAACqgAAAO0AAADXAAAAzwAAAosAAAD6\n",
              "AAAAyQAAAMoAAAIaAAAA6wAAAMcAAAIIAAABFQAAAMYAAADMAAACdwAAAPkAAADSAAAAzwAAAj0A\n",
              "AAECAAAA1gAAAMUAAAKUAAAA+wAAANIAAADUAAACVAAAAPYAAADEAAAA5wAAAloAAADhAAAA3QAA\n",
              "AOQAAAJlAAAA/AAAAOEAAADbAAACAAAAAP4AAADHAAAA3AAAAckAAAEGAAAA1wAAAPAAAAE4AAAA\n",
              "/AAAANoAAADuAAAA1gAAABRzdGNvAAAAAAAAAAEAAAAsAAAAYnVkdGEAAABabWV0YQAAAAAAAAAh\n",
              "aGRscgAAAAAAAAAAbWRpcmFwcGwAAAAAAAAAAAAAAAAtaWxzdAAAACWpdG9vAAAAHWRhdGEAAAAB\n",
              "AAAAAExhdmY1Ny44My4xMDA=\n",
              "\">\n",
              "  Your browser does not support the video tag.\n",
              "</video>"
            ]
          },
          "metadata": {}
        }
      ]
    },
    {
      "cell_type": "code",
      "source": [],
      "metadata": {
        "id": "AYz_IU01z8-O"
      },
      "execution_count": null,
      "outputs": []
    }
  ]
}